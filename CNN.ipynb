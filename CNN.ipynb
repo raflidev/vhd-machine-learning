{
 "cells": [
  {
   "cell_type": "code",
   "execution_count": 3,
   "metadata": {},
   "outputs": [
    {
     "name": "stderr",
     "output_type": "stream",
     "text": [
      "2023-08-25 14:22:52.649006: I tensorflow/core/platform/cpu_feature_guard.cc:193] This TensorFlow binary is optimized with oneAPI Deep Neural Network Library (oneDNN) to use the following CPU instructions in performance-critical operations:  SSE4.1 SSE4.2 AVX AVX2 FMA\n",
      "To enable them in other operations, rebuild TensorFlow with the appropriate compiler flags.\n"
     ]
    }
   ],
   "source": [
    "import csv\n",
    "import os\n",
    "import numpy as np\n",
    "import librosa\n",
    "import pandas as pd\n",
    "from sklearn.preprocessing import StandardScaler, LabelEncoder\n",
    "from sklearn.model_selection import train_test_split\n",
    "from tensorflow.keras import models, layers\n",
    "import tensorflow as tf\n",
    "import matplotlib.pyplot as plt"
   ]
  },
  {
   "cell_type": "code",
   "execution_count": 2,
   "metadata": {},
   "outputs": [],
   "source": [
    "dataset_path = \"data/training/\""
   ]
  },
  {
   "cell_type": "code",
   "execution_count": 3,
   "metadata": {},
   "outputs": [],
   "source": [
    "header = 'filename'\n",
    "for i in range(1, 41):\n",
    "  header += f' mfcc{i}'\n",
    "header += ' label'\n",
    "header = header.split()"
   ]
  },
  {
   "cell_type": "code",
   "execution_count": 4,
   "metadata": {},
   "outputs": [
    {
     "name": "stdout",
     "output_type": "stream",
     "text": [
      "\n",
      "Processing: MR\n",
      "\n",
      "Processing: AS\n",
      "\n",
      "Processing: N\n",
      "\n",
      "Processing: MS\n",
      "\n",
      "Processing: MVP\n"
     ]
    }
   ],
   "source": [
    "file = open('data_1.csv', 'w', newline='')\n",
    "with file:\n",
    "  writer = csv.writer(file)\n",
    "  writer.writerow(header)\n",
    "\n",
    "for i, (dirpath, dirnames, filenames) in enumerate(os.walk(dataset_path)):\n",
    "        # ensure we're processing a genre sub-folder level\n",
    "        if dirpath is not dataset_path:\n",
    "          semantic_label = dirpath.split(\"/\")[-1]\n",
    "          print(\"\\nProcessing: {}\".format(semantic_label))\n",
    "          for f in filenames:\n",
    "              file_path = os.path.join(dirpath, f)\n",
    "              to_append = f'{file_path}'\n",
    "              # print(file_path)\n",
    "              y, sr = librosa.load(file_path, mono=True, duration=3, sr=8000)\n",
    "              mfcc = librosa.feature.mfcc(y=y, sr=8000, n_mfcc=40, n_fft=2048, hop_length=512, n_mels=128)\n",
    "              for e in mfcc:\n",
    "                  to_append += f' {np.mean(e.T, axis=0)}'\n",
    "              to_append += f' {semantic_label}'\n",
    "              file = open('data_1.csv', 'a', newline='')\n",
    "              with file:\n",
    "                  writer = csv.writer(file)\n",
    "                  writer.writerow(to_append.split())"
   ]
  },
  {
   "cell_type": "code",
   "execution_count": 5,
   "metadata": {},
   "outputs": [
    {
     "data": {
      "text/html": [
       "<div>\n",
       "<style scoped>\n",
       "    .dataframe tbody tr th:only-of-type {\n",
       "        vertical-align: middle;\n",
       "    }\n",
       "\n",
       "    .dataframe tbody tr th {\n",
       "        vertical-align: top;\n",
       "    }\n",
       "\n",
       "    .dataframe thead th {\n",
       "        text-align: right;\n",
       "    }\n",
       "</style>\n",
       "<table border=\"1\" class=\"dataframe\">\n",
       "  <thead>\n",
       "    <tr style=\"text-align: right;\">\n",
       "      <th></th>\n",
       "      <th>filename</th>\n",
       "      <th>mfcc1</th>\n",
       "      <th>mfcc2</th>\n",
       "      <th>mfcc3</th>\n",
       "      <th>mfcc4</th>\n",
       "      <th>mfcc5</th>\n",
       "      <th>mfcc6</th>\n",
       "      <th>mfcc7</th>\n",
       "      <th>mfcc8</th>\n",
       "      <th>mfcc9</th>\n",
       "      <th>...</th>\n",
       "      <th>mfcc32</th>\n",
       "      <th>mfcc33</th>\n",
       "      <th>mfcc34</th>\n",
       "      <th>mfcc35</th>\n",
       "      <th>mfcc36</th>\n",
       "      <th>mfcc37</th>\n",
       "      <th>mfcc38</th>\n",
       "      <th>mfcc39</th>\n",
       "      <th>mfcc40</th>\n",
       "      <th>label</th>\n",
       "    </tr>\n",
       "  </thead>\n",
       "  <tbody>\n",
       "    <tr>\n",
       "      <th>0</th>\n",
       "      <td>data/training/MR/New_MR_013.wav</td>\n",
       "      <td>-561.301025</td>\n",
       "      <td>155.022980</td>\n",
       "      <td>93.642532</td>\n",
       "      <td>50.721996</td>\n",
       "      <td>23.271015</td>\n",
       "      <td>17.649740</td>\n",
       "      <td>4.087108</td>\n",
       "      <td>-0.790157</td>\n",
       "      <td>-5.714567</td>\n",
       "      <td>...</td>\n",
       "      <td>-2.943175</td>\n",
       "      <td>-2.774009</td>\n",
       "      <td>-1.756414</td>\n",
       "      <td>-1.261873</td>\n",
       "      <td>-1.980241</td>\n",
       "      <td>-2.193557</td>\n",
       "      <td>-1.289309</td>\n",
       "      <td>-0.940492</td>\n",
       "      <td>-1.250548</td>\n",
       "      <td>MR</td>\n",
       "    </tr>\n",
       "    <tr>\n",
       "      <th>1</th>\n",
       "      <td>data/training/MR/New_MR_174.wav</td>\n",
       "      <td>-381.118927</td>\n",
       "      <td>144.878494</td>\n",
       "      <td>66.058075</td>\n",
       "      <td>32.868755</td>\n",
       "      <td>11.143325</td>\n",
       "      <td>5.073029</td>\n",
       "      <td>-5.344355</td>\n",
       "      <td>-6.968649</td>\n",
       "      <td>-9.318002</td>\n",
       "      <td>...</td>\n",
       "      <td>-1.317647</td>\n",
       "      <td>-2.707652</td>\n",
       "      <td>-2.072163</td>\n",
       "      <td>-1.451433</td>\n",
       "      <td>-2.278848</td>\n",
       "      <td>-1.087111</td>\n",
       "      <td>-1.206650</td>\n",
       "      <td>-0.956286</td>\n",
       "      <td>1.023181</td>\n",
       "      <td>MR</td>\n",
       "    </tr>\n",
       "    <tr>\n",
       "      <th>2</th>\n",
       "      <td>data/training/MR/New_MR_182.wav</td>\n",
       "      <td>-381.642578</td>\n",
       "      <td>149.215332</td>\n",
       "      <td>67.535118</td>\n",
       "      <td>31.597643</td>\n",
       "      <td>8.938404</td>\n",
       "      <td>5.797061</td>\n",
       "      <td>-6.082140</td>\n",
       "      <td>-7.110547</td>\n",
       "      <td>-8.396083</td>\n",
       "      <td>...</td>\n",
       "      <td>0.615877</td>\n",
       "      <td>-0.999692</td>\n",
       "      <td>-1.715032</td>\n",
       "      <td>-2.823085</td>\n",
       "      <td>-2.328232</td>\n",
       "      <td>-1.655436</td>\n",
       "      <td>-0.727405</td>\n",
       "      <td>-0.387553</td>\n",
       "      <td>-0.455695</td>\n",
       "      <td>MR</td>\n",
       "    </tr>\n",
       "    <tr>\n",
       "      <th>3</th>\n",
       "      <td>data/training/MR/New_MR_005.wav</td>\n",
       "      <td>-487.026276</td>\n",
       "      <td>163.969498</td>\n",
       "      <td>104.493271</td>\n",
       "      <td>59.541115</td>\n",
       "      <td>29.155336</td>\n",
       "      <td>25.178791</td>\n",
       "      <td>9.755599</td>\n",
       "      <td>1.182872</td>\n",
       "      <td>-4.286721</td>\n",
       "      <td>...</td>\n",
       "      <td>-1.640298</td>\n",
       "      <td>-4.263674</td>\n",
       "      <td>-2.385726</td>\n",
       "      <td>-1.368698</td>\n",
       "      <td>-2.428554</td>\n",
       "      <td>-2.532723</td>\n",
       "      <td>-1.132026</td>\n",
       "      <td>-0.605489</td>\n",
       "      <td>-1.341939</td>\n",
       "      <td>MR</td>\n",
       "    </tr>\n",
       "    <tr>\n",
       "      <th>4</th>\n",
       "      <td>data/training/MR/New_MR_067.wav</td>\n",
       "      <td>-425.867340</td>\n",
       "      <td>146.234711</td>\n",
       "      <td>67.267784</td>\n",
       "      <td>32.912254</td>\n",
       "      <td>5.509755</td>\n",
       "      <td>5.812193</td>\n",
       "      <td>-6.012776</td>\n",
       "      <td>-5.762486</td>\n",
       "      <td>-9.480924</td>\n",
       "      <td>...</td>\n",
       "      <td>0.606438</td>\n",
       "      <td>-1.934377</td>\n",
       "      <td>-2.707426</td>\n",
       "      <td>-1.291925</td>\n",
       "      <td>-2.931485</td>\n",
       "      <td>-1.865651</td>\n",
       "      <td>-0.566616</td>\n",
       "      <td>0.596293</td>\n",
       "      <td>-0.692505</td>\n",
       "      <td>MR</td>\n",
       "    </tr>\n",
       "  </tbody>\n",
       "</table>\n",
       "<p>5 rows × 42 columns</p>\n",
       "</div>"
      ],
      "text/plain": [
       "                          filename       mfcc1       mfcc2       mfcc3  \\\n",
       "0  data/training/MR/New_MR_013.wav -561.301025  155.022980   93.642532   \n",
       "1  data/training/MR/New_MR_174.wav -381.118927  144.878494   66.058075   \n",
       "2  data/training/MR/New_MR_182.wav -381.642578  149.215332   67.535118   \n",
       "3  data/training/MR/New_MR_005.wav -487.026276  163.969498  104.493271   \n",
       "4  data/training/MR/New_MR_067.wav -425.867340  146.234711   67.267784   \n",
       "\n",
       "       mfcc4      mfcc5      mfcc6     mfcc7     mfcc8     mfcc9  ...  \\\n",
       "0  50.721996  23.271015  17.649740  4.087108 -0.790157 -5.714567  ...   \n",
       "1  32.868755  11.143325   5.073029 -5.344355 -6.968649 -9.318002  ...   \n",
       "2  31.597643   8.938404   5.797061 -6.082140 -7.110547 -8.396083  ...   \n",
       "3  59.541115  29.155336  25.178791  9.755599  1.182872 -4.286721  ...   \n",
       "4  32.912254   5.509755   5.812193 -6.012776 -5.762486 -9.480924  ...   \n",
       "\n",
       "     mfcc32    mfcc33    mfcc34    mfcc35    mfcc36    mfcc37    mfcc38  \\\n",
       "0 -2.943175 -2.774009 -1.756414 -1.261873 -1.980241 -2.193557 -1.289309   \n",
       "1 -1.317647 -2.707652 -2.072163 -1.451433 -2.278848 -1.087111 -1.206650   \n",
       "2  0.615877 -0.999692 -1.715032 -2.823085 -2.328232 -1.655436 -0.727405   \n",
       "3 -1.640298 -4.263674 -2.385726 -1.368698 -2.428554 -2.532723 -1.132026   \n",
       "4  0.606438 -1.934377 -2.707426 -1.291925 -2.931485 -1.865651 -0.566616   \n",
       "\n",
       "     mfcc39    mfcc40  label  \n",
       "0 -0.940492 -1.250548     MR  \n",
       "1 -0.956286  1.023181     MR  \n",
       "2 -0.387553 -0.455695     MR  \n",
       "3 -0.605489 -1.341939     MR  \n",
       "4  0.596293 -0.692505     MR  \n",
       "\n",
       "[5 rows x 42 columns]"
      ]
     },
     "execution_count": 5,
     "metadata": {},
     "output_type": "execute_result"
    }
   ],
   "source": [
    "data = pd.read_csv('data_1.csv')\n",
    "data.head()\n"
   ]
  },
  {
   "cell_type": "code",
   "execution_count": 6,
   "metadata": {},
   "outputs": [
    {
     "name": "stdout",
     "output_type": "stream",
     "text": [
      "<class 'pandas.core.frame.DataFrame'>\n",
      "RangeIndex: 1000 entries, 0 to 999\n",
      "Data columns (total 42 columns):\n",
      " #   Column    Non-Null Count  Dtype  \n",
      "---  ------    --------------  -----  \n",
      " 0   filename  1000 non-null   object \n",
      " 1   mfcc1     1000 non-null   float64\n",
      " 2   mfcc2     1000 non-null   float64\n",
      " 3   mfcc3     1000 non-null   float64\n",
      " 4   mfcc4     1000 non-null   float64\n",
      " 5   mfcc5     1000 non-null   float64\n",
      " 6   mfcc6     1000 non-null   float64\n",
      " 7   mfcc7     1000 non-null   float64\n",
      " 8   mfcc8     1000 non-null   float64\n",
      " 9   mfcc9     1000 non-null   float64\n",
      " 10  mfcc10    1000 non-null   float64\n",
      " 11  mfcc11    1000 non-null   float64\n",
      " 12  mfcc12    1000 non-null   float64\n",
      " 13  mfcc13    1000 non-null   float64\n",
      " 14  mfcc14    1000 non-null   float64\n",
      " 15  mfcc15    1000 non-null   float64\n",
      " 16  mfcc16    1000 non-null   float64\n",
      " 17  mfcc17    1000 non-null   float64\n",
      " 18  mfcc18    1000 non-null   float64\n",
      " 19  mfcc19    1000 non-null   float64\n",
      " 20  mfcc20    1000 non-null   float64\n",
      " 21  mfcc21    1000 non-null   float64\n",
      " 22  mfcc22    1000 non-null   float64\n",
      " 23  mfcc23    1000 non-null   float64\n",
      " 24  mfcc24    1000 non-null   float64\n",
      " 25  mfcc25    1000 non-null   float64\n",
      " 26  mfcc26    1000 non-null   float64\n",
      " 27  mfcc27    1000 non-null   float64\n",
      " 28  mfcc28    1000 non-null   float64\n",
      " 29  mfcc29    1000 non-null   float64\n",
      " 30  mfcc30    1000 non-null   float64\n",
      " 31  mfcc31    1000 non-null   float64\n",
      " 32  mfcc32    1000 non-null   float64\n",
      " 33  mfcc33    1000 non-null   float64\n",
      " 34  mfcc34    1000 non-null   float64\n",
      " 35  mfcc35    1000 non-null   float64\n",
      " 36  mfcc36    1000 non-null   float64\n",
      " 37  mfcc37    1000 non-null   float64\n",
      " 38  mfcc38    1000 non-null   float64\n",
      " 39  mfcc39    1000 non-null   float64\n",
      " 40  mfcc40    1000 non-null   float64\n",
      " 41  label     1000 non-null   object \n",
      "dtypes: float64(40), object(2)\n",
      "memory usage: 328.2+ KB\n"
     ]
    }
   ],
   "source": [
    "data.info()"
   ]
  },
  {
   "cell_type": "code",
   "execution_count": 7,
   "metadata": {},
   "outputs": [],
   "source": [
    "scaler = StandardScaler()\n",
    "X = data.drop(['label', 'filename'], axis=1)\n",
    "X = scaler.fit_transform(X)\n",
    "# X = np.reshape(X, (-1, X.shape[0], X.shape[1], 1))\n",
    "y = data.iloc[:, -1]"
   ]
  },
  {
   "cell_type": "code",
   "execution_count": 8,
   "metadata": {},
   "outputs": [
    {
     "data": {
      "text/plain": [
       "(1000, 40)"
      ]
     },
     "execution_count": 8,
     "metadata": {},
     "output_type": "execute_result"
    }
   ],
   "source": [
    "X.shape"
   ]
  },
  {
   "cell_type": "code",
   "execution_count": 9,
   "metadata": {},
   "outputs": [
    {
     "data": {
      "text/plain": [
       "0    MR\n",
       "1    MR\n",
       "2    MR\n",
       "3    MR\n",
       "4    MR\n",
       "Name: label, dtype: object"
      ]
     },
     "execution_count": 9,
     "metadata": {},
     "output_type": "execute_result"
    }
   ],
   "source": [
    "y.head()"
   ]
  },
  {
   "cell_type": "code",
   "execution_count": 10,
   "metadata": {},
   "outputs": [
    {
     "data": {
      "text/plain": [
       "array([[-2.90010007,  1.53116257,  1.67424877, ...,  0.01750527,\n",
       "         0.14969323, -0.07461997],\n",
       "       [ 0.67799387,  1.01349152,  0.0498636 , ...,  0.0697989 ,\n",
       "         0.13856457,  1.57191769],\n",
       "       [ 0.66759509,  1.23479948,  0.13684327, ...,  0.37298989,\n",
       "         0.53930756,  0.50097859],\n",
       "       ...,\n",
       "       [-0.1263006 ,  0.64187785,  0.90058981, ...,  4.06122109,\n",
       "         3.16653942,  2.84888317],\n",
       "       [-0.48037767,  0.47805784,  0.34642402, ...,  2.20523125,\n",
       "         2.80843085,  2.61389214],\n",
       "       [ 0.63801322,  0.62380687, -0.66268666, ...,  0.08938006,\n",
       "         0.20699407, -0.71180294]])"
      ]
     },
     "execution_count": 10,
     "metadata": {},
     "output_type": "execute_result"
    }
   ],
   "source": [
    "X"
   ]
  },
  {
   "cell_type": "code",
   "execution_count": 11,
   "metadata": {},
   "outputs": [],
   "source": [
    "X_train, X_test, y_train, y_test = train_test_split(X, y, test_size=0.2, random_state=42)"
   ]
  },
  {
   "cell_type": "code",
   "execution_count": 12,
   "metadata": {},
   "outputs": [
    {
     "data": {
      "text/plain": [
       "(200,)"
      ]
     },
     "execution_count": 12,
     "metadata": {},
     "output_type": "execute_result"
    }
   ],
   "source": [
    "y_test.shape"
   ]
  },
  {
   "cell_type": "code",
   "execution_count": 13,
   "metadata": {},
   "outputs": [
    {
     "data": {
      "text/plain": [
       "(800, 40)"
      ]
     },
     "execution_count": 13,
     "metadata": {},
     "output_type": "execute_result"
    }
   ],
   "source": [
    "X_train.shape"
   ]
  },
  {
   "cell_type": "code",
   "execution_count": 14,
   "metadata": {},
   "outputs": [
    {
     "data": {
      "text/plain": [
       "array([[-0.13230631,  0.99203029,  0.16740986, ..., -0.05815258,\n",
       "         0.69412604,  1.60468913],\n",
       "       [ 0.20823339,  0.03670529,  0.29329921, ..., -0.11010788,\n",
       "         0.37620922,  0.17420831],\n",
       "       [-0.82509591,  0.83089118,  0.94059573, ...,  0.21279789,\n",
       "         0.45295723, -0.78596223],\n",
       "       ...,\n",
       "       [-1.1881082 , -0.99734231,  0.02015827, ..., -1.29199897,\n",
       "        -0.70903708, -0.07008542],\n",
       "       [ 0.39138005, -0.7561748 , -0.37801928, ..., -0.9161895 ,\n",
       "        -1.5409592 , -1.58677184],\n",
       "       [ 0.61940948,  1.27268951, -0.01188734, ..., -0.04019808,\n",
       "         0.90196728,  1.46805011]])"
      ]
     },
     "execution_count": 14,
     "metadata": {},
     "output_type": "execute_result"
    }
   ],
   "source": [
    "X_train"
   ]
  },
  {
   "cell_type": "code",
   "execution_count": 15,
   "metadata": {},
   "outputs": [
    {
     "name": "stdout",
     "output_type": "stream",
     "text": [
      "(200,)\n",
      "(800, 40, 1)\n",
      "(200, 40, 1)\n"
     ]
    }
   ],
   "source": [
    "lb = LabelEncoder()\n",
    "X_train = np.expand_dims(X_train, axis=2)\n",
    "X_test = np.expand_dims(X_test, axis=2)\n",
    "print(y_test.shape)\n",
    "y_test = tf.keras.utils.to_categorical(lb.fit_transform(y_test))\n",
    "y_train = tf.keras.utils.to_categorical(lb.fit_transform(y_train))\n",
    "print(X_train.shape)\n",
    "print(X_test.shape)\n",
    "\n"
   ]
  },
  {
   "cell_type": "code",
   "execution_count": 16,
   "metadata": {},
   "outputs": [],
   "source": [
    "def build_model():\n",
    "    model = models.Sequential(\n",
    "        [\n",
    "            layers.Conv1D(64, (3), activation=\"relu\", input_shape=(X_train.shape[1], 1)),\n",
    "            layers.MaxPooling1D((3), strides=(2), padding=\"same\"),\n",
    "\n",
    "            layers.Conv1D(32, (3) , activation=\"relu\"),\n",
    "            layers.MaxPooling1D((3), strides=(2), padding=\"same\"),\n",
    "\n",
    "            layers.Flatten(),\n",
    "            layers.Dense(64, activation=\"relu\"),\n",
    "            layers.Dense(5, activation=\"softmax\"),\n",
    "        ]\n",
    "    )\n",
    "\n",
    "    return model"
   ]
  },
  {
   "cell_type": "code",
   "execution_count": 17,
   "metadata": {},
   "outputs": [
    {
     "name": "stdout",
     "output_type": "stream",
     "text": [
      "Model: \"sequential\"\n",
      "_________________________________________________________________\n",
      " Layer (type)                Output Shape              Param #   \n",
      "=================================================================\n",
      " conv1d (Conv1D)             (None, 38, 64)            256       \n",
      "                                                                 \n",
      " max_pooling1d (MaxPooling1D  (None, 19, 64)           0         \n",
      " )                                                               \n",
      "                                                                 \n",
      " conv1d_1 (Conv1D)           (None, 17, 32)            6176      \n",
      "                                                                 \n",
      " max_pooling1d_1 (MaxPooling  (None, 9, 32)            0         \n",
      " 1D)                                                             \n",
      "                                                                 \n",
      " flatten (Flatten)           (None, 288)               0         \n",
      "                                                                 \n",
      " dense (Dense)               (None, 64)                18496     \n",
      "                                                                 \n",
      " dense_1 (Dense)             (None, 5)                 325       \n",
      "                                                                 \n",
      "=================================================================\n",
      "Total params: 25,253\n",
      "Trainable params: 25,253\n",
      "Non-trainable params: 0\n",
      "_________________________________________________________________\n"
     ]
    },
    {
     "name": "stderr",
     "output_type": "stream",
     "text": [
      "2023-08-25 13:36:30.714412: I tensorflow/core/platform/cpu_feature_guard.cc:193] This TensorFlow binary is optimized with oneAPI Deep Neural Network Library (oneDNN) to use the following CPU instructions in performance-critical operations:  SSE4.1 SSE4.2 AVX AVX2 FMA\n",
      "To enable them in other operations, rebuild TensorFlow with the appropriate compiler flags.\n",
      "2023-08-25 13:36:30.715972: I tensorflow/core/common_runtime/process_util.cc:146] Creating new thread pool with default inter op setting: 2. Tune using inter_op_parallelism_threads for best performance.\n"
     ]
    }
   ],
   "source": [
    "model = build_model()\n",
    "model.summary()"
   ]
  },
  {
   "cell_type": "code",
   "execution_count": 18,
   "metadata": {},
   "outputs": [
    {
     "name": "stdout",
     "output_type": "stream",
     "text": [
      "Epoch 1/30\n",
      "25/25 [==============================] - 1s 23ms/step - loss: 1.5770 - acc: 0.3613 - val_loss: 1.5450 - val_acc: 0.5150\n",
      "Epoch 2/30\n",
      "25/25 [==============================] - 0s 11ms/step - loss: 1.5160 - acc: 0.5075 - val_loss: 1.4853 - val_acc: 0.5700\n",
      "Epoch 3/30\n",
      "25/25 [==============================] - 0s 15ms/step - loss: 1.4419 - acc: 0.5750 - val_loss: 1.4038 - val_acc: 0.5550\n",
      "Epoch 4/30\n",
      "25/25 [==============================] - 0s 14ms/step - loss: 1.3457 - acc: 0.5900 - val_loss: 1.2984 - val_acc: 0.6400\n",
      "Epoch 5/30\n",
      "25/25 [==============================] - 0s 12ms/step - loss: 1.2352 - acc: 0.6488 - val_loss: 1.1854 - val_acc: 0.6650\n",
      "Epoch 6/30\n",
      "25/25 [==============================] - 0s 10ms/step - loss: 1.1207 - acc: 0.6737 - val_loss: 1.0755 - val_acc: 0.7000\n",
      "Epoch 7/30\n",
      "25/25 [==============================] - 0s 10ms/step - loss: 1.0152 - acc: 0.7075 - val_loss: 0.9767 - val_acc: 0.7500\n",
      "Epoch 8/30\n",
      "25/25 [==============================] - 0s 10ms/step - loss: 0.9265 - acc: 0.7400 - val_loss: 0.8972 - val_acc: 0.7750\n",
      "Epoch 9/30\n",
      "25/25 [==============================] - 0s 10ms/step - loss: 0.8526 - acc: 0.7475 - val_loss: 0.8256 - val_acc: 0.7950\n",
      "Epoch 10/30\n",
      "25/25 [==============================] - 0s 12ms/step - loss: 0.7908 - acc: 0.7638 - val_loss: 0.7588 - val_acc: 0.7900\n",
      "Epoch 11/30\n",
      "25/25 [==============================] - 0s 11ms/step - loss: 0.7362 - acc: 0.7688 - val_loss: 0.7073 - val_acc: 0.7900\n",
      "Epoch 12/30\n",
      "25/25 [==============================] - 0s 12ms/step - loss: 0.6910 - acc: 0.7700 - val_loss: 0.6643 - val_acc: 0.7850\n",
      "Epoch 13/30\n",
      "25/25 [==============================] - 0s 9ms/step - loss: 0.6505 - acc: 0.7850 - val_loss: 0.6301 - val_acc: 0.8150\n",
      "Epoch 14/30\n",
      "25/25 [==============================] - 0s 13ms/step - loss: 0.6157 - acc: 0.7987 - val_loss: 0.5966 - val_acc: 0.8400\n",
      "Epoch 15/30\n",
      "25/25 [==============================] - 0s 9ms/step - loss: 0.5843 - acc: 0.8150 - val_loss: 0.5662 - val_acc: 0.8450\n",
      "Epoch 16/30\n",
      "25/25 [==============================] - 0s 9ms/step - loss: 0.5573 - acc: 0.8175 - val_loss: 0.5443 - val_acc: 0.8500\n",
      "Epoch 17/30\n",
      "25/25 [==============================] - 0s 9ms/step - loss: 0.5304 - acc: 0.8388 - val_loss: 0.5236 - val_acc: 0.8550\n",
      "Epoch 18/30\n",
      "25/25 [==============================] - 1s 38ms/step - loss: 0.5080 - acc: 0.8500 - val_loss: 0.5008 - val_acc: 0.8550\n",
      "Epoch 19/30\n",
      "25/25 [==============================] - 1s 31ms/step - loss: 0.4859 - acc: 0.8612 - val_loss: 0.4859 - val_acc: 0.8600\n",
      "Epoch 20/30\n",
      "25/25 [==============================] - 1s 26ms/step - loss: 0.4657 - acc: 0.8675 - val_loss: 0.4690 - val_acc: 0.8600\n",
      "Epoch 21/30\n",
      "25/25 [==============================] - 0s 13ms/step - loss: 0.4471 - acc: 0.8687 - val_loss: 0.4528 - val_acc: 0.8800\n",
      "Epoch 22/30\n",
      "25/25 [==============================] - 0s 15ms/step - loss: 0.4305 - acc: 0.8838 - val_loss: 0.4426 - val_acc: 0.8800\n",
      "Epoch 23/30\n",
      "25/25 [==============================] - 1s 23ms/step - loss: 0.4118 - acc: 0.8775 - val_loss: 0.4269 - val_acc: 0.8950\n",
      "Epoch 24/30\n",
      "25/25 [==============================] - 1s 25ms/step - loss: 0.3979 - acc: 0.8963 - val_loss: 0.4155 - val_acc: 0.9050\n",
      "Epoch 25/30\n",
      "25/25 [==============================] - 0s 15ms/step - loss: 0.3808 - acc: 0.8988 - val_loss: 0.4026 - val_acc: 0.8950\n",
      "Epoch 26/30\n",
      "25/25 [==============================] - 0s 19ms/step - loss: 0.3678 - acc: 0.9025 - val_loss: 0.3952 - val_acc: 0.9050\n",
      "Epoch 27/30\n",
      "25/25 [==============================] - 0s 13ms/step - loss: 0.3542 - acc: 0.9013 - val_loss: 0.3835 - val_acc: 0.9050\n",
      "Epoch 28/30\n",
      "25/25 [==============================] - 0s 19ms/step - loss: 0.3426 - acc: 0.9062 - val_loss: 0.3751 - val_acc: 0.9100\n",
      "Epoch 29/30\n",
      "25/25 [==============================] - 1s 29ms/step - loss: 0.3301 - acc: 0.9062 - val_loss: 0.3661 - val_acc: 0.9100\n",
      "Epoch 30/30\n",
      "25/25 [==============================] - 0s 16ms/step - loss: 0.3188 - acc: 0.9125 - val_loss: 0.3590 - val_acc: 0.9100\n"
     ]
    }
   ],
   "source": [
    "optimazer = tf.keras.optimizers.Adam(learning_rate=0.0001)\n",
    "model.compile(optimizer=optimazer, loss='categorical_crossentropy', metrics=['acc'])\n",
    "history = model.fit(X_train, y_train, epochs=30, batch_size=32, validation_data=(X_test, y_test))"
   ]
  },
  {
   "cell_type": "code",
   "execution_count": 19,
   "metadata": {},
   "outputs": [
    {
     "name": "stdout",
     "output_type": "stream",
     "text": [
      "7/7 [==============================] - 0s 8ms/step - loss: 0.3590 - acc: 0.9100\n",
      "Accuracy on test set is: 0.9100000262260437\n"
     ]
    },
    {
     "data": {
      "image/png": "[encoded data removed]",
      "text/plain": [
       "<Figure size 800x800 with 1 Axes>"
      ]
     },
     "metadata": {},
     "output_type": "display_data"
    }
   ],
   "source": [
    "# evaluate model on test set\n",
    "test_error, test_accuracy = model.evaluate(X_test, y_test, verbose=1)\n",
    "print(\"Accuracy on test set is: {}\".format(test_accuracy))\n",
    "\n",
    "\n",
    "# plot accuracy/error for training and validation\n",
    "plt.figure(figsize=(8, 8))\n",
    "plt.subplot(2, 1, 1)\n",
    "plt.plot(history.history['acc'], label='Training Accuracy')\n",
    "plt.plot(history.history['val_acc'], label='Validation Accuracy')\n",
    "plt.legend(loc='lower right')\n",
    "plt.ylabel('Accuracy')\n",
    "model.save('model_mfcc.h5')"
   ]
  },
  {
   "cell_type": "markdown",
   "metadata": {},
   "source": [
    "### Testing"
   ]
  },
  {
   "cell_type": "code",
   "execution_count": 20,
   "metadata": {},
   "outputs": [
    {
     "name": "stdout",
     "output_type": "stream",
     "text": [
      "Model: \"sequential\"\n",
      "_________________________________________________________________\n",
      " Layer (type)                Output Shape              Param #   \n",
      "=================================================================\n",
      " conv1d (Conv1D)             (None, 38, 64)            256       \n",
      "                                                                 \n",
      " max_pooling1d (MaxPooling1D  (None, 19, 64)           0         \n",
      " )                                                               \n",
      "                                                                 \n",
      " conv1d_1 (Conv1D)           (None, 17, 32)            6176      \n",
      "                                                                 \n",
      " max_pooling1d_1 (MaxPooling  (None, 9, 32)            0         \n",
      " 1D)                                                             \n",
      "                                                                 \n",
      " flatten (Flatten)           (None, 288)               0         \n",
      "                                                                 \n",
      " dense (Dense)               (None, 64)                18496     \n",
      "                                                                 \n",
      " dense_1 (Dense)             (None, 5)                 325       \n",
      "                                                                 \n",
      "=================================================================\n",
      "Total params: 25,253\n",
      "Trainable params: 25,253\n",
      "Non-trainable params: 0\n",
      "_________________________________________________________________\n"
     ]
    }
   ],
   "source": [
    "new_model = tf.keras.models.load_model('model_mfcc.h5')\n",
    "new_model.summary()\n",
    "\n"
   ]
  },
  {
   "cell_type": "code",
   "execution_count": 24,
   "metadata": {},
   "outputs": [],
   "source": [
    "import wave\n",
    "import json\n",
    "header = 'filename'\n",
    "for i in range(1, 41):\n",
    "    header += f' mfcc{i}'\n",
    "header += ' label'\n",
    "header = header.split()\n",
    "\n",
    "\n",
    "def extract_mfcc(audiofile):\n",
    "    file = open('test.csv', 'w', newline='')\n",
    "    with file:\n",
    "        writer = csv.writer(file)\n",
    "        writer.writerow(header)\n",
    "    y, sr = librosa.load(audiofile, mono=True, duration=3, sr=8000)\n",
    "    mfcc = librosa.feature.mfcc(y=y, sr=8000, n_mfcc=40, n_fft=2048, hop_length=512, n_mels=128)\n",
    "    to_append = f'Signal'\n",
    "    for e in mfcc:\n",
    "        to_append += f' {np.mean(e.T, axis=0)}'\n",
    "    file = open('test.csv', 'a', newline='')\n",
    "    with file:\n",
    "        writer = csv.writer(file)\n",
    "        writer.writerow(to_append.split())\n",
    "\n",
    "def predictCoba(audio):\n",
    "    model = tf.keras.models.load_model('model_mfcc.h5')\n",
    "    extract_mfcc(audio)\n",
    "    data = pd.read_csv('test.csv')\n",
    "    X = data.drop(['filename','label'], axis=1)\n",
    "    X = np.array(X)\n",
    "    X = np.expand_dims(X, axis=2)\n",
    "    pred = model.predict(X)\n",
    "    print(pred)\n",
    "    pred = np.argmax(pred, axis=1)\n",
    "    print(pred)\n",
    "\n",
    "\n",
    "def predik(audio):\n",
    "    dt_audio = audio\n",
    "    model = 'model_mfcc.tflite'\n",
    "    extract_mfcc(dt_audio)\n",
    "    data = pd.read_csv('test.csv')\n",
    "    data = data.drop(['filename','label'], axis=1)\n",
    "    X = np.array(data.iloc[:, :-1], dtype=float)\n",
    "\n",
    "    # Load TFLite model and allocate tensors.\n",
    "    interpreter = tf.lite.Interpreter(model_path=model)\n",
    "    interpreter.allocate_tensors()\n",
    "\n",
    "    # Get input and output tensors.\n",
    "    input_details = interpreter.get_input_details()\n",
    "    output_details = interpreter.get_output_details()\n",
    "\n",
    "    # Test model on random input data.\n",
    "    input_shape = input_details[0]['shape']\n",
    "    input_data = np.array(X, dtype=np.float32)\n",
    "    interpreter.set_tensor(input_details[0]['index'], input_data)\n",
    "\n",
    "    \n",
    "    interpreter.invoke()\n",
    "\n",
    "    # The function `get_tensor()` returns a copy of the tensor data.\n",
    "    # Use `tensor()` in order to get a pointer to the tensor.\n",
    "    output_data = interpreter.get_tensor(output_details[0]['index'])\n",
    "\n",
    "    hasil = np.argmax(output_data)\n",
    "\n",
    "    spf = wave.open(dt_audio, 'r')\n",
    "    signal = spf.readframes(-1)\n",
    "    signal = np.fromstring(signal, dtype='int16')\n",
    "    fs = spf.getframerate()\n",
    "    Time = np.linspace(0, len(signal) / fs, num=len(signal))\n",
    "\n",
    "    path_dir = {}\n",
    "    path_dir['z'] = f' {hasil}'\n",
    "    path_dir['y'] = f' {signal}'\n",
    "    path_dir['x'] = f' {Time}'\n",
    "    # print(json.dumps(path_dir, separators=(',', ':')))\n",
    "    return json.dumps({\"file\": audio, \"hasil\": str(hasil)})"
   ]
  },
  {
   "cell_type": "code",
   "execution_count": 26,
   "metadata": {},
   "outputs": [
    {
     "name": "stdout",
     "output_type": "stream",
     "text": [
      "1/1 [==============================] - 0s 115ms/step\n",
      "[[0.0000000e+00 4.8198518e-36 1.0000000e+00 0.0000000e+00 1.1326858e-23]]\n",
      "[2]\n"
     ]
    }
   ],
   "source": [
    "predictCoba('data/training/N/New_N_003.wav')"
   ]
  }
 ],
 "metadata": {
  "kernelspec": {
   "display_name": "tf",
   "language": "python",
   "name": "python3"
  },
  "language_info": {
   "codemirror_mode": {
    "name": "ipython",
    "version": 3
   },
   "file_extension": ".py",
   "mimetype": "text/x-python",
   "name": "python",
   "nbconvert_exporter": "python",
   "pygments_lexer": "ipython3",
   "version": "3.10.9"
  },
  "orig_nbformat": 4
 },
 "nbformat": 4,
 "nbformat_minor": 2
}
