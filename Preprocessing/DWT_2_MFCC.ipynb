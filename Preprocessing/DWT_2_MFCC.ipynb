{
 "cells": [
  {
   "cell_type": "code",
   "execution_count": 1,
   "metadata": {},
   "outputs": [
    {
     "name": "stderr",
     "output_type": "stream",
     "text": [
      "2023-09-11 00:01:29.546402: I tensorflow/core/platform/cpu_feature_guard.cc:193] This TensorFlow binary is optimized with oneAPI Deep Neural Network Library (oneDNN) to use the following CPU instructions in performance-critical operations:  SSE4.1 SSE4.2 AVX AVX2 FMA\n",
      "To enable them in other operations, rebuild TensorFlow with the appropriate compiler flags.\n"
     ]
    }
   ],
   "source": [
    "import csv\n",
    "import os\n",
    "import numpy as np\n",
    "import librosa\n",
    "import pandas as pd\n",
    "from sklearn.preprocessing import StandardScaler, LabelEncoder\n",
    "from sklearn.model_selection import train_test_split\n",
    "from tensorflow.keras import models, layers\n",
    "import tensorflow as tf\n",
    "import matplotlib.pyplot as plt"
   ]
  },
  {
   "cell_type": "code",
   "execution_count": 2,
   "metadata": {},
   "outputs": [],
   "source": [
    "dataset_path = \"../data/DWT/\""
   ]
  },
  {
   "cell_type": "code",
   "execution_count": 3,
   "metadata": {},
   "outputs": [],
   "source": [
    "header = 'filename'\n",
    "for i in range(1, 41):\n",
    "  header += f' mfcc{i}'\n",
    "header += ' label'\n",
    "header = header.split()"
   ]
  },
  {
   "cell_type": "code",
   "execution_count": 5,
   "metadata": {},
   "outputs": [
    {
     "name": "stdout",
     "output_type": "stream",
     "text": [
      "\n",
      "Processing: MR\n",
      "\n",
      "Processing: AS\n",
      "\n",
      "Processing: N\n",
      "\n",
      "Processing: MS\n",
      "\n",
      "Processing: MVP\n"
     ]
    }
   ],
   "source": [
    "file = open('../data_dwt.csv', 'w', newline='')\n",
    "with file:\n",
    "  writer = csv.writer(file)\n",
    "  writer.writerow(header)\n",
    "\n",
    "for i, (dirpath, dirnames, filenames) in enumerate(os.walk(dataset_path)):\n",
    "        # ensure we're processing a genre sub-folder level\n",
    "        if dirpath is not dataset_path:\n",
    "          semantic_label = dirpath.split(\"/\")[-1]\n",
    "          print(\"\\nProcessing: {}\".format(semantic_label))\n",
    "          for f in filenames:\n",
    "              file_path = os.path.join(dirpath, f)\n",
    "              to_append = f'{file_path}'\n",
    "              # print(file_path)\n",
    "              y, sr = librosa.load(file_path, mono=True, duration=3, sr=8000)\n",
    "              mfcc = librosa.feature.mfcc(y=y, sr=8000, n_mfcc=40, n_fft=2048, hop_length=512, n_mels=128)\n",
    "              for e in mfcc:\n",
    "                  to_append += f' {np.mean(e.T, axis=0)}'\n",
    "              to_append += f' {semantic_label}'\n",
    "              file = open('../data_dwt.csv', 'a', newline='')\n",
    "              with file:\n",
    "                  writer = csv.writer(file)\n",
    "                  writer.writerow(to_append.split())"
   ]
  }
 ],
 "metadata": {
  "kernelspec": {
   "display_name": "tf",
   "language": "python",
   "name": "python3"
  },
  "language_info": {
   "codemirror_mode": {
    "name": "ipython",
    "version": 3
   },
   "file_extension": ".py",
   "mimetype": "text/x-python",
   "name": "python",
   "nbconvert_exporter": "python",
   "pygments_lexer": "ipython3",
   "version": "3.10.9"
  },
  "orig_nbformat": 4
 },
 "nbformat": 4,
 "nbformat_minor": 2
}
