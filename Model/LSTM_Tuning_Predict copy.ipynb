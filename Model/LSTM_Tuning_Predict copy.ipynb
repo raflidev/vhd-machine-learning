{
 "cells": [
  {
   "cell_type": "code",
   "execution_count": 1,
   "metadata": {},
   "outputs": [
    {
     "name": "stderr",
     "output_type": "stream",
     "text": [
      "2023-11-22 17:38:40.175265: I tensorflow/tsl/cuda/cudart_stub.cc:28] Could not find cuda drivers on your machine, GPU will not be used.\n",
      "2023-11-22 17:38:40.215838: E tensorflow/compiler/xla/stream_executor/cuda/cuda_dnn.cc:9342] Unable to register cuDNN factory: Attempting to register factory for plugin cuDNN when one has already been registered\n",
      "2023-11-22 17:38:40.215879: E tensorflow/compiler/xla/stream_executor/cuda/cuda_fft.cc:609] Unable to register cuFFT factory: Attempting to register factory for plugin cuFFT when one has already been registered\n",
      "2023-11-22 17:38:40.215910: E tensorflow/compiler/xla/stream_executor/cuda/cuda_blas.cc:1518] Unable to register cuBLAS factory: Attempting to register factory for plugin cuBLAS when one has already been registered\n",
      "2023-11-22 17:38:40.222724: I tensorflow/tsl/cuda/cudart_stub.cc:28] Could not find cuda drivers on your machine, GPU will not be used.\n",
      "2023-11-22 17:38:40.223385: I tensorflow/core/platform/cpu_feature_guard.cc:182] This TensorFlow binary is optimized to use available CPU instructions in performance-critical operations.\n",
      "To enable the following instructions: AVX2 FMA, in other operations, rebuild TensorFlow with the appropriate compiler flags.\n",
      "2023-11-22 17:38:41.092367: W tensorflow/compiler/tf2tensorrt/utils/py_utils.cc:38] TF-TRT Warning: Could not find TensorRT\n"
     ]
    }
   ],
   "source": [
    "import wave\n",
    "import json\n",
    "import librosa\n",
    "import csv\n",
    "import numpy as np\n",
    "from pywt import wavedec\n",
    "import pandas as pd\n",
    "import tensorflow as tf\n",
    "import os\n",
    "import matplotlib.pyplot as plt"
   ]
  },
  {
   "cell_type": "code",
   "execution_count": 2,
   "metadata": {},
   "outputs": [
    {
     "name": "stdout",
     "output_type": "stream",
     "text": [
      "Model: \"sequential_22\"\n",
      "_________________________________________________________________\n",
      " Layer (type)                Output Shape              Param #   \n",
      "=================================================================\n",
      " lstm_22 (LSTM)              (None, 112, 64)           16896     \n",
      "                                                                 \n",
      " dense_88 (Dense)            (None, 112, 32)           2080      \n",
      "                                                                 \n",
      " flatten_22 (Flatten)        (None, 3584)              0         \n",
      "                                                                 \n",
      " dense_89 (Dense)            (None, 64)                229440    \n",
      "                                                                 \n",
      " dense_90 (Dense)            (None, 32)                2080      \n",
      "                                                                 \n",
      " batch_normalization_12 (Ba  (None, 32)                128       \n",
      " tchNormalization)                                               \n",
      "                                                                 \n",
      " dense_91 (Dense)            (None, 5)                 165       \n",
      "                                                                 \n",
      "=================================================================\n",
      "Total params: 250789 (979.64 KB)\n",
      "Trainable params: 250725 (979.39 KB)\n",
      "Non-trainable params: 64 (256.00 Byte)\n",
      "_________________________________________________________________\n"
     ]
    }
   ],
   "source": [
    "model_uri = '../modelh5/LSTM_FT_KFold_2.h5'\n",
    "new_model = tf.keras.models.load_model(model_uri)\n",
    "new_model.summary()\n"
   ]
  },
  {
   "cell_type": "code",
   "execution_count": 3,
   "metadata": {},
   "outputs": [],
   "source": [
    "import wave\n",
    "import json\n",
    "header = 'filename'\n",
    "for i in range(1, 41):\n",
    "    header += f' mfcc{i}'\n",
    "for i in range(1, 13):\n",
    "  header += f' chroma{i}'\n",
    "for i in range(1, 61):\n",
    "  header += f' cqt{i}'\n",
    "header += ' label'\n",
    "header = header.split()\n",
    "file = open('testing_apicta.csv', 'w', newline='')\n",
    "with file:\n",
    "    writer = csv.writer(file)\n",
    "    writer.writerow(header)\n",
    "\n"
   ]
  },
  {
   "cell_type": "code",
   "execution_count": 4,
   "metadata": {},
   "outputs": [],
   "source": [
    "dataset_path = '../physionet/'"
   ]
  },
  {
   "cell_type": "code",
   "execution_count": 5,
   "metadata": {},
   "outputs": [],
   "source": [
    "for i, (dirpath, dirnames, filenames) in enumerate(os.walk(dataset_path)):\n",
    "        # ensure we're processing a genre sub-folder level\n",
    "        if dirpath is not dataset_path:\n",
    "            semantic_label = dirpath.split(\"/\")[-1]\n",
    "            print(\"\\nProcessing: {}\".format(semantic_label))\n",
    "            for f in filenames:\n",
    "                file_path = os.path.join(dirpath, f)\n",
    "                to_append = f'{file_path}'\n",
    "                y, sr = librosa.load(file_path, mono=True, duration=3, sr=8000)\n",
    "                coeffs = wavedec(y, 'db1', level=10)\n",
    "                cA,cD10,cD9,cD8,cD7,cD6,cD5,cD4,cD3,cD2, cD1 = coeffs\n",
    "                mfcc = librosa.feature.mfcc(y=cD1, sr=8000, n_mfcc=40, n_fft=2048, hop_length=512, n_mels=128)\n",
    "                rms = librosa.feature.chroma_stft(y=cD1, sr=8000)\n",
    "                cqt = np.abs(librosa.cqt(y=cD1, sr=sr, n_bins=60)) \n",
    "                combined_features = np.concatenate((mfcc, rms, cqt), axis=0)\n",
    "                to_append = f'{file_path}'\n",
    "                for e in combined_features:\n",
    "                    to_append += f' {np.mean(e.T, axis=0)}'\n",
    "                to_append += f' {semantic_label}'\n",
    "                file = open('testing.csv', 'a', newline='')\n",
    "                with file:\n",
    "                    writer = csv.writer(file)\n",
    "                    writer.writerow(to_append.split())\n"
   ]
  },
  {
   "cell_type": "code",
   "execution_count": 6,
   "metadata": {},
   "outputs": [
    {
     "data": {
      "text/html": [
       "<div>\n",
       "<style scoped>\n",
       "    .dataframe tbody tr th:only-of-type {\n",
       "        vertical-align: middle;\n",
       "    }\n",
       "\n",
       "    .dataframe tbody tr th {\n",
       "        vertical-align: top;\n",
       "    }\n",
       "\n",
       "    .dataframe thead th {\n",
       "        text-align: right;\n",
       "    }\n",
       "</style>\n",
       "<table border=\"1\" class=\"dataframe\">\n",
       "  <thead>\n",
       "    <tr style=\"text-align: right;\">\n",
       "      <th></th>\n",
       "      <th>filename</th>\n",
       "      <th>mfcc1</th>\n",
       "      <th>mfcc2</th>\n",
       "      <th>mfcc3</th>\n",
       "      <th>mfcc4</th>\n",
       "      <th>mfcc5</th>\n",
       "      <th>mfcc6</th>\n",
       "      <th>mfcc7</th>\n",
       "      <th>mfcc8</th>\n",
       "      <th>mfcc9</th>\n",
       "      <th>...</th>\n",
       "      <th>cqt52</th>\n",
       "      <th>cqt53</th>\n",
       "      <th>cqt54</th>\n",
       "      <th>cqt55</th>\n",
       "      <th>cqt56</th>\n",
       "      <th>cqt57</th>\n",
       "      <th>cqt58</th>\n",
       "      <th>cqt59</th>\n",
       "      <th>cqt60</th>\n",
       "      <th>label</th>\n",
       "    </tr>\n",
       "  </thead>\n",
       "  <tbody>\n",
       "  </tbody>\n",
       "</table>\n",
       "<p>0 rows × 114 columns</p>\n",
       "</div>"
      ],
      "text/plain": [
       "Empty DataFrame\n",
       "Columns: [filename, mfcc1, mfcc2, mfcc3, mfcc4, mfcc5, mfcc6, mfcc7, mfcc8, mfcc9, mfcc10, mfcc11, mfcc12, mfcc13, mfcc14, mfcc15, mfcc16, mfcc17, mfcc18, mfcc19, mfcc20, mfcc21, mfcc22, mfcc23, mfcc24, mfcc25, mfcc26, mfcc27, mfcc28, mfcc29, mfcc30, mfcc31, mfcc32, mfcc33, mfcc34, mfcc35, mfcc36, mfcc37, mfcc38, mfcc39, mfcc40, chroma1, chroma2, chroma3, chroma4, chroma5, chroma6, chroma7, chroma8, chroma9, chroma10, chroma11, chroma12, cqt1, cqt2, cqt3, cqt4, cqt5, cqt6, cqt7, cqt8, cqt9, cqt10, cqt11, cqt12, cqt13, cqt14, cqt15, cqt16, cqt17, cqt18, cqt19, cqt20, cqt21, cqt22, cqt23, cqt24, cqt25, cqt26, cqt27, cqt28, cqt29, cqt30, cqt31, cqt32, cqt33, cqt34, cqt35, cqt36, cqt37, cqt38, cqt39, cqt40, cqt41, cqt42, cqt43, cqt44, cqt45, cqt46, cqt47, ...]\n",
       "Index: []\n",
       "\n",
       "[0 rows x 114 columns]"
      ]
     },
     "execution_count": 6,
     "metadata": {},
     "output_type": "execute_result"
    }
   ],
   "source": [
    "data = pd.read_csv('./testing_apicta.csv')\n",
    "data.head()"
   ]
  },
  {
   "cell_type": "code",
   "execution_count": 7,
   "metadata": {},
   "outputs": [],
   "source": [
    "X = data.drop(['label', 'filename'], axis=1)\n",
    "y = data.iloc[:, -1]"
   ]
  },
  {
   "cell_type": "code",
   "execution_count": 8,
   "metadata": {},
   "outputs": [
    {
     "ename": "ValueError",
     "evalue": "Expected input data to be non-empty.",
     "output_type": "error",
     "traceback": [
      "\u001b[0;31m---------------------------------------------------------------------------\u001b[0m",
      "\u001b[0;31mValueError\u001b[0m                                Traceback (most recent call last)",
      "\u001b[1;32m/home/rafli/Documents/TA/vhd-machine-learning/Model/LSTM_Tuning_Predict copy.ipynb Cell 8\u001b[0m line \u001b[0;36m2\n\u001b[1;32m      <a href='vscode-notebook-cell:/home/rafli/Documents/TA/vhd-machine-learning/Model/LSTM_Tuning_Predict%20copy.ipynb#X10sZmlsZQ%3D%3D?line=0'>1</a>\u001b[0m model \u001b[39m=\u001b[39m tf\u001b[39m.\u001b[39mkeras\u001b[39m.\u001b[39mmodels\u001b[39m.\u001b[39mload_model(model_uri)\n\u001b[0;32m----> <a href='vscode-notebook-cell:/home/rafli/Documents/TA/vhd-machine-learning/Model/LSTM_Tuning_Predict%20copy.ipynb#X10sZmlsZQ%3D%3D?line=1'>2</a>\u001b[0m pred \u001b[39m=\u001b[39m model\u001b[39m.\u001b[39;49mpredict(X)\n\u001b[1;32m      <a href='vscode-notebook-cell:/home/rafli/Documents/TA/vhd-machine-learning/Model/LSTM_Tuning_Predict%20copy.ipynb#X10sZmlsZQ%3D%3D?line=2'>3</a>\u001b[0m hasil \u001b[39m=\u001b[39m []\n\u001b[1;32m      <a href='vscode-notebook-cell:/home/rafli/Documents/TA/vhd-machine-learning/Model/LSTM_Tuning_Predict%20copy.ipynb#X10sZmlsZQ%3D%3D?line=3'>4</a>\u001b[0m class_labels \u001b[39m=\u001b[39m [\u001b[39m'\u001b[39m\u001b[39mAS\u001b[39m\u001b[39m'\u001b[39m, \u001b[39m'\u001b[39m\u001b[39mMR\u001b[39m\u001b[39m'\u001b[39m, \u001b[39m'\u001b[39m\u001b[39mMS\u001b[39m\u001b[39m'\u001b[39m, \u001b[39m'\u001b[39m\u001b[39mMVP\u001b[39m\u001b[39m'\u001b[39m, \u001b[39m'\u001b[39m\u001b[39mN\u001b[39m\u001b[39m'\u001b[39m]\n",
      "File \u001b[0;32m~/anaconda3/envs/tf/lib/python3.11/site-packages/keras/src/utils/traceback_utils.py:70\u001b[0m, in \u001b[0;36mfilter_traceback.<locals>.error_handler\u001b[0;34m(*args, **kwargs)\u001b[0m\n\u001b[1;32m     67\u001b[0m     filtered_tb \u001b[39m=\u001b[39m _process_traceback_frames(e\u001b[39m.\u001b[39m__traceback__)\n\u001b[1;32m     68\u001b[0m     \u001b[39m# To get the full stack trace, call:\u001b[39;00m\n\u001b[1;32m     69\u001b[0m     \u001b[39m# `tf.debugging.disable_traceback_filtering()`\u001b[39;00m\n\u001b[0;32m---> 70\u001b[0m     \u001b[39mraise\u001b[39;00m e\u001b[39m.\u001b[39mwith_traceback(filtered_tb) \u001b[39mfrom\u001b[39;00m \u001b[39mNone\u001b[39;00m\n\u001b[1;32m     71\u001b[0m \u001b[39mfinally\u001b[39;00m:\n\u001b[1;32m     72\u001b[0m     \u001b[39mdel\u001b[39;00m filtered_tb\n",
      "File \u001b[0;32m~/anaconda3/envs/tf/lib/python3.11/site-packages/keras/src/engine/data_adapter.py:1319\u001b[0m, in \u001b[0;36mDataHandler.__init__\u001b[0;34m(self, x, y, sample_weight, batch_size, steps_per_epoch, initial_epoch, epochs, shuffle, class_weight, max_queue_size, workers, use_multiprocessing, model, steps_per_execution, distribute, pss_evaluation_shards)\u001b[0m\n\u001b[1;32m   1314\u001b[0m \u001b[39mself\u001b[39m\u001b[39m.\u001b[39m_configure_dataset_and_inferred_steps(\n\u001b[1;32m   1315\u001b[0m     strategy, x, steps_per_epoch, class_weight, distribute\n\u001b[1;32m   1316\u001b[0m )\n\u001b[1;32m   1318\u001b[0m \u001b[39mif\u001b[39;00m \u001b[39mself\u001b[39m\u001b[39m.\u001b[39m_inferred_steps \u001b[39m==\u001b[39m \u001b[39m0\u001b[39m:\n\u001b[0;32m-> 1319\u001b[0m     \u001b[39mraise\u001b[39;00m \u001b[39mValueError\u001b[39;00m(\u001b[39m\"\u001b[39m\u001b[39mExpected input data to be non-empty.\u001b[39m\u001b[39m\"\u001b[39m)\n",
      "\u001b[0;31mValueError\u001b[0m: Expected input data to be non-empty."
     ]
    }
   ],
   "source": [
    "model = tf.keras.models.load_model(model_uri)\n",
    "pred = model.predict(X)\n",
    "hasil = []\n",
    "class_labels = ['AS', 'MR', 'MS', 'MVP', 'N']\n",
    "# class_labels = ['MVP', 'MS', 'N', 'MR', 'AS']\n",
    "for i in pred:\n",
    "    # hasil.append(np.argmax(i))\n",
    "    print('===')\n",
    "    print(i) \n",
    "    cek = np.argmax(i)\n",
    "    print(f'Actual class: {cek}')\n",
    "    print(f'Predicted class: {class_labels[cek]}')\n",
    "    print('===')\n",
    "    hasil.append(class_labels[cek])\n",
    "y_p = np.argmax(pred, axis=1)\n"
   ]
  },
  {
   "cell_type": "code",
   "execution_count": null,
   "metadata": {},
   "outputs": [
    {
     "data": {
      "text/plain": [
       "array([[20,  0,  0,  0,  0],\n",
       "       [ 0, 20,  0,  0,  0],\n",
       "       [ 0,  0, 20,  0,  0],\n",
       "       [ 0,  0,  1, 19,  0],\n",
       "       [ 0,  0,  0,  0, 20]])"
      ]
     },
     "execution_count": 9,
     "metadata": {},
     "output_type": "execute_result"
    }
   ],
   "source": [
    "from sklearn.metrics import confusion_matrix, ConfusionMatrixDisplay\n",
    "cm = confusion_matrix(y, hasil)\n",
    "cm"
   ]
  },
  {
   "cell_type": "code",
   "execution_count": null,
   "metadata": {},
   "outputs": [
    {
     "data": {
      "image/png": "[encoded data removed]",
      "text/plain": [
       "<Figure size 640x480 with 2 Axes>"
      ]
     },
     "metadata": {},
     "output_type": "display_data"
    }
   ],
   "source": [
    "disp = ConfusionMatrixDisplay(confusion_matrix=cm, display_labels=['AS', 'MR', 'MS', 'MVP', 'N'])\n",
    "disp.plot()\n",
    "plt.show()"
   ]
  },
  {
   "cell_type": "code",
   "execution_count": null,
   "metadata": {},
   "outputs": [],
   "source": [
    "FP = cm.sum(axis=0) - np.diag(cm)  \n",
    "FN = cm.sum(axis=1) - np.diag(cm)\n",
    "TP = np.diag(cm)\n",
    "TN = cm.sum() - (FP + FN + TP)\n",
    "\n",
    "# Sensitivity, hit rate, recall, or true positive rate\n",
    "TPR = TP/(TP+FN)\n",
    "# Specificity or true negative rate\n",
    "TNR = TN/(TN+FP) \n",
    "# Precision or positive predictive value\n",
    "PPV = TP/(TP+FP)\n",
    "# Negative predictive value\n",
    "NPV = TN/(TN+FN)\n",
    "# Fall out or false positive rate\n",
    "FPR = FP/(FP+TN)\n",
    "# False negative rate\n",
    "FNR = FN/(TP+FN)\n",
    "# False discovery rate\n",
    "FDR = FP/(TP+FP)\n",
    "\n",
    "# Overall accuracy\n",
    "ACC = (TP+TN)/(TP+FP+FN+TN)"
   ]
  },
  {
   "cell_type": "code",
   "execution_count": null,
   "metadata": {},
   "outputs": [
    {
     "name": "stdout",
     "output_type": "stream",
     "text": [
      "Sensitivity : [1.   1.   1.   0.95 1.  ] mean:  0.99\n",
      "Specificity : [1.     1.     0.9875 1.     1.    ] mean:  0.9974999999999999\n",
      "Precision : [1.         1.         0.95238095 1.         1.        ] mean:  0.9904761904761905\n",
      "Accuracy : [1.   1.   0.99 0.99 1.  ] mean:  0.9960000000000001\n",
      "FPR : [0.     0.     0.0125 0.     0.    ] mean:  0.0025\n",
      "FNR : [0.   0.   0.   0.05 0.  ] mean:  0.01\n",
      "NPV : [1.         1.         1.         0.98765432 1.        ] mean:  0.9975308641975309\n",
      "FDR : [0.         0.         0.04761905 0.         0.        ] mean:  0.009523809523809523\n",
      "f1_score: [1.         1.         0.97560976 0.97435897 1.        ] mean:  0.9899937460913071\n"
     ]
    }
   ],
   "source": [
    "print(\"Sensitivity :\" , TPR, 'mean: ', np.mean(TPR))\n",
    "print(\"Specificity :\" , TNR, 'mean: ', np.mean(TNR))\n",
    "print(\"Precision :\" , PPV, 'mean: ', np.mean(PPV))\n",
    "print(\"Accuracy :\" , ACC, 'mean: ', np.mean(ACC))\n",
    "print(\"FPR :\" , FPR, 'mean: ', np.mean(FPR))\n",
    "print(\"FNR :\" , FNR, 'mean: ', np.mean(FNR))\n",
    "print(\"NPV :\" , NPV, 'mean: ', np.mean(NPV))\n",
    "print(\"FDR :\" , FDR, 'mean: ', np.mean(FDR))\n",
    "print(\"f1_score:\", 2 * (PPV * TPR) / (PPV + TPR), 'mean: ', np.mean(2 * (PPV * TPR) / (PPV + TPR)))"
   ]
  }
 ],
 "metadata": {
  "kernelspec": {
   "display_name": "tf",
   "language": "python",
   "name": "python3"
  },
  "language_info": {
   "codemirror_mode": {
    "name": "ipython",
    "version": 3
   },
   "file_extension": ".py",
   "mimetype": "text/x-python",
   "name": "python",
   "nbconvert_exporter": "python",
   "pygments_lexer": "ipython3",
   "version": "3.11.5"
  }
 },
 "nbformat": 4,
 "nbformat_minor": 2
}
