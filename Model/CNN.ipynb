{
 "cells": [
  {
   "cell_type": "code",
   "execution_count": 48,
   "metadata": {},
   "outputs": [],
   "source": [
    "import csv\n",
    "import os\n",
    "import numpy as np\n",
    "import librosa\n",
    "import pandas as pd\n",
    "from sklearn.preprocessing import StandardScaler, LabelEncoder\n",
    "from sklearn.model_selection import train_test_split\n",
    "from tensorflow.keras import models, layers\n",
    "import tensorflow as tf\n",
    "import matplotlib.pyplot as plt\n",
    "from pywt import wavedec"
   ]
  },
  {
   "cell_type": "code",
   "execution_count": 49,
   "metadata": {},
   "outputs": [],
   "source": [
    "# dataset_path = \"data/training/\""
   ]
  },
  {
   "cell_type": "code",
   "execution_count": 50,
   "metadata": {},
   "outputs": [],
   "source": [
    "# header = 'filename'\n",
    "# for i in range(1, 41):\n",
    "#   header += f' mfcc{i}'\n",
    "# header += ' label'\n",
    "# header = header.split()"
   ]
  },
  {
   "cell_type": "code",
   "execution_count": 51,
   "metadata": {},
   "outputs": [],
   "source": [
    "# file = open('data_1.csv', 'w', newline='')\n",
    "# with file:\n",
    "#   writer = csv.writer(file)\n",
    "#   writer.writerow(header)\n",
    "\n",
    "# for i, (dirpath, dirnames, filenames) in enumerate(os.walk(dataset_path)):\n",
    "#         # ensure we're processing a genre sub-folder level\n",
    "#         if dirpath is not dataset_path:\n",
    "#           semantic_label = dirpath.split(\"/\")[-1]\n",
    "#           print(\"\\nProcessing: {}\".format(semantic_label))\n",
    "#           for f in filenames:\n",
    "#               file_path = os.path.join(dirpath, f)\n",
    "#               to_append = f'{file_path}'\n",
    "#               # print(file_path)\n",
    "#               y, sr = librosa.load(file_path, mono=True, duration=3, sr=8000)\n",
    "#               mfcc = librosa.feature.mfcc(y=y, sr=8000, n_mfcc=40, n_fft=2048, hop_length=512, n_mels=128)\n",
    "#               for e in mfcc:\n",
    "#                   to_append += f' {np.mean(e.T, axis=0)}'\n",
    "#               to_append += f' {semantic_label}'\n",
    "#               file = open('data_1.csv', 'a', newline='')\n",
    "#               with file:\n",
    "#                   writer = csv.writer(file)\n",
    "#                   writer.writerow(to_append.split())"
   ]
  },
  {
   "cell_type": "code",
   "execution_count": 83,
   "metadata": {},
   "outputs": [
    {
     "data": {
      "text/html": [
       "<div>\n",
       "<style scoped>\n",
       "    .dataframe tbody tr th:only-of-type {\n",
       "        vertical-align: middle;\n",
       "    }\n",
       "\n",
       "    .dataframe tbody tr th {\n",
       "        vertical-align: top;\n",
       "    }\n",
       "\n",
       "    .dataframe thead th {\n",
       "        text-align: right;\n",
       "    }\n",
       "</style>\n",
       "<table border=\"1\" class=\"dataframe\">\n",
       "  <thead>\n",
       "    <tr style=\"text-align: right;\">\n",
       "      <th></th>\n",
       "      <th>filename</th>\n",
       "      <th>mfcc1</th>\n",
       "      <th>mfcc2</th>\n",
       "      <th>mfcc3</th>\n",
       "      <th>mfcc4</th>\n",
       "      <th>mfcc5</th>\n",
       "      <th>mfcc6</th>\n",
       "      <th>mfcc7</th>\n",
       "      <th>mfcc8</th>\n",
       "      <th>mfcc9</th>\n",
       "      <th>...</th>\n",
       "      <th>cqt52</th>\n",
       "      <th>cqt53</th>\n",
       "      <th>cqt54</th>\n",
       "      <th>cqt55</th>\n",
       "      <th>cqt56</th>\n",
       "      <th>cqt57</th>\n",
       "      <th>cqt58</th>\n",
       "      <th>cqt59</th>\n",
       "      <th>cqt60</th>\n",
       "      <th>label</th>\n",
       "    </tr>\n",
       "  </thead>\n",
       "  <tbody>\n",
       "    <tr>\n",
       "      <th>0</th>\n",
       "      <td>../data/DWT_NEW/MVP/New_MVP_062.wav</td>\n",
       "      <td>85.654526</td>\n",
       "      <td>32.866776</td>\n",
       "      <td>-25.193539</td>\n",
       "      <td>15.864054</td>\n",
       "      <td>-6.419781</td>\n",
       "      <td>0.635595</td>\n",
       "      <td>-2.064566</td>\n",
       "      <td>1.847622</td>\n",
       "      <td>-6.583724</td>\n",
       "      <td>...</td>\n",
       "      <td>0.080388</td>\n",
       "      <td>0.569061</td>\n",
       "      <td>1.056097</td>\n",
       "      <td>1.140884</td>\n",
       "      <td>1.039713</td>\n",
       "      <td>1.112206</td>\n",
       "      <td>0.954203</td>\n",
       "      <td>0.470806</td>\n",
       "      <td>0.190419</td>\n",
       "      <td>MVP</td>\n",
       "    </tr>\n",
       "    <tr>\n",
       "      <th>1</th>\n",
       "      <td>../data/DWT_NEW/MVP/New_MVP_109.wav</td>\n",
       "      <td>74.389503</td>\n",
       "      <td>30.448965</td>\n",
       "      <td>-28.528980</td>\n",
       "      <td>18.578068</td>\n",
       "      <td>-9.196688</td>\n",
       "      <td>3.905636</td>\n",
       "      <td>0.366347</td>\n",
       "      <td>-2.079477</td>\n",
       "      <td>2.529782</td>\n",
       "      <td>...</td>\n",
       "      <td>0.928783</td>\n",
       "      <td>0.838865</td>\n",
       "      <td>0.518496</td>\n",
       "      <td>0.528185</td>\n",
       "      <td>0.576932</td>\n",
       "      <td>0.432870</td>\n",
       "      <td>0.702799</td>\n",
       "      <td>0.959373</td>\n",
       "      <td>0.930941</td>\n",
       "      <td>MVP</td>\n",
       "    </tr>\n",
       "    <tr>\n",
       "      <th>2</th>\n",
       "      <td>../data/DWT_NEW/MVP/New_MVP_009.wav</td>\n",
       "      <td>93.038918</td>\n",
       "      <td>7.916808</td>\n",
       "      <td>-22.089268</td>\n",
       "      <td>13.213285</td>\n",
       "      <td>-14.454514</td>\n",
       "      <td>4.415012</td>\n",
       "      <td>-2.340976</td>\n",
       "      <td>7.071494</td>\n",
       "      <td>-0.629878</td>\n",
       "      <td>...</td>\n",
       "      <td>0.174627</td>\n",
       "      <td>0.153037</td>\n",
       "      <td>0.462278</td>\n",
       "      <td>0.542498</td>\n",
       "      <td>0.587030</td>\n",
       "      <td>0.918977</td>\n",
       "      <td>0.939489</td>\n",
       "      <td>0.718935</td>\n",
       "      <td>0.573036</td>\n",
       "      <td>MVP</td>\n",
       "    </tr>\n",
       "    <tr>\n",
       "      <th>3</th>\n",
       "      <td>../data/DWT_NEW/MVP/New_MVP_177.wav</td>\n",
       "      <td>47.778595</td>\n",
       "      <td>26.760372</td>\n",
       "      <td>-18.387049</td>\n",
       "      <td>2.238705</td>\n",
       "      <td>0.968371</td>\n",
       "      <td>10.882546</td>\n",
       "      <td>8.674847</td>\n",
       "      <td>-11.494544</td>\n",
       "      <td>1.760501</td>\n",
       "      <td>...</td>\n",
       "      <td>0.271414</td>\n",
       "      <td>0.456183</td>\n",
       "      <td>0.471717</td>\n",
       "      <td>0.285961</td>\n",
       "      <td>0.078966</td>\n",
       "      <td>0.354951</td>\n",
       "      <td>0.413463</td>\n",
       "      <td>0.409775</td>\n",
       "      <td>0.572750</td>\n",
       "      <td>MVP</td>\n",
       "    </tr>\n",
       "    <tr>\n",
       "      <th>4</th>\n",
       "      <td>../data/DWT_NEW/MVP/New_MVP_069.wav</td>\n",
       "      <td>108.674637</td>\n",
       "      <td>37.049778</td>\n",
       "      <td>-25.733025</td>\n",
       "      <td>19.642345</td>\n",
       "      <td>-10.844358</td>\n",
       "      <td>6.463916</td>\n",
       "      <td>-6.703873</td>\n",
       "      <td>4.637705</td>\n",
       "      <td>-6.898274</td>\n",
       "      <td>...</td>\n",
       "      <td>0.222887</td>\n",
       "      <td>0.701833</td>\n",
       "      <td>1.330833</td>\n",
       "      <td>1.454587</td>\n",
       "      <td>1.352468</td>\n",
       "      <td>1.475639</td>\n",
       "      <td>1.275324</td>\n",
       "      <td>0.674392</td>\n",
       "      <td>0.357716</td>\n",
       "      <td>MVP</td>\n",
       "    </tr>\n",
       "  </tbody>\n",
       "</table>\n",
       "<p>5 rows × 103 columns</p>\n",
       "</div>"
      ],
      "text/plain": [
       "                              filename       mfcc1      mfcc2      mfcc3  \\\n",
       "0  ../data/DWT_NEW/MVP/New_MVP_062.wav   85.654526  32.866776 -25.193539   \n",
       "1  ../data/DWT_NEW/MVP/New_MVP_109.wav   74.389503  30.448965 -28.528980   \n",
       "2  ../data/DWT_NEW/MVP/New_MVP_009.wav   93.038918   7.916808 -22.089268   \n",
       "3  ../data/DWT_NEW/MVP/New_MVP_177.wav   47.778595  26.760372 -18.387049   \n",
       "4  ../data/DWT_NEW/MVP/New_MVP_069.wav  108.674637  37.049778 -25.733025   \n",
       "\n",
       "       mfcc4      mfcc5      mfcc6     mfcc7      mfcc8     mfcc9  ...  \\\n",
       "0  15.864054  -6.419781   0.635595 -2.064566   1.847622 -6.583724  ...   \n",
       "1  18.578068  -9.196688   3.905636  0.366347  -2.079477  2.529782  ...   \n",
       "2  13.213285 -14.454514   4.415012 -2.340976   7.071494 -0.629878  ...   \n",
       "3   2.238705   0.968371  10.882546  8.674847 -11.494544  1.760501  ...   \n",
       "4  19.642345 -10.844358   6.463916 -6.703873   4.637705 -6.898274  ...   \n",
       "\n",
       "      cqt52     cqt53     cqt54     cqt55     cqt56     cqt57     cqt58  \\\n",
       "0  0.080388  0.569061  1.056097  1.140884  1.039713  1.112206  0.954203   \n",
       "1  0.928783  0.838865  0.518496  0.528185  0.576932  0.432870  0.702799   \n",
       "2  0.174627  0.153037  0.462278  0.542498  0.587030  0.918977  0.939489   \n",
       "3  0.271414  0.456183  0.471717  0.285961  0.078966  0.354951  0.413463   \n",
       "4  0.222887  0.701833  1.330833  1.454587  1.352468  1.475639  1.275324   \n",
       "\n",
       "      cqt59     cqt60  label  \n",
       "0  0.470806  0.190419    MVP  \n",
       "1  0.959373  0.930941    MVP  \n",
       "2  0.718935  0.573036    MVP  \n",
       "3  0.409775  0.572750    MVP  \n",
       "4  0.674392  0.357716    MVP  \n",
       "\n",
       "[5 rows x 103 columns]"
      ]
     },
     "execution_count": 83,
     "metadata": {},
     "output_type": "execute_result"
    }
   ],
   "source": [
    "# data = pd.read_csv('../data_mfccRMScqt.csv')\n",
    "data = pd.read_csv('../Preprocessing/db6/data_MfccDwtRmsCqtdb6L7.csv')\n",
    "data.head()\n"
   ]
  },
  {
   "cell_type": "code",
   "execution_count": 84,
   "metadata": {},
   "outputs": [
    {
     "name": "stdout",
     "output_type": "stream",
     "text": [
      "<class 'pandas.core.frame.DataFrame'>\n",
      "RangeIndex: 900 entries, 0 to 899\n",
      "Columns: 103 entries, filename to label\n",
      "dtypes: float64(101), object(2)\n",
      "memory usage: 724.3+ KB\n"
     ]
    }
   ],
   "source": [
    "data.info()"
   ]
  },
  {
   "cell_type": "code",
   "execution_count": 85,
   "metadata": {},
   "outputs": [],
   "source": [
    "# scaler = StandardScaler()\n",
    "X = data.drop(['label', 'filename'], axis=1)\n",
    "# X = scaler.fit_transform(X)\n",
    "# X = np.reshape(X, (-1, X.shape[0], X.shape[1], 1))\n",
    "y = data.iloc[:, -1]"
   ]
  },
  {
   "cell_type": "code",
   "execution_count": 86,
   "metadata": {},
   "outputs": [
    {
     "data": {
      "text/plain": [
       "(900, 101)"
      ]
     },
     "execution_count": 86,
     "metadata": {},
     "output_type": "execute_result"
    }
   ],
   "source": [
    "X.shape"
   ]
  },
  {
   "cell_type": "code",
   "execution_count": 87,
   "metadata": {},
   "outputs": [
    {
     "data": {
      "text/plain": [
       "0    MVP\n",
       "1    MVP\n",
       "2    MVP\n",
       "3    MVP\n",
       "4    MVP\n",
       "Name: label, dtype: object"
      ]
     },
     "execution_count": 87,
     "metadata": {},
     "output_type": "execute_result"
    }
   ],
   "source": [
    "y.head()"
   ]
  },
  {
   "cell_type": "code",
   "execution_count": 88,
   "metadata": {},
   "outputs": [
    {
     "data": {
      "text/html": [
       "<div>\n",
       "<style scoped>\n",
       "    .dataframe tbody tr th:only-of-type {\n",
       "        vertical-align: middle;\n",
       "    }\n",
       "\n",
       "    .dataframe tbody tr th {\n",
       "        vertical-align: top;\n",
       "    }\n",
       "\n",
       "    .dataframe thead th {\n",
       "        text-align: right;\n",
       "    }\n",
       "</style>\n",
       "<table border=\"1\" class=\"dataframe\">\n",
       "  <thead>\n",
       "    <tr style=\"text-align: right;\">\n",
       "      <th></th>\n",
       "      <th>mfcc1</th>\n",
       "      <th>mfcc2</th>\n",
       "      <th>mfcc3</th>\n",
       "      <th>mfcc4</th>\n",
       "      <th>mfcc5</th>\n",
       "      <th>mfcc6</th>\n",
       "      <th>mfcc7</th>\n",
       "      <th>mfcc8</th>\n",
       "      <th>mfcc9</th>\n",
       "      <th>mfcc10</th>\n",
       "      <th>...</th>\n",
       "      <th>cqt51</th>\n",
       "      <th>cqt52</th>\n",
       "      <th>cqt53</th>\n",
       "      <th>cqt54</th>\n",
       "      <th>cqt55</th>\n",
       "      <th>cqt56</th>\n",
       "      <th>cqt57</th>\n",
       "      <th>cqt58</th>\n",
       "      <th>cqt59</th>\n",
       "      <th>cqt60</th>\n",
       "    </tr>\n",
       "  </thead>\n",
       "  <tbody>\n",
       "    <tr>\n",
       "      <th>0</th>\n",
       "      <td>85.654526</td>\n",
       "      <td>32.866776</td>\n",
       "      <td>-25.193539</td>\n",
       "      <td>15.864054</td>\n",
       "      <td>-6.419781</td>\n",
       "      <td>0.635595</td>\n",
       "      <td>-2.064566</td>\n",
       "      <td>1.847622</td>\n",
       "      <td>-6.583724</td>\n",
       "      <td>-7.526987</td>\n",
       "      <td>...</td>\n",
       "      <td>0.267511</td>\n",
       "      <td>0.080388</td>\n",
       "      <td>0.569061</td>\n",
       "      <td>1.056097</td>\n",
       "      <td>1.140884</td>\n",
       "      <td>1.039713</td>\n",
       "      <td>1.112206</td>\n",
       "      <td>0.954203</td>\n",
       "      <td>0.470806</td>\n",
       "      <td>0.190419</td>\n",
       "    </tr>\n",
       "    <tr>\n",
       "      <th>1</th>\n",
       "      <td>74.389503</td>\n",
       "      <td>30.448965</td>\n",
       "      <td>-28.528980</td>\n",
       "      <td>18.578068</td>\n",
       "      <td>-9.196688</td>\n",
       "      <td>3.905636</td>\n",
       "      <td>0.366347</td>\n",
       "      <td>-2.079477</td>\n",
       "      <td>2.529782</td>\n",
       "      <td>-2.027359</td>\n",
       "      <td>...</td>\n",
       "      <td>0.773614</td>\n",
       "      <td>0.928783</td>\n",
       "      <td>0.838865</td>\n",
       "      <td>0.518496</td>\n",
       "      <td>0.528185</td>\n",
       "      <td>0.576932</td>\n",
       "      <td>0.432870</td>\n",
       "      <td>0.702799</td>\n",
       "      <td>0.959373</td>\n",
       "      <td>0.930941</td>\n",
       "    </tr>\n",
       "    <tr>\n",
       "      <th>2</th>\n",
       "      <td>93.038918</td>\n",
       "      <td>7.916808</td>\n",
       "      <td>-22.089268</td>\n",
       "      <td>13.213285</td>\n",
       "      <td>-14.454514</td>\n",
       "      <td>4.415012</td>\n",
       "      <td>-2.340976</td>\n",
       "      <td>7.071494</td>\n",
       "      <td>-0.629878</td>\n",
       "      <td>4.054264</td>\n",
       "      <td>...</td>\n",
       "      <td>0.399980</td>\n",
       "      <td>0.174627</td>\n",
       "      <td>0.153037</td>\n",
       "      <td>0.462278</td>\n",
       "      <td>0.542498</td>\n",
       "      <td>0.587030</td>\n",
       "      <td>0.918977</td>\n",
       "      <td>0.939489</td>\n",
       "      <td>0.718935</td>\n",
       "      <td>0.573036</td>\n",
       "    </tr>\n",
       "    <tr>\n",
       "      <th>3</th>\n",
       "      <td>47.778595</td>\n",
       "      <td>26.760372</td>\n",
       "      <td>-18.387049</td>\n",
       "      <td>2.238705</td>\n",
       "      <td>0.968371</td>\n",
       "      <td>10.882546</td>\n",
       "      <td>8.674847</td>\n",
       "      <td>-11.494544</td>\n",
       "      <td>1.760501</td>\n",
       "      <td>10.419001</td>\n",
       "      <td>...</td>\n",
       "      <td>0.247702</td>\n",
       "      <td>0.271414</td>\n",
       "      <td>0.456183</td>\n",
       "      <td>0.471717</td>\n",
       "      <td>0.285961</td>\n",
       "      <td>0.078966</td>\n",
       "      <td>0.354951</td>\n",
       "      <td>0.413463</td>\n",
       "      <td>0.409775</td>\n",
       "      <td>0.572750</td>\n",
       "    </tr>\n",
       "    <tr>\n",
       "      <th>4</th>\n",
       "      <td>108.674637</td>\n",
       "      <td>37.049778</td>\n",
       "      <td>-25.733025</td>\n",
       "      <td>19.642345</td>\n",
       "      <td>-10.844358</td>\n",
       "      <td>6.463916</td>\n",
       "      <td>-6.703873</td>\n",
       "      <td>4.637705</td>\n",
       "      <td>-6.898274</td>\n",
       "      <td>-4.440415</td>\n",
       "      <td>...</td>\n",
       "      <td>0.376806</td>\n",
       "      <td>0.222887</td>\n",
       "      <td>0.701833</td>\n",
       "      <td>1.330833</td>\n",
       "      <td>1.454587</td>\n",
       "      <td>1.352468</td>\n",
       "      <td>1.475639</td>\n",
       "      <td>1.275324</td>\n",
       "      <td>0.674392</td>\n",
       "      <td>0.357716</td>\n",
       "    </tr>\n",
       "    <tr>\n",
       "      <th>...</th>\n",
       "      <td>...</td>\n",
       "      <td>...</td>\n",
       "      <td>...</td>\n",
       "      <td>...</td>\n",
       "      <td>...</td>\n",
       "      <td>...</td>\n",
       "      <td>...</td>\n",
       "      <td>...</td>\n",
       "      <td>...</td>\n",
       "      <td>...</td>\n",
       "      <td>...</td>\n",
       "      <td>...</td>\n",
       "      <td>...</td>\n",
       "      <td>...</td>\n",
       "      <td>...</td>\n",
       "      <td>...</td>\n",
       "      <td>...</td>\n",
       "      <td>...</td>\n",
       "      <td>...</td>\n",
       "      <td>...</td>\n",
       "      <td>...</td>\n",
       "    </tr>\n",
       "    <tr>\n",
       "      <th>895</th>\n",
       "      <td>-27.855881</td>\n",
       "      <td>-7.843719</td>\n",
       "      <td>-27.830286</td>\n",
       "      <td>5.507607</td>\n",
       "      <td>-12.281426</td>\n",
       "      <td>5.059643</td>\n",
       "      <td>-0.234950</td>\n",
       "      <td>1.564471</td>\n",
       "      <td>-5.177323</td>\n",
       "      <td>-1.442816</td>\n",
       "      <td>...</td>\n",
       "      <td>0.039276</td>\n",
       "      <td>0.041962</td>\n",
       "      <td>0.056314</td>\n",
       "      <td>0.026322</td>\n",
       "      <td>0.038955</td>\n",
       "      <td>0.087986</td>\n",
       "      <td>0.155703</td>\n",
       "      <td>0.229664</td>\n",
       "      <td>0.281188</td>\n",
       "      <td>0.304208</td>\n",
       "    </tr>\n",
       "    <tr>\n",
       "      <th>896</th>\n",
       "      <td>93.579971</td>\n",
       "      <td>52.665131</td>\n",
       "      <td>-6.339729</td>\n",
       "      <td>-2.555194</td>\n",
       "      <td>15.422396</td>\n",
       "      <td>-1.036780</td>\n",
       "      <td>-6.001369</td>\n",
       "      <td>4.221179</td>\n",
       "      <td>2.457591</td>\n",
       "      <td>-2.805903</td>\n",
       "      <td>...</td>\n",
       "      <td>0.811439</td>\n",
       "      <td>1.006225</td>\n",
       "      <td>1.077364</td>\n",
       "      <td>0.864500</td>\n",
       "      <td>0.898886</td>\n",
       "      <td>0.988281</td>\n",
       "      <td>0.954124</td>\n",
       "      <td>1.059031</td>\n",
       "      <td>1.126021</td>\n",
       "      <td>1.179747</td>\n",
       "    </tr>\n",
       "    <tr>\n",
       "      <th>897</th>\n",
       "      <td>78.642830</td>\n",
       "      <td>-0.972854</td>\n",
       "      <td>-21.288479</td>\n",
       "      <td>11.531152</td>\n",
       "      <td>-4.698999</td>\n",
       "      <td>4.778561</td>\n",
       "      <td>-2.397118</td>\n",
       "      <td>4.631195</td>\n",
       "      <td>-0.461163</td>\n",
       "      <td>3.794876</td>\n",
       "      <td>...</td>\n",
       "      <td>0.581060</td>\n",
       "      <td>0.559315</td>\n",
       "      <td>0.351657</td>\n",
       "      <td>0.345295</td>\n",
       "      <td>0.310624</td>\n",
       "      <td>0.116561</td>\n",
       "      <td>0.095969</td>\n",
       "      <td>0.251256</td>\n",
       "      <td>0.421164</td>\n",
       "      <td>0.508396</td>\n",
       "    </tr>\n",
       "    <tr>\n",
       "      <th>898</th>\n",
       "      <td>91.289917</td>\n",
       "      <td>14.506901</td>\n",
       "      <td>-13.142884</td>\n",
       "      <td>10.258261</td>\n",
       "      <td>6.478942</td>\n",
       "      <td>7.574516</td>\n",
       "      <td>-8.676132</td>\n",
       "      <td>3.268336</td>\n",
       "      <td>-1.507939</td>\n",
       "      <td>-2.817027</td>\n",
       "      <td>...</td>\n",
       "      <td>0.495416</td>\n",
       "      <td>0.613578</td>\n",
       "      <td>0.630617</td>\n",
       "      <td>0.549474</td>\n",
       "      <td>0.578040</td>\n",
       "      <td>0.735854</td>\n",
       "      <td>0.664634</td>\n",
       "      <td>0.518653</td>\n",
       "      <td>0.772379</td>\n",
       "      <td>0.864558</td>\n",
       "    </tr>\n",
       "    <tr>\n",
       "      <th>899</th>\n",
       "      <td>42.905640</td>\n",
       "      <td>17.738148</td>\n",
       "      <td>-2.518085</td>\n",
       "      <td>10.203386</td>\n",
       "      <td>-20.640388</td>\n",
       "      <td>-5.034784</td>\n",
       "      <td>3.507338</td>\n",
       "      <td>1.785476</td>\n",
       "      <td>-5.649597</td>\n",
       "      <td>-5.284935</td>\n",
       "      <td>...</td>\n",
       "      <td>0.236107</td>\n",
       "      <td>0.137927</td>\n",
       "      <td>0.166283</td>\n",
       "      <td>0.315748</td>\n",
       "      <td>0.435096</td>\n",
       "      <td>0.442157</td>\n",
       "      <td>0.416400</td>\n",
       "      <td>0.457151</td>\n",
       "      <td>0.419043</td>\n",
       "      <td>0.304030</td>\n",
       "    </tr>\n",
       "  </tbody>\n",
       "</table>\n",
       "<p>900 rows × 101 columns</p>\n",
       "</div>"
      ],
      "text/plain": [
       "          mfcc1      mfcc2      mfcc3      mfcc4      mfcc5      mfcc6  \\\n",
       "0     85.654526  32.866776 -25.193539  15.864054  -6.419781   0.635595   \n",
       "1     74.389503  30.448965 -28.528980  18.578068  -9.196688   3.905636   \n",
       "2     93.038918   7.916808 -22.089268  13.213285 -14.454514   4.415012   \n",
       "3     47.778595  26.760372 -18.387049   2.238705   0.968371  10.882546   \n",
       "4    108.674637  37.049778 -25.733025  19.642345 -10.844358   6.463916   \n",
       "..          ...        ...        ...        ...        ...        ...   \n",
       "895  -27.855881  -7.843719 -27.830286   5.507607 -12.281426   5.059643   \n",
       "896   93.579971  52.665131  -6.339729  -2.555194  15.422396  -1.036780   \n",
       "897   78.642830  -0.972854 -21.288479  11.531152  -4.698999   4.778561   \n",
       "898   91.289917  14.506901 -13.142884  10.258261   6.478942   7.574516   \n",
       "899   42.905640  17.738148  -2.518085  10.203386 -20.640388  -5.034784   \n",
       "\n",
       "        mfcc7      mfcc8     mfcc9     mfcc10  ...     cqt51     cqt52  \\\n",
       "0   -2.064566   1.847622 -6.583724  -7.526987  ...  0.267511  0.080388   \n",
       "1    0.366347  -2.079477  2.529782  -2.027359  ...  0.773614  0.928783   \n",
       "2   -2.340976   7.071494 -0.629878   4.054264  ...  0.399980  0.174627   \n",
       "3    8.674847 -11.494544  1.760501  10.419001  ...  0.247702  0.271414   \n",
       "4   -6.703873   4.637705 -6.898274  -4.440415  ...  0.376806  0.222887   \n",
       "..        ...        ...       ...        ...  ...       ...       ...   \n",
       "895 -0.234950   1.564471 -5.177323  -1.442816  ...  0.039276  0.041962   \n",
       "896 -6.001369   4.221179  2.457591  -2.805903  ...  0.811439  1.006225   \n",
       "897 -2.397118   4.631195 -0.461163   3.794876  ...  0.581060  0.559315   \n",
       "898 -8.676132   3.268336 -1.507939  -2.817027  ...  0.495416  0.613578   \n",
       "899  3.507338   1.785476 -5.649597  -5.284935  ...  0.236107  0.137927   \n",
       "\n",
       "        cqt53     cqt54     cqt55     cqt56     cqt57     cqt58     cqt59  \\\n",
       "0    0.569061  1.056097  1.140884  1.039713  1.112206  0.954203  0.470806   \n",
       "1    0.838865  0.518496  0.528185  0.576932  0.432870  0.702799  0.959373   \n",
       "2    0.153037  0.462278  0.542498  0.587030  0.918977  0.939489  0.718935   \n",
       "3    0.456183  0.471717  0.285961  0.078966  0.354951  0.413463  0.409775   \n",
       "4    0.701833  1.330833  1.454587  1.352468  1.475639  1.275324  0.674392   \n",
       "..        ...       ...       ...       ...       ...       ...       ...   \n",
       "895  0.056314  0.026322  0.038955  0.087986  0.155703  0.229664  0.281188   \n",
       "896  1.077364  0.864500  0.898886  0.988281  0.954124  1.059031  1.126021   \n",
       "897  0.351657  0.345295  0.310624  0.116561  0.095969  0.251256  0.421164   \n",
       "898  0.630617  0.549474  0.578040  0.735854  0.664634  0.518653  0.772379   \n",
       "899  0.166283  0.315748  0.435096  0.442157  0.416400  0.457151  0.419043   \n",
       "\n",
       "        cqt60  \n",
       "0    0.190419  \n",
       "1    0.930941  \n",
       "2    0.573036  \n",
       "3    0.572750  \n",
       "4    0.357716  \n",
       "..        ...  \n",
       "895  0.304208  \n",
       "896  1.179747  \n",
       "897  0.508396  \n",
       "898  0.864558  \n",
       "899  0.304030  \n",
       "\n",
       "[900 rows x 101 columns]"
      ]
     },
     "execution_count": 88,
     "metadata": {},
     "output_type": "execute_result"
    }
   ],
   "source": [
    "X"
   ]
  },
  {
   "cell_type": "code",
   "execution_count": 89,
   "metadata": {},
   "outputs": [],
   "source": [
    "X_train, X_test, y_train, y_test = train_test_split(X, y, test_size=0.2, random_state=42)"
   ]
  },
  {
   "cell_type": "code",
   "execution_count": 90,
   "metadata": {},
   "outputs": [
    {
     "data": {
      "text/plain": [
       "(180,)"
      ]
     },
     "execution_count": 90,
     "metadata": {},
     "output_type": "execute_result"
    }
   ],
   "source": [
    "y_test.shape"
   ]
  },
  {
   "cell_type": "code",
   "execution_count": 91,
   "metadata": {},
   "outputs": [
    {
     "data": {
      "text/plain": [
       "(720, 101)"
      ]
     },
     "execution_count": 91,
     "metadata": {},
     "output_type": "execute_result"
    }
   ],
   "source": [
    "X_train.shape"
   ]
  },
  {
   "cell_type": "code",
   "execution_count": 92,
   "metadata": {},
   "outputs": [
    {
     "data": {
      "text/html": [
       "<div>\n",
       "<style scoped>\n",
       "    .dataframe tbody tr th:only-of-type {\n",
       "        vertical-align: middle;\n",
       "    }\n",
       "\n",
       "    .dataframe tbody tr th {\n",
       "        vertical-align: top;\n",
       "    }\n",
       "\n",
       "    .dataframe thead th {\n",
       "        text-align: right;\n",
       "    }\n",
       "</style>\n",
       "<table border=\"1\" class=\"dataframe\">\n",
       "  <thead>\n",
       "    <tr style=\"text-align: right;\">\n",
       "      <th></th>\n",
       "      <th>mfcc1</th>\n",
       "      <th>mfcc2</th>\n",
       "      <th>mfcc3</th>\n",
       "      <th>mfcc4</th>\n",
       "      <th>mfcc5</th>\n",
       "      <th>mfcc6</th>\n",
       "      <th>mfcc7</th>\n",
       "      <th>mfcc8</th>\n",
       "      <th>mfcc9</th>\n",
       "      <th>mfcc10</th>\n",
       "      <th>...</th>\n",
       "      <th>cqt51</th>\n",
       "      <th>cqt52</th>\n",
       "      <th>cqt53</th>\n",
       "      <th>cqt54</th>\n",
       "      <th>cqt55</th>\n",
       "      <th>cqt56</th>\n",
       "      <th>cqt57</th>\n",
       "      <th>cqt58</th>\n",
       "      <th>cqt59</th>\n",
       "      <th>cqt60</th>\n",
       "    </tr>\n",
       "  </thead>\n",
       "  <tbody>\n",
       "    <tr>\n",
       "      <th>10</th>\n",
       "      <td>-100.435097</td>\n",
       "      <td>-1.179770</td>\n",
       "      <td>-7.223065</td>\n",
       "      <td>10.477060</td>\n",
       "      <td>6.047137</td>\n",
       "      <td>-0.718416</td>\n",
       "      <td>5.564323</td>\n",
       "      <td>3.969131</td>\n",
       "      <td>3.647847</td>\n",
       "      <td>6.732433</td>\n",
       "      <td>...</td>\n",
       "      <td>0.036723</td>\n",
       "      <td>0.044894</td>\n",
       "      <td>0.031001</td>\n",
       "      <td>0.004333</td>\n",
       "      <td>0.029372</td>\n",
       "      <td>0.040234</td>\n",
       "      <td>0.034152</td>\n",
       "      <td>0.037294</td>\n",
       "      <td>0.041746</td>\n",
       "      <td>0.042447</td>\n",
       "    </tr>\n",
       "    <tr>\n",
       "      <th>334</th>\n",
       "      <td>58.467670</td>\n",
       "      <td>20.680447</td>\n",
       "      <td>-25.696152</td>\n",
       "      <td>14.288181</td>\n",
       "      <td>-11.445654</td>\n",
       "      <td>9.216033</td>\n",
       "      <td>-8.956192</td>\n",
       "      <td>2.503687</td>\n",
       "      <td>-5.945823</td>\n",
       "      <td>2.101803</td>\n",
       "      <td>...</td>\n",
       "      <td>0.434186</td>\n",
       "      <td>0.333321</td>\n",
       "      <td>0.247579</td>\n",
       "      <td>0.414485</td>\n",
       "      <td>0.731390</td>\n",
       "      <td>0.808742</td>\n",
       "      <td>0.573227</td>\n",
       "      <td>0.314903</td>\n",
       "      <td>0.478278</td>\n",
       "      <td>0.664970</td>\n",
       "    </tr>\n",
       "    <tr>\n",
       "      <th>244</th>\n",
       "      <td>68.324730</td>\n",
       "      <td>48.451492</td>\n",
       "      <td>-32.522285</td>\n",
       "      <td>6.328343</td>\n",
       "      <td>-6.261542</td>\n",
       "      <td>-0.797560</td>\n",
       "      <td>-2.981740</td>\n",
       "      <td>3.444820</td>\n",
       "      <td>-2.572808</td>\n",
       "      <td>4.427778</td>\n",
       "      <td>...</td>\n",
       "      <td>0.488389</td>\n",
       "      <td>0.667887</td>\n",
       "      <td>0.746685</td>\n",
       "      <td>0.659288</td>\n",
       "      <td>0.446581</td>\n",
       "      <td>0.281469</td>\n",
       "      <td>0.516266</td>\n",
       "      <td>0.500153</td>\n",
       "      <td>0.235457</td>\n",
       "      <td>0.284754</td>\n",
       "    </tr>\n",
       "    <tr>\n",
       "      <th>678</th>\n",
       "      <td>-84.966904</td>\n",
       "      <td>11.010496</td>\n",
       "      <td>-16.296896</td>\n",
       "      <td>8.201663</td>\n",
       "      <td>-13.232374</td>\n",
       "      <td>5.008148</td>\n",
       "      <td>1.999160</td>\n",
       "      <td>5.535106</td>\n",
       "      <td>-6.576716</td>\n",
       "      <td>-6.468094</td>\n",
       "      <td>...</td>\n",
       "      <td>0.072072</td>\n",
       "      <td>0.054399</td>\n",
       "      <td>0.058957</td>\n",
       "      <td>0.109017</td>\n",
       "      <td>0.149013</td>\n",
       "      <td>0.152756</td>\n",
       "      <td>0.139483</td>\n",
       "      <td>0.137186</td>\n",
       "      <td>0.140037</td>\n",
       "      <td>0.126970</td>\n",
       "    </tr>\n",
       "    <tr>\n",
       "      <th>306</th>\n",
       "      <td>55.194660</td>\n",
       "      <td>19.607813</td>\n",
       "      <td>-15.481071</td>\n",
       "      <td>11.850041</td>\n",
       "      <td>-8.047668</td>\n",
       "      <td>6.794124</td>\n",
       "      <td>-3.133302</td>\n",
       "      <td>-0.087510</td>\n",
       "      <td>-1.289195</td>\n",
       "      <td>0.190039</td>\n",
       "      <td>...</td>\n",
       "      <td>0.432578</td>\n",
       "      <td>0.210959</td>\n",
       "      <td>0.087240</td>\n",
       "      <td>0.347968</td>\n",
       "      <td>0.599196</td>\n",
       "      <td>0.642461</td>\n",
       "      <td>0.470942</td>\n",
       "      <td>0.210877</td>\n",
       "      <td>0.259015</td>\n",
       "      <td>0.483628</td>\n",
       "    </tr>\n",
       "    <tr>\n",
       "      <th>...</th>\n",
       "      <td>...</td>\n",
       "      <td>...</td>\n",
       "      <td>...</td>\n",
       "      <td>...</td>\n",
       "      <td>...</td>\n",
       "      <td>...</td>\n",
       "      <td>...</td>\n",
       "      <td>...</td>\n",
       "      <td>...</td>\n",
       "      <td>...</td>\n",
       "      <td>...</td>\n",
       "      <td>...</td>\n",
       "      <td>...</td>\n",
       "      <td>...</td>\n",
       "      <td>...</td>\n",
       "      <td>...</td>\n",
       "      <td>...</td>\n",
       "      <td>...</td>\n",
       "      <td>...</td>\n",
       "      <td>...</td>\n",
       "      <td>...</td>\n",
       "    </tr>\n",
       "    <tr>\n",
       "      <th>106</th>\n",
       "      <td>-160.039108</td>\n",
       "      <td>-7.514415</td>\n",
       "      <td>7.930947</td>\n",
       "      <td>-10.448787</td>\n",
       "      <td>-8.452081</td>\n",
       "      <td>-0.997864</td>\n",
       "      <td>7.655561</td>\n",
       "      <td>-1.937986</td>\n",
       "      <td>-2.455584</td>\n",
       "      <td>-1.052163</td>\n",
       "      <td>...</td>\n",
       "      <td>0.035947</td>\n",
       "      <td>0.001681</td>\n",
       "      <td>0.028099</td>\n",
       "      <td>0.040127</td>\n",
       "      <td>0.030676</td>\n",
       "      <td>0.013136</td>\n",
       "      <td>0.035145</td>\n",
       "      <td>0.052631</td>\n",
       "      <td>0.053328</td>\n",
       "      <td>0.041387</td>\n",
       "    </tr>\n",
       "    <tr>\n",
       "      <th>270</th>\n",
       "      <td>73.540779</td>\n",
       "      <td>53.713284</td>\n",
       "      <td>-37.757568</td>\n",
       "      <td>12.568566</td>\n",
       "      <td>-3.692211</td>\n",
       "      <td>-7.478403</td>\n",
       "      <td>2.662095</td>\n",
       "      <td>-1.684699</td>\n",
       "      <td>3.451220</td>\n",
       "      <td>0.587217</td>\n",
       "      <td>...</td>\n",
       "      <td>1.065842</td>\n",
       "      <td>0.928978</td>\n",
       "      <td>0.689033</td>\n",
       "      <td>0.709220</td>\n",
       "      <td>0.603101</td>\n",
       "      <td>0.524785</td>\n",
       "      <td>0.957877</td>\n",
       "      <td>1.205922</td>\n",
       "      <td>1.101640</td>\n",
       "      <td>0.702767</td>\n",
       "    </tr>\n",
       "    <tr>\n",
       "      <th>860</th>\n",
       "      <td>77.105217</td>\n",
       "      <td>33.249084</td>\n",
       "      <td>-21.317617</td>\n",
       "      <td>11.099008</td>\n",
       "      <td>-11.713524</td>\n",
       "      <td>1.951627</td>\n",
       "      <td>-6.439797</td>\n",
       "      <td>-11.102518</td>\n",
       "      <td>-6.486188</td>\n",
       "      <td>-3.753744</td>\n",
       "      <td>...</td>\n",
       "      <td>0.577591</td>\n",
       "      <td>0.354765</td>\n",
       "      <td>0.086302</td>\n",
       "      <td>0.129536</td>\n",
       "      <td>0.150283</td>\n",
       "      <td>0.124945</td>\n",
       "      <td>0.168302</td>\n",
       "      <td>0.149354</td>\n",
       "      <td>0.344325</td>\n",
       "      <td>0.522993</td>\n",
       "    </tr>\n",
       "    <tr>\n",
       "      <th>435</th>\n",
       "      <td>87.099548</td>\n",
       "      <td>10.554680</td>\n",
       "      <td>-25.365000</td>\n",
       "      <td>18.136826</td>\n",
       "      <td>-11.799400</td>\n",
       "      <td>9.329081</td>\n",
       "      <td>-4.553225</td>\n",
       "      <td>-0.312934</td>\n",
       "      <td>-3.061975</td>\n",
       "      <td>2.634032</td>\n",
       "      <td>...</td>\n",
       "      <td>0.511124</td>\n",
       "      <td>0.191397</td>\n",
       "      <td>0.065021</td>\n",
       "      <td>0.246738</td>\n",
       "      <td>0.491919</td>\n",
       "      <td>0.824548</td>\n",
       "      <td>0.907520</td>\n",
       "      <td>0.694747</td>\n",
       "      <td>0.653785</td>\n",
       "      <td>0.663097</td>\n",
       "    </tr>\n",
       "    <tr>\n",
       "      <th>102</th>\n",
       "      <td>106.136360</td>\n",
       "      <td>36.274567</td>\n",
       "      <td>-22.336790</td>\n",
       "      <td>12.351677</td>\n",
       "      <td>-8.509940</td>\n",
       "      <td>1.778746</td>\n",
       "      <td>-3.410261</td>\n",
       "      <td>1.564065</td>\n",
       "      <td>-2.141182</td>\n",
       "      <td>-1.401669</td>\n",
       "      <td>...</td>\n",
       "      <td>0.997178</td>\n",
       "      <td>0.707082</td>\n",
       "      <td>0.672543</td>\n",
       "      <td>1.113431</td>\n",
       "      <td>1.142425</td>\n",
       "      <td>0.975586</td>\n",
       "      <td>1.162853</td>\n",
       "      <td>1.131439</td>\n",
       "      <td>0.911634</td>\n",
       "      <td>0.903367</td>\n",
       "    </tr>\n",
       "  </tbody>\n",
       "</table>\n",
       "<p>720 rows × 101 columns</p>\n",
       "</div>"
      ],
      "text/plain": [
       "          mfcc1      mfcc2      mfcc3      mfcc4      mfcc5     mfcc6  \\\n",
       "10  -100.435097  -1.179770  -7.223065  10.477060   6.047137 -0.718416   \n",
       "334   58.467670  20.680447 -25.696152  14.288181 -11.445654  9.216033   \n",
       "244   68.324730  48.451492 -32.522285   6.328343  -6.261542 -0.797560   \n",
       "678  -84.966904  11.010496 -16.296896   8.201663 -13.232374  5.008148   \n",
       "306   55.194660  19.607813 -15.481071  11.850041  -8.047668  6.794124   \n",
       "..          ...        ...        ...        ...        ...       ...   \n",
       "106 -160.039108  -7.514415   7.930947 -10.448787  -8.452081 -0.997864   \n",
       "270   73.540779  53.713284 -37.757568  12.568566  -3.692211 -7.478403   \n",
       "860   77.105217  33.249084 -21.317617  11.099008 -11.713524  1.951627   \n",
       "435   87.099548  10.554680 -25.365000  18.136826 -11.799400  9.329081   \n",
       "102  106.136360  36.274567 -22.336790  12.351677  -8.509940  1.778746   \n",
       "\n",
       "        mfcc7      mfcc8     mfcc9    mfcc10  ...     cqt51     cqt52  \\\n",
       "10   5.564323   3.969131  3.647847  6.732433  ...  0.036723  0.044894   \n",
       "334 -8.956192   2.503687 -5.945823  2.101803  ...  0.434186  0.333321   \n",
       "244 -2.981740   3.444820 -2.572808  4.427778  ...  0.488389  0.667887   \n",
       "678  1.999160   5.535106 -6.576716 -6.468094  ...  0.072072  0.054399   \n",
       "306 -3.133302  -0.087510 -1.289195  0.190039  ...  0.432578  0.210959   \n",
       "..        ...        ...       ...       ...  ...       ...       ...   \n",
       "106  7.655561  -1.937986 -2.455584 -1.052163  ...  0.035947  0.001681   \n",
       "270  2.662095  -1.684699  3.451220  0.587217  ...  1.065842  0.928978   \n",
       "860 -6.439797 -11.102518 -6.486188 -3.753744  ...  0.577591  0.354765   \n",
       "435 -4.553225  -0.312934 -3.061975  2.634032  ...  0.511124  0.191397   \n",
       "102 -3.410261   1.564065 -2.141182 -1.401669  ...  0.997178  0.707082   \n",
       "\n",
       "        cqt53     cqt54     cqt55     cqt56     cqt57     cqt58     cqt59  \\\n",
       "10   0.031001  0.004333  0.029372  0.040234  0.034152  0.037294  0.041746   \n",
       "334  0.247579  0.414485  0.731390  0.808742  0.573227  0.314903  0.478278   \n",
       "244  0.746685  0.659288  0.446581  0.281469  0.516266  0.500153  0.235457   \n",
       "678  0.058957  0.109017  0.149013  0.152756  0.139483  0.137186  0.140037   \n",
       "306  0.087240  0.347968  0.599196  0.642461  0.470942  0.210877  0.259015   \n",
       "..        ...       ...       ...       ...       ...       ...       ...   \n",
       "106  0.028099  0.040127  0.030676  0.013136  0.035145  0.052631  0.053328   \n",
       "270  0.689033  0.709220  0.603101  0.524785  0.957877  1.205922  1.101640   \n",
       "860  0.086302  0.129536  0.150283  0.124945  0.168302  0.149354  0.344325   \n",
       "435  0.065021  0.246738  0.491919  0.824548  0.907520  0.694747  0.653785   \n",
       "102  0.672543  1.113431  1.142425  0.975586  1.162853  1.131439  0.911634   \n",
       "\n",
       "        cqt60  \n",
       "10   0.042447  \n",
       "334  0.664970  \n",
       "244  0.284754  \n",
       "678  0.126970  \n",
       "306  0.483628  \n",
       "..        ...  \n",
       "106  0.041387  \n",
       "270  0.702767  \n",
       "860  0.522993  \n",
       "435  0.663097  \n",
       "102  0.903367  \n",
       "\n",
       "[720 rows x 101 columns]"
      ]
     },
     "execution_count": 92,
     "metadata": {},
     "output_type": "execute_result"
    }
   ],
   "source": [
    "X_train"
   ]
  },
  {
   "cell_type": "code",
   "execution_count": 93,
   "metadata": {},
   "outputs": [
    {
     "name": "stdout",
     "output_type": "stream",
     "text": [
      "(180,)\n",
      "(720, 101, 1)\n",
      "(180, 101, 1)\n"
     ]
    }
   ],
   "source": [
    "lb = LabelEncoder()\n",
    "X_train = np.expand_dims(X_train, axis=2)\n",
    "X_test = np.expand_dims(X_test, axis=2)\n",
    "print(y_test.shape)\n",
    "y_test = tf.keras.utils.to_categorical(lb.fit_transform(y_test))\n",
    "y_train = tf.keras.utils.to_categorical(lb.fit_transform(y_train))\n",
    "print(X_train.shape)\n",
    "print(X_test.shape)\n",
    "\n"
   ]
  },
  {
   "cell_type": "code",
   "execution_count": 94,
   "metadata": {},
   "outputs": [],
   "source": [
    "X_train = X_train[..., np.newaxis]\n",
    "X_test = X_test[..., np.newaxis]"
   ]
  },
  {
   "cell_type": "code",
   "execution_count": 64,
   "metadata": {},
   "outputs": [],
   "source": [
    "# X_train.shape\n",
    "# X_test.shape"
   ]
  },
  {
   "cell_type": "code",
   "execution_count": 95,
   "metadata": {},
   "outputs": [],
   "source": [
    "def build_model():\n",
    "    model = models.Sequential(\n",
    "        [\n",
    "            # layers.Conv1D(64, (3), activation=\"relu\", input_shape=(X_train.shape[1], X_train.shape[2])),\n",
    "            # layers.MaxPooling1D((3), strides=(2), padding=\"same\"),\n",
    "\n",
    "            # layers.Conv1D(32, (3) , activation=\"relu\"),\n",
    "            # layers.MaxPooling1D((3), strides=(2), padding=\"same\"),\n",
    "\n",
    "            # layers.Flatten(),\n",
    "            # layers.Dense(64, activation=\"relu\"),\n",
    "            # layers.Dense(5, activation=\"softmax\"),\n",
    "\n",
    "            layers.Conv1D(64, (3), activation=\"relu\", input_shape=(X_train.shape[1], X_train.shape[2])),\n",
    "            layers.MaxPooling1D((3), strides=(2), padding=\"same\"),\n",
    "\n",
    "            layers.Conv1D(32, (3) , activation=\"relu\"),\n",
    "            layers.MaxPooling1D((3), strides=(2), padding=\"same\"),\n",
    "\n",
    "            layers.Flatten(),\n",
    "            layers.Dense(64, activation=\"relu\", activity_regularizer=tf.keras.regularizers.l2(1e-4)),\n",
    "            layers.Dense(5, activation=\"softmax\"),\n",
    "        ]\n",
    "    )\n",
    "\n",
    "    return model"
   ]
  },
  {
   "cell_type": "code",
   "execution_count": 96,
   "metadata": {},
   "outputs": [
    {
     "name": "stdout",
     "output_type": "stream",
     "text": [
      "Model: \"sequential_2\"\n",
      "_________________________________________________________________\n",
      " Layer (type)                Output Shape              Param #   \n",
      "=================================================================\n",
      " conv1d_4 (Conv1D)           (None, 99, 64)            256       \n",
      "                                                                 \n",
      " max_pooling1d_4 (MaxPoolin  (None, 50, 64)            0         \n",
      " g1D)                                                            \n",
      "                                                                 \n",
      " conv1d_5 (Conv1D)           (None, 48, 32)            6176      \n",
      "                                                                 \n",
      " max_pooling1d_5 (MaxPoolin  (None, 24, 32)            0         \n",
      " g1D)                                                            \n",
      "                                                                 \n",
      " flatten_2 (Flatten)         (None, 768)               0         \n",
      "                                                                 \n",
      " dense_4 (Dense)             (None, 64)                49216     \n",
      "                                                                 \n",
      " dense_5 (Dense)             (None, 5)                 325       \n",
      "                                                                 \n",
      "=================================================================\n",
      "Total params: 55973 (218.64 KB)\n",
      "Trainable params: 55973 (218.64 KB)\n",
      "Non-trainable params: 0 (0.00 Byte)\n",
      "_________________________________________________________________\n"
     ]
    }
   ],
   "source": [
    "model = build_model()\n",
    "model.summary()"
   ]
  },
  {
   "cell_type": "code",
   "execution_count": 97,
   "metadata": {},
   "outputs": [
    {
     "name": "stdout",
     "output_type": "stream",
     "text": [
      "Epoch 1/50\n",
      "45/45 [==============================] - 1s 8ms/step - loss: 1.6329 - acc: 0.2917 - val_loss: 1.4272 - val_acc: 0.4722\n",
      "Epoch 2/50\n",
      "45/45 [==============================] - 0s 4ms/step - loss: 1.2638 - acc: 0.5875 - val_loss: 1.1414 - val_acc: 0.6167\n",
      "Epoch 3/50\n",
      "45/45 [==============================] - 0s 4ms/step - loss: 1.0233 - acc: 0.7042 - val_loss: 1.0001 - val_acc: 0.6667\n",
      "Epoch 4/50\n",
      "45/45 [==============================] - 0s 4ms/step - loss: 0.8714 - acc: 0.7625 - val_loss: 0.8512 - val_acc: 0.7167\n",
      "Epoch 5/50\n",
      "45/45 [==============================] - 0s 4ms/step - loss: 0.7662 - acc: 0.7819 - val_loss: 0.7656 - val_acc: 0.7611\n",
      "Epoch 6/50\n",
      "45/45 [==============================] - 0s 4ms/step - loss: 0.6865 - acc: 0.8056 - val_loss: 0.6968 - val_acc: 0.7667\n",
      "Epoch 7/50\n",
      "45/45 [==============================] - 0s 6ms/step - loss: 0.6288 - acc: 0.8319 - val_loss: 0.6477 - val_acc: 0.7833\n",
      "Epoch 8/50\n",
      "45/45 [==============================] - 0s 4ms/step - loss: 0.5803 - acc: 0.8528 - val_loss: 0.6137 - val_acc: 0.7944\n",
      "Epoch 9/50\n",
      "45/45 [==============================] - 0s 4ms/step - loss: 0.5419 - acc: 0.8569 - val_loss: 0.5814 - val_acc: 0.7944\n",
      "Epoch 10/50\n",
      "45/45 [==============================] - 0s 5ms/step - loss: 0.5035 - acc: 0.8667 - val_loss: 0.5466 - val_acc: 0.8000\n",
      "Epoch 11/50\n",
      "45/45 [==============================] - 0s 4ms/step - loss: 0.4758 - acc: 0.8750 - val_loss: 0.5215 - val_acc: 0.8111\n",
      "Epoch 12/50\n",
      "45/45 [==============================] - 0s 4ms/step - loss: 0.4492 - acc: 0.8833 - val_loss: 0.5036 - val_acc: 0.8278\n",
      "Epoch 13/50\n",
      "45/45 [==============================] - 0s 4ms/step - loss: 0.4283 - acc: 0.8861 - val_loss: 0.5040 - val_acc: 0.8056\n",
      "Epoch 14/50\n",
      "45/45 [==============================] - 0s 4ms/step - loss: 0.4067 - acc: 0.8931 - val_loss: 0.4605 - val_acc: 0.8500\n",
      "Epoch 15/50\n",
      "45/45 [==============================] - 0s 4ms/step - loss: 0.3876 - acc: 0.9028 - val_loss: 0.4492 - val_acc: 0.8444\n",
      "Epoch 16/50\n",
      "45/45 [==============================] - 0s 5ms/step - loss: 0.3667 - acc: 0.9125 - val_loss: 0.4391 - val_acc: 0.8556\n",
      "Epoch 17/50\n",
      "45/45 [==============================] - 0s 4ms/step - loss: 0.3522 - acc: 0.9181 - val_loss: 0.4212 - val_acc: 0.8500\n",
      "Epoch 18/50\n",
      "45/45 [==============================] - 0s 5ms/step - loss: 0.3373 - acc: 0.9125 - val_loss: 0.4230 - val_acc: 0.8722\n",
      "Epoch 19/50\n",
      "45/45 [==============================] - 0s 4ms/step - loss: 0.3253 - acc: 0.9181 - val_loss: 0.4057 - val_acc: 0.8778\n",
      "Epoch 20/50\n",
      "45/45 [==============================] - 0s 4ms/step - loss: 0.3071 - acc: 0.9333 - val_loss: 0.4035 - val_acc: 0.8667\n",
      "Epoch 21/50\n",
      "45/45 [==============================] - 0s 4ms/step - loss: 0.2973 - acc: 0.9333 - val_loss: 0.4041 - val_acc: 0.8389\n",
      "Epoch 22/50\n",
      "45/45 [==============================] - 0s 4ms/step - loss: 0.2844 - acc: 0.9375 - val_loss: 0.3809 - val_acc: 0.8722\n",
      "Epoch 23/50\n",
      "45/45 [==============================] - 0s 4ms/step - loss: 0.2712 - acc: 0.9375 - val_loss: 0.3679 - val_acc: 0.8944\n",
      "Epoch 24/50\n",
      "45/45 [==============================] - 0s 4ms/step - loss: 0.2579 - acc: 0.9417 - val_loss: 0.3696 - val_acc: 0.8722\n",
      "Epoch 25/50\n",
      "45/45 [==============================] - 0s 4ms/step - loss: 0.2526 - acc: 0.9444 - val_loss: 0.3685 - val_acc: 0.8667\n",
      "Epoch 26/50\n",
      "45/45 [==============================] - 0s 4ms/step - loss: 0.2413 - acc: 0.9444 - val_loss: 0.3621 - val_acc: 0.9000\n",
      "Epoch 27/50\n",
      "45/45 [==============================] - 0s 4ms/step - loss: 0.2306 - acc: 0.9528 - val_loss: 0.3419 - val_acc: 0.8833\n",
      "Epoch 28/50\n",
      "45/45 [==============================] - 0s 4ms/step - loss: 0.2226 - acc: 0.9444 - val_loss: 0.3473 - val_acc: 0.8889\n",
      "Epoch 29/50\n",
      "45/45 [==============================] - 0s 4ms/step - loss: 0.2178 - acc: 0.9528 - val_loss: 0.3536 - val_acc: 0.8889\n",
      "Epoch 30/50\n",
      "45/45 [==============================] - 0s 4ms/step - loss: 0.2080 - acc: 0.9542 - val_loss: 0.3339 - val_acc: 0.9056\n",
      "Epoch 31/50\n",
      "45/45 [==============================] - 0s 4ms/step - loss: 0.1980 - acc: 0.9611 - val_loss: 0.3290 - val_acc: 0.9056\n",
      "Epoch 32/50\n",
      "45/45 [==============================] - 0s 4ms/step - loss: 0.1901 - acc: 0.9597 - val_loss: 0.3300 - val_acc: 0.8944\n",
      "Epoch 33/50\n",
      "45/45 [==============================] - 0s 5ms/step - loss: 0.1792 - acc: 0.9694 - val_loss: 0.3282 - val_acc: 0.9167\n",
      "Epoch 34/50\n",
      "45/45 [==============================] - 0s 4ms/step - loss: 0.1763 - acc: 0.9681 - val_loss: 0.3174 - val_acc: 0.9056\n",
      "Epoch 35/50\n",
      "45/45 [==============================] - 0s 4ms/step - loss: 0.1720 - acc: 0.9681 - val_loss: 0.3298 - val_acc: 0.9111\n",
      "Epoch 36/50\n",
      "45/45 [==============================] - 0s 4ms/step - loss: 0.1630 - acc: 0.9764 - val_loss: 0.3063 - val_acc: 0.9111\n",
      "Epoch 37/50\n",
      "45/45 [==============================] - 0s 4ms/step - loss: 0.1583 - acc: 0.9708 - val_loss: 0.3181 - val_acc: 0.9333\n",
      "Epoch 38/50\n",
      "45/45 [==============================] - 0s 5ms/step - loss: 0.1524 - acc: 0.9792 - val_loss: 0.3018 - val_acc: 0.9333\n",
      "Epoch 39/50\n",
      "45/45 [==============================] - 0s 4ms/step - loss: 0.1468 - acc: 0.9847 - val_loss: 0.2985 - val_acc: 0.9278\n",
      "Epoch 40/50\n",
      "45/45 [==============================] - 0s 4ms/step - loss: 0.1439 - acc: 0.9806 - val_loss: 0.3163 - val_acc: 0.9056\n",
      "Epoch 41/50\n",
      "45/45 [==============================] - 0s 4ms/step - loss: 0.1387 - acc: 0.9833 - val_loss: 0.2956 - val_acc: 0.9056\n",
      "Epoch 42/50\n",
      "45/45 [==============================] - 0s 4ms/step - loss: 0.1308 - acc: 0.9889 - val_loss: 0.2928 - val_acc: 0.9333\n",
      "Epoch 43/50\n",
      "45/45 [==============================] - 0s 4ms/step - loss: 0.1247 - acc: 0.9903 - val_loss: 0.2870 - val_acc: 0.9222\n",
      "Epoch 44/50\n",
      "45/45 [==============================] - 0s 4ms/step - loss: 0.1203 - acc: 0.9875 - val_loss: 0.3043 - val_acc: 0.9222\n",
      "Epoch 45/50\n",
      "45/45 [==============================] - 0s 4ms/step - loss: 0.1169 - acc: 0.9903 - val_loss: 0.2863 - val_acc: 0.9278\n",
      "Epoch 46/50\n",
      "45/45 [==============================] - 0s 4ms/step - loss: 0.1160 - acc: 0.9903 - val_loss: 0.2776 - val_acc: 0.9278\n",
      "Epoch 47/50\n",
      "45/45 [==============================] - 0s 4ms/step - loss: 0.1112 - acc: 0.9917 - val_loss: 0.2777 - val_acc: 0.9278\n",
      "Epoch 48/50\n",
      "45/45 [==============================] - 0s 4ms/step - loss: 0.1085 - acc: 0.9944 - val_loss: 0.2776 - val_acc: 0.9278\n",
      "Epoch 49/50\n",
      "45/45 [==============================] - 0s 5ms/step - loss: 0.1046 - acc: 0.9944 - val_loss: 0.2847 - val_acc: 0.9167\n",
      "Epoch 50/50\n",
      "45/45 [==============================] - 0s 4ms/step - loss: 0.0991 - acc: 0.9944 - val_loss: 0.2743 - val_acc: 0.9111\n"
     ]
    }
   ],
   "source": [
    "optimazer = tf.keras.optimizers.Adam(learning_rate=0.0001)\n",
    "model.compile(optimizer=optimazer, loss='categorical_crossentropy', metrics=['acc'])\n",
    "# history = model.fit(X_train, y_train, epochs=50, batch_size=64, validation_data=(X_test, y_test))\n",
    "history = model.fit(X_train, y_train, epochs=50, batch_size=16, validation_data=(X_test, y_test))"
   ]
  },
  {
   "cell_type": "code",
   "execution_count": 98,
   "metadata": {},
   "outputs": [
    {
     "name": "stdout",
     "output_type": "stream",
     "text": [
      "1/6 [====>.........................] - ETA: 0s - loss: 0.3298 - acc: 0.9062"
     ]
    },
    {
     "name": "stdout",
     "output_type": "stream",
     "text": [
      "6/6 [==============================] - 0s 3ms/step - loss: 0.2743 - acc: 0.9111\n",
      "Accuracy on test set is: 0.9111111164093018\n"
     ]
    },
    {
     "name": "stderr",
     "output_type": "stream",
     "text": [
      "/home/rafli/anaconda3/envs/tf/lib/python3.11/site-packages/keras/src/engine/training.py:3079: UserWarning: You are saving your model as an HDF5 file via `model.save()`. This file format is considered legacy. We recommend using instead the native Keras format, e.g. `model.save('my_model.keras')`.\n",
      "  saving_api.save_model(\n"
     ]
    },
    {
     "data": {
      "image/png": "[encoded data removed]",
      "text/plain": [
       "<Figure size 800x800 with 1 Axes>"
      ]
     },
     "metadata": {},
     "output_type": "display_data"
    }
   ],
   "source": [
    "# evaluate model on test set\n",
    "test_error, test_accuracy = model.evaluate(X_test, y_test, verbose=1)\n",
    "print(\"Accuracy on test set is: {}\".format(test_accuracy))\n",
    "\n",
    "\n",
    "# plot accuracy/error for training and validation\n",
    "plt.figure(figsize=(8, 8))\n",
    "plt.subplot(2, 1, 1)\n",
    "plt.plot(history.history['acc'], label='Training Accuracy')\n",
    "plt.plot(history.history['val_acc'], label='Validation Accuracy')\n",
    "plt.legend(loc='lower right')\n",
    "plt.ylabel('Accuracy')\n",
    "# model.save('../modelh5/model_cnn_tuning.h5')"
   ]
  },
  {
   "cell_type": "code",
   "execution_count": 99,
   "metadata": {},
   "outputs": [
    {
     "data": {
      "image/png": "[encoded data removed]",
      "text/plain": [
       "<Figure size 800x800 with 1 Axes>"
      ]
     },
     "metadata": {},
     "output_type": "display_data"
    }
   ],
   "source": [
    "plt.figure(figsize=(8, 8))\n",
    "plt.subplot(2, 1, 1)\n",
    "plt.plot(history.history['loss'], label='Training Loss')\n",
    "plt.plot(history.history['val_loss'], label='Validation Loss')\n",
    "plt.legend(loc='upper right')\n",
    "plt.ylabel('Cross Entropy')\n",
    "plt.xlabel('Epoch')\n",
    "plt.show()\n"
   ]
  },
  {
   "cell_type": "code",
   "execution_count": 100,
   "metadata": {},
   "outputs": [
    {
     "name": "stdout",
     "output_type": "stream",
     "text": [
      "6/6 [==============================] - 0s 2ms/step\n"
     ]
    },
    {
     "data": {
      "text/plain": [
       "array([[34,  0,  0,  1,  0],\n",
       "       [ 0, 26,  5,  0,  0],\n",
       "       [ 0,  3, 34,  1,  0],\n",
       "       [ 3,  1,  1, 30,  0],\n",
       "       [ 1,  0,  0,  0, 40]])"
      ]
     },
     "execution_count": 100,
     "metadata": {},
     "output_type": "execute_result"
    }
   ],
   "source": [
    "# confusion matrix\n",
    "from sklearn.metrics import confusion_matrix, ConfusionMatrixDisplay\n",
    "y_pred = model.predict(X_test)\n",
    "y_p = np.argmax(y_pred, axis=1)\n",
    "y_t = np.argmax(y_test, axis=1)\n",
    "cm = confusion_matrix(y_t, y_p)\n",
    "cm"
   ]
  },
  {
   "cell_type": "code",
   "execution_count": 101,
   "metadata": {},
   "outputs": [
    {
     "data": {
      "image/png": "[encoded data removed]",
      "text/plain": [
       "<Figure size 640x480 with 2 Axes>"
      ]
     },
     "metadata": {},
     "output_type": "display_data"
    }
   ],
   "source": [
    "disp = ConfusionMatrixDisplay(confusion_matrix=cm, display_labels=['AS', 'MR', 'MS', 'MVP', 'N'])\n",
    "disp.plot()\n",
    "plt.show()"
   ]
  },
  {
   "cell_type": "code",
   "execution_count": 102,
   "metadata": {},
   "outputs": [],
   "source": [
    "FP = cm.sum(axis=0) - np.diag(cm)  \n",
    "FN = cm.sum(axis=1) - np.diag(cm)\n",
    "TP = np.diag(cm)\n",
    "TN = cm.sum() - (FP + FN + TP)\n",
    "\n",
    "# Sensitivity, hit rate, recall, or true positive rate\n",
    "TPR = TP/(TP+FN)\n",
    "# Specificity or true negative rate\n",
    "TNR = TN/(TN+FP) \n",
    "# Precision or positive predictive value\n",
    "PPV = TP/(TP+FP)\n",
    "# Negative predictive value\n",
    "NPV = TN/(TN+FN)\n",
    "# Fall out or false positive rate\n",
    "FPR = FP/(FP+TN)\n",
    "# False negative rate\n",
    "FNR = FN/(TP+FN)\n",
    "# False discovery rate\n",
    "FDR = FP/(TP+FP)\n",
    "\n",
    "# Overall accuracy\n",
    "ACC = (TP+TN)/(TP+FP+FN+TN)"
   ]
  },
  {
   "cell_type": "code",
   "execution_count": 103,
   "metadata": {},
   "outputs": [
    {
     "name": "stdout",
     "output_type": "stream",
     "text": [
      "[0.97241379 0.97315436 0.95774648 0.9862069  1.        ]\n"
     ]
    }
   ],
   "source": [
    "print(TNR)"
   ]
  },
  {
   "cell_type": "code",
   "execution_count": 104,
   "metadata": {},
   "outputs": [],
   "source": [
    "# specificity AS\n",
    "# TN / (TN + FP)\n",
    "# spe = \n"
   ]
  },
  {
   "cell_type": "code",
   "execution_count": 105,
   "metadata": {},
   "outputs": [
    {
     "name": "stdout",
     "output_type": "stream",
     "text": [
      "              precision    recall  f1-score   support\n",
      "\n",
      "           0       0.89      0.97      0.93        35\n",
      "           1       0.87      0.84      0.85        31\n",
      "           2       0.85      0.89      0.87        38\n",
      "           3       0.94      0.86      0.90        35\n",
      "           4       1.00      0.98      0.99        41\n",
      "\n",
      "    accuracy                           0.91       180\n",
      "   macro avg       0.91      0.91      0.91       180\n",
      "weighted avg       0.91      0.91      0.91       180\n",
      "\n"
     ]
    }
   ],
   "source": [
    "# classification_report\n",
    "from sklearn.metrics import classification_report\n",
    "\n",
    "print(classification_report(y_t, y_p))"
   ]
  },
  {
   "cell_type": "markdown",
   "metadata": {},
   "source": [
    "### Testing"
   ]
  },
  {
   "cell_type": "code",
   "execution_count": 106,
   "metadata": {},
   "outputs": [
    {
     "name": "stdout",
     "output_type": "stream",
     "text": [
      "Model: \"sequential_2\"\n",
      "_________________________________________________________________\n",
      " Layer (type)                Output Shape              Param #   \n",
      "=================================================================\n",
      " conv1d_4 (Conv1D)           (None, 99, 64)            256       \n",
      "                                                                 \n",
      " max_pooling1d_4 (MaxPoolin  (None, 50, 64)            0         \n",
      " g1D)                                                            \n",
      "                                                                 \n",
      " conv1d_5 (Conv1D)           (None, 48, 32)            6176      \n",
      "                                                                 \n",
      " max_pooling1d_5 (MaxPoolin  (None, 24, 32)            0         \n",
      " g1D)                                                            \n",
      "                                                                 \n",
      " flatten_2 (Flatten)         (None, 768)               0         \n",
      "                                                                 \n",
      " dense_4 (Dense)             (None, 64)                49216     \n",
      "                                                                 \n",
      " dense_5 (Dense)             (None, 5)                 325       \n",
      "                                                                 \n",
      "=================================================================\n",
      "Total params: 55973 (218.64 KB)\n",
      "Trainable params: 55973 (218.64 KB)\n",
      "Non-trainable params: 0 (0.00 Byte)\n",
      "_________________________________________________________________\n"
     ]
    }
   ],
   "source": [
    "model_uri = '../modelh5/model_cnn_tuning.h5'\n",
    "new_model = tf.keras.models.load_model(model_uri)\n",
    "new_model.summary()\n",
    "\n"
   ]
  },
  {
   "cell_type": "code",
   "execution_count": 107,
   "metadata": {},
   "outputs": [],
   "source": [
    "import wave\n",
    "import json\n",
    "header = 'filename'\n",
    "for i in range(1, 41):\n",
    "    header += f' mfcc{i}'\n",
    "header += ' rms'\n",
    "for i in range(1, 61):\n",
    "  header += f' cqt{i}'\n",
    "header += ' label'\n",
    "header = header.split()\n",
    "\n",
    "\n",
    "def extract_mfcc(audiofile):\n",
    "    file = open('test.csv', 'w', newline='')\n",
    "    with file:\n",
    "        writer = csv.writer(file)\n",
    "        writer.writerow(header)\n",
    "    y, sr = librosa.load(audiofile, mono=True, duration=3, sr=8000)\n",
    "    coeffs = wavedec(y, 'db6', level=10)\n",
    "    cA,cD10,cD9,cD8,cD7,cD6,cD5,cD4,cD3,cD2, cD1 = coeffs\n",
    "    mfcc = librosa.feature.mfcc(y=cD7, sr=8000, n_mfcc=40, n_fft=2048, hop_length=512, n_mels=128)\n",
    "    rms = librosa.feature.rms(y=cD7)[0]\n",
    "    cqt = np.abs(librosa.cqt(y=cD7, sr=sr, n_bins=60)) \n",
    "    combined_features = np.concatenate((mfcc, rms.reshape(1, -1), cqt), axis=0)\n",
    "    to_append = f'Signal'\n",
    "    for e in combined_features:\n",
    "        to_append += f' {np.mean(e.T, axis=0)}'\n",
    "    file = open('test.csv', 'a', newline='')\n",
    "    with file:\n",
    "        writer = csv.writer(file)\n",
    "        writer.writerow(to_append.split())\n",
    "\n",
    "def predict(audio):\n",
    "    model = tf.keras.models.load_model(model_uri)\n",
    "    extract_mfcc(audio)\n",
    "    data = pd.read_csv('test.csv')\n",
    "    scaler = StandardScaler()\n",
    "    df = data.drop(['label', 'filename'], axis=1)\n",
    "    pred = model.predict(df)\n",
    "    class_labels = ['AS', 'MR', 'MS', 'MVP', 'N']\n",
    "    cek = np.argmax(pred[0])\n",
    "    # print(pred[0])\n",
    "    # print(cek)\n",
    "    print(\"=====\")\n",
    "    print(audio)\n",
    "    print(f'Predicted class: {class_labels[cek]}')\n",
    "    print(\"=====\")\n"
   ]
  },
  {
   "cell_type": "code",
   "execution_count": 108,
   "metadata": {},
   "outputs": [
    {
     "name": "stdout",
     "output_type": "stream",
     "text": [
      "1/1 [==============================] - 0s 80ms/step\n",
      "=====\n",
      "../data/testing_10/MVP/New_MVP_033.wav\n",
      "Predicted class: MVP\n",
      "=====\n"
     ]
    },
    {
     "name": "stderr",
     "output_type": "stream",
     "text": [
      "/home/rafli/anaconda3/envs/tf/lib/python3.11/site-packages/librosa/core/spectrum.py:257: UserWarning: n_fft=2048 is too large for input signal of length=178\n",
      "  warnings.warn(\n",
      "/home/rafli/anaconda3/envs/tf/lib/python3.11/site-packages/librosa/core/spectrum.py:257: UserWarning: n_fft=512 is too large for input signal of length=178\n",
      "  warnings.warn(\n",
      "/home/rafli/anaconda3/envs/tf/lib/python3.11/site-packages/librosa/core/spectrum.py:257: UserWarning: n_fft=512 is too large for input signal of length=89\n",
      "  warnings.warn(\n",
      "/home/rafli/anaconda3/envs/tf/lib/python3.11/site-packages/librosa/core/spectrum.py:257: UserWarning: n_fft=512 is too large for input signal of length=45\n",
      "  warnings.warn(\n",
      "/home/rafli/anaconda3/envs/tf/lib/python3.11/site-packages/librosa/core/spectrum.py:257: UserWarning: n_fft=512 is too large for input signal of length=23\n",
      "  warnings.warn(\n",
      "/home/rafli/anaconda3/envs/tf/lib/python3.11/site-packages/librosa/core/spectrum.py:257: UserWarning: n_fft=512 is too large for input signal of length=12\n",
      "  warnings.warn(\n"
     ]
    }
   ],
   "source": [
    "predict('../data/testing_10/MVP/New_MVP_033.wav')"
   ]
  },
  {
   "cell_type": "code",
   "execution_count": 82,
   "metadata": {},
   "outputs": [
    {
     "name": "stdout",
     "output_type": "stream",
     "text": [
      "\n",
      "Processing: MVP\n",
      "1/1 [==============================] - 0s 94ms/step\n"
     ]
    },
    {
     "name": "stderr",
     "output_type": "stream",
     "text": [
      "/home/rafli/anaconda3/envs/tf/lib/python3.11/site-packages/librosa/core/spectrum.py:257: UserWarning: n_fft=2048 is too large for input signal of length=286\n",
      "  warnings.warn(\n",
      "/home/rafli/anaconda3/envs/tf/lib/python3.11/site-packages/librosa/core/spectrum.py:257: UserWarning: n_fft=512 is too large for input signal of length=286\n",
      "  warnings.warn(\n",
      "/home/rafli/anaconda3/envs/tf/lib/python3.11/site-packages/librosa/core/spectrum.py:257: UserWarning: n_fft=512 is too large for input signal of length=143\n",
      "  warnings.warn(\n",
      "/home/rafli/anaconda3/envs/tf/lib/python3.11/site-packages/librosa/core/spectrum.py:257: UserWarning: n_fft=512 is too large for input signal of length=72\n",
      "  warnings.warn(\n",
      "/home/rafli/anaconda3/envs/tf/lib/python3.11/site-packages/librosa/core/spectrum.py:257: UserWarning: n_fft=512 is too large for input signal of length=36\n",
      "  warnings.warn(\n",
      "/home/rafli/anaconda3/envs/tf/lib/python3.11/site-packages/librosa/core/spectrum.py:257: UserWarning: n_fft=512 is too large for input signal of length=18\n",
      "  warnings.warn(\n"
     ]
    },
    {
     "name": "stdout",
     "output_type": "stream",
     "text": [
      "=====\n",
      "../data/testing_10/MVP/New_MVP_135.wav\n",
      "Predicted class: MVP\n",
      "=====\n",
      "1/1 [==============================] - 0s 102ms/step\n"
     ]
    },
    {
     "name": "stderr",
     "output_type": "stream",
     "text": [
      "/home/rafli/anaconda3/envs/tf/lib/python3.11/site-packages/librosa/core/spectrum.py:257: UserWarning: n_fft=2048 is too large for input signal of length=231\n",
      "  warnings.warn(\n",
      "/home/rafli/anaconda3/envs/tf/lib/python3.11/site-packages/librosa/core/spectrum.py:257: UserWarning: n_fft=512 is too large for input signal of length=231\n",
      "  warnings.warn(\n",
      "/home/rafli/anaconda3/envs/tf/lib/python3.11/site-packages/librosa/core/spectrum.py:257: UserWarning: n_fft=512 is too large for input signal of length=116\n",
      "  warnings.warn(\n",
      "/home/rafli/anaconda3/envs/tf/lib/python3.11/site-packages/librosa/core/spectrum.py:257: UserWarning: n_fft=512 is too large for input signal of length=58\n",
      "  warnings.warn(\n",
      "/home/rafli/anaconda3/envs/tf/lib/python3.11/site-packages/librosa/core/spectrum.py:257: UserWarning: n_fft=512 is too large for input signal of length=29\n",
      "  warnings.warn(\n",
      "/home/rafli/anaconda3/envs/tf/lib/python3.11/site-packages/librosa/core/spectrum.py:257: UserWarning: n_fft=512 is too large for input signal of length=15\n",
      "  warnings.warn(\n"
     ]
    },
    {
     "name": "stdout",
     "output_type": "stream",
     "text": [
      "=====\n",
      "../data/testing_10/MVP/New_MVP_192.wav\n",
      "Predicted class: MR\n",
      "=====\n",
      "1/1 [==============================] - 0s 91ms/step\n"
     ]
    },
    {
     "name": "stderr",
     "output_type": "stream",
     "text": [
      "/home/rafli/anaconda3/envs/tf/lib/python3.11/site-packages/librosa/core/spectrum.py:257: UserWarning: n_fft=2048 is too large for input signal of length=325\n",
      "  warnings.warn(\n",
      "/home/rafli/anaconda3/envs/tf/lib/python3.11/site-packages/librosa/core/spectrum.py:257: UserWarning: n_fft=512 is too large for input signal of length=325\n",
      "  warnings.warn(\n",
      "/home/rafli/anaconda3/envs/tf/lib/python3.11/site-packages/librosa/core/spectrum.py:257: UserWarning: n_fft=512 is too large for input signal of length=163\n",
      "  warnings.warn(\n",
      "/home/rafli/anaconda3/envs/tf/lib/python3.11/site-packages/librosa/core/spectrum.py:257: UserWarning: n_fft=512 is too large for input signal of length=82\n",
      "  warnings.warn(\n",
      "/home/rafli/anaconda3/envs/tf/lib/python3.11/site-packages/librosa/core/spectrum.py:257: UserWarning: n_fft=512 is too large for input signal of length=41\n",
      "  warnings.warn(\n",
      "/home/rafli/anaconda3/envs/tf/lib/python3.11/site-packages/librosa/core/spectrum.py:257: UserWarning: n_fft=512 is too large for input signal of length=21\n",
      "  warnings.warn(\n"
     ]
    },
    {
     "name": "stdout",
     "output_type": "stream",
     "text": [
      "=====\n",
      "../data/testing_10/MVP/New_MVP_179.wav\n",
      "Predicted class: MR\n",
      "=====\n",
      "1/1 [==============================] - 0s 89ms/step\n"
     ]
    },
    {
     "name": "stderr",
     "output_type": "stream",
     "text": [
      "/home/rafli/anaconda3/envs/tf/lib/python3.11/site-packages/librosa/core/spectrum.py:257: UserWarning: n_fft=2048 is too large for input signal of length=273\n",
      "  warnings.warn(\n",
      "/home/rafli/anaconda3/envs/tf/lib/python3.11/site-packages/librosa/core/spectrum.py:257: UserWarning: n_fft=512 is too large for input signal of length=273\n",
      "  warnings.warn(\n",
      "/home/rafli/anaconda3/envs/tf/lib/python3.11/site-packages/librosa/core/spectrum.py:257: UserWarning: n_fft=512 is too large for input signal of length=137\n",
      "  warnings.warn(\n",
      "/home/rafli/anaconda3/envs/tf/lib/python3.11/site-packages/librosa/core/spectrum.py:257: UserWarning: n_fft=512 is too large for input signal of length=69\n",
      "  warnings.warn(\n",
      "/home/rafli/anaconda3/envs/tf/lib/python3.11/site-packages/librosa/core/spectrum.py:257: UserWarning: n_fft=512 is too large for input signal of length=35\n",
      "  warnings.warn(\n",
      "/home/rafli/anaconda3/envs/tf/lib/python3.11/site-packages/librosa/core/spectrum.py:257: UserWarning: n_fft=512 is too large for input signal of length=18\n",
      "  warnings.warn(\n"
     ]
    },
    {
     "name": "stdout",
     "output_type": "stream",
     "text": [
      "=====\n",
      "../data/testing_10/MVP/New_MVP_165.wav\n",
      "Predicted class: MVP\n",
      "=====\n",
      "1/1 [==============================] - 0s 81ms/step\n"
     ]
    },
    {
     "name": "stderr",
     "output_type": "stream",
     "text": [
      "/home/rafli/anaconda3/envs/tf/lib/python3.11/site-packages/librosa/core/spectrum.py:257: UserWarning: n_fft=2048 is too large for input signal of length=330\n",
      "  warnings.warn(\n",
      "/home/rafli/anaconda3/envs/tf/lib/python3.11/site-packages/librosa/core/spectrum.py:257: UserWarning: n_fft=512 is too large for input signal of length=330\n",
      "  warnings.warn(\n",
      "/home/rafli/anaconda3/envs/tf/lib/python3.11/site-packages/librosa/core/spectrum.py:257: UserWarning: n_fft=512 is too large for input signal of length=165\n",
      "  warnings.warn(\n",
      "/home/rafli/anaconda3/envs/tf/lib/python3.11/site-packages/librosa/core/spectrum.py:257: UserWarning: n_fft=512 is too large for input signal of length=83\n",
      "  warnings.warn(\n",
      "/home/rafli/anaconda3/envs/tf/lib/python3.11/site-packages/librosa/core/spectrum.py:257: UserWarning: n_fft=512 is too large for input signal of length=42\n",
      "  warnings.warn(\n",
      "/home/rafli/anaconda3/envs/tf/lib/python3.11/site-packages/librosa/core/spectrum.py:257: UserWarning: n_fft=512 is too large for input signal of length=21\n",
      "  warnings.warn(\n"
     ]
    },
    {
     "name": "stdout",
     "output_type": "stream",
     "text": [
      "=====\n",
      "../data/testing_10/MVP/New_MVP_024.wav\n",
      "Predicted class: MVP\n",
      "=====\n",
      "1/1 [==============================] - 0s 85ms/step\n"
     ]
    },
    {
     "name": "stderr",
     "output_type": "stream",
     "text": [
      "/home/rafli/anaconda3/envs/tf/lib/python3.11/site-packages/librosa/core/spectrum.py:257: UserWarning: n_fft=2048 is too large for input signal of length=267\n",
      "  warnings.warn(\n",
      "/home/rafli/anaconda3/envs/tf/lib/python3.11/site-packages/librosa/core/spectrum.py:257: UserWarning: n_fft=512 is too large for input signal of length=267\n",
      "  warnings.warn(\n",
      "/home/rafli/anaconda3/envs/tf/lib/python3.11/site-packages/librosa/core/spectrum.py:257: UserWarning: n_fft=512 is too large for input signal of length=134\n",
      "  warnings.warn(\n",
      "/home/rafli/anaconda3/envs/tf/lib/python3.11/site-packages/librosa/core/spectrum.py:257: UserWarning: n_fft=512 is too large for input signal of length=67\n",
      "  warnings.warn(\n",
      "/home/rafli/anaconda3/envs/tf/lib/python3.11/site-packages/librosa/core/spectrum.py:257: UserWarning: n_fft=512 is too large for input signal of length=34\n",
      "  warnings.warn(\n",
      "/home/rafli/anaconda3/envs/tf/lib/python3.11/site-packages/librosa/core/spectrum.py:257: UserWarning: n_fft=512 is too large for input signal of length=17\n",
      "  warnings.warn(\n"
     ]
    },
    {
     "name": "stdout",
     "output_type": "stream",
     "text": [
      "=====\n",
      "../data/testing_10/MVP/New_MVP_129.wav\n",
      "Predicted class: MVP\n",
      "=====\n",
      "1/1 [==============================] - 0s 86ms/step\n"
     ]
    },
    {
     "name": "stderr",
     "output_type": "stream",
     "text": [
      "/home/rafli/anaconda3/envs/tf/lib/python3.11/site-packages/librosa/core/spectrum.py:257: UserWarning: n_fft=2048 is too large for input signal of length=345\n",
      "  warnings.warn(\n",
      "/home/rafli/anaconda3/envs/tf/lib/python3.11/site-packages/librosa/core/spectrum.py:257: UserWarning: n_fft=512 is too large for input signal of length=345\n",
      "  warnings.warn(\n",
      "/home/rafli/anaconda3/envs/tf/lib/python3.11/site-packages/librosa/core/spectrum.py:257: UserWarning: n_fft=512 is too large for input signal of length=173\n",
      "  warnings.warn(\n",
      "/home/rafli/anaconda3/envs/tf/lib/python3.11/site-packages/librosa/core/spectrum.py:257: UserWarning: n_fft=512 is too large for input signal of length=87\n",
      "  warnings.warn(\n",
      "/home/rafli/anaconda3/envs/tf/lib/python3.11/site-packages/librosa/core/spectrum.py:257: UserWarning: n_fft=512 is too large for input signal of length=44\n",
      "  warnings.warn(\n",
      "/home/rafli/anaconda3/envs/tf/lib/python3.11/site-packages/librosa/core/spectrum.py:257: UserWarning: n_fft=512 is too large for input signal of length=22\n",
      "  warnings.warn(\n"
     ]
    },
    {
     "name": "stdout",
     "output_type": "stream",
     "text": [
      "=====\n",
      "../data/testing_10/MVP/New_MVP_067.wav\n",
      "Predicted class: MVP\n",
      "=====\n",
      "1/1 [==============================] - 0s 83ms/step\n"
     ]
    },
    {
     "name": "stderr",
     "output_type": "stream",
     "text": [
      "/home/rafli/anaconda3/envs/tf/lib/python3.11/site-packages/librosa/core/spectrum.py:257: UserWarning: n_fft=2048 is too large for input signal of length=268\n",
      "  warnings.warn(\n",
      "/home/rafli/anaconda3/envs/tf/lib/python3.11/site-packages/librosa/core/spectrum.py:257: UserWarning: n_fft=512 is too large for input signal of length=268\n",
      "  warnings.warn(\n",
      "/home/rafli/anaconda3/envs/tf/lib/python3.11/site-packages/librosa/core/spectrum.py:257: UserWarning: n_fft=512 is too large for input signal of length=134\n",
      "  warnings.warn(\n",
      "/home/rafli/anaconda3/envs/tf/lib/python3.11/site-packages/librosa/core/spectrum.py:257: UserWarning: n_fft=512 is too large for input signal of length=67\n",
      "  warnings.warn(\n",
      "/home/rafli/anaconda3/envs/tf/lib/python3.11/site-packages/librosa/core/spectrum.py:257: UserWarning: n_fft=512 is too large for input signal of length=34\n",
      "  warnings.warn(\n",
      "/home/rafli/anaconda3/envs/tf/lib/python3.11/site-packages/librosa/core/spectrum.py:257: UserWarning: n_fft=512 is too large for input signal of length=17\n",
      "  warnings.warn(\n"
     ]
    },
    {
     "name": "stdout",
     "output_type": "stream",
     "text": [
      "=====\n",
      "../data/testing_10/MVP/New_MVP_164.wav\n",
      "Predicted class: MVP\n",
      "=====\n",
      "1/1 [==============================] - 0s 80ms/step\n"
     ]
    },
    {
     "name": "stderr",
     "output_type": "stream",
     "text": [
      "/home/rafli/anaconda3/envs/tf/lib/python3.11/site-packages/librosa/core/spectrum.py:257: UserWarning: n_fft=2048 is too large for input signal of length=330\n",
      "  warnings.warn(\n",
      "/home/rafli/anaconda3/envs/tf/lib/python3.11/site-packages/librosa/core/spectrum.py:257: UserWarning: n_fft=512 is too large for input signal of length=330\n",
      "  warnings.warn(\n",
      "/home/rafli/anaconda3/envs/tf/lib/python3.11/site-packages/librosa/core/spectrum.py:257: UserWarning: n_fft=512 is too large for input signal of length=165\n",
      "  warnings.warn(\n",
      "/home/rafli/anaconda3/envs/tf/lib/python3.11/site-packages/librosa/core/spectrum.py:257: UserWarning: n_fft=512 is too large for input signal of length=83\n",
      "  warnings.warn(\n",
      "/home/rafli/anaconda3/envs/tf/lib/python3.11/site-packages/librosa/core/spectrum.py:257: UserWarning: n_fft=512 is too large for input signal of length=42\n",
      "  warnings.warn(\n",
      "/home/rafli/anaconda3/envs/tf/lib/python3.11/site-packages/librosa/core/spectrum.py:257: UserWarning: n_fft=512 is too large for input signal of length=21\n",
      "  warnings.warn(\n"
     ]
    },
    {
     "name": "stdout",
     "output_type": "stream",
     "text": [
      "=====\n",
      "../data/testing_10/MVP/New_MVP_010.wav\n",
      "Predicted class: MVP\n",
      "=====\n",
      "1/1 [==============================] - 0s 78ms/step\n"
     ]
    },
    {
     "name": "stderr",
     "output_type": "stream",
     "text": [
      "/home/rafli/anaconda3/envs/tf/lib/python3.11/site-packages/librosa/core/spectrum.py:257: UserWarning: n_fft=2048 is too large for input signal of length=345\n",
      "  warnings.warn(\n",
      "/home/rafli/anaconda3/envs/tf/lib/python3.11/site-packages/librosa/core/spectrum.py:257: UserWarning: n_fft=512 is too large for input signal of length=345\n",
      "  warnings.warn(\n",
      "/home/rafli/anaconda3/envs/tf/lib/python3.11/site-packages/librosa/core/spectrum.py:257: UserWarning: n_fft=512 is too large for input signal of length=173\n",
      "  warnings.warn(\n",
      "/home/rafli/anaconda3/envs/tf/lib/python3.11/site-packages/librosa/core/spectrum.py:257: UserWarning: n_fft=512 is too large for input signal of length=87\n",
      "  warnings.warn(\n",
      "/home/rafli/anaconda3/envs/tf/lib/python3.11/site-packages/librosa/core/spectrum.py:257: UserWarning: n_fft=512 is too large for input signal of length=44\n",
      "  warnings.warn(\n",
      "/home/rafli/anaconda3/envs/tf/lib/python3.11/site-packages/librosa/core/spectrum.py:257: UserWarning: n_fft=512 is too large for input signal of length=22\n",
      "  warnings.warn(\n"
     ]
    },
    {
     "name": "stdout",
     "output_type": "stream",
     "text": [
      "=====\n",
      "../data/testing_10/MVP/New_MVP_033.wav\n",
      "Predicted class: MVP\n",
      "=====\n",
      "1/1 [==============================] - 0s 92ms/step\n"
     ]
    },
    {
     "name": "stderr",
     "output_type": "stream",
     "text": [
      "/home/rafli/anaconda3/envs/tf/lib/python3.11/site-packages/librosa/core/spectrum.py:257: UserWarning: n_fft=2048 is too large for input signal of length=349\n",
      "  warnings.warn(\n",
      "/home/rafli/anaconda3/envs/tf/lib/python3.11/site-packages/librosa/core/spectrum.py:257: UserWarning: n_fft=512 is too large for input signal of length=349\n",
      "  warnings.warn(\n",
      "/home/rafli/anaconda3/envs/tf/lib/python3.11/site-packages/librosa/core/spectrum.py:257: UserWarning: n_fft=512 is too large for input signal of length=175\n",
      "  warnings.warn(\n",
      "/home/rafli/anaconda3/envs/tf/lib/python3.11/site-packages/librosa/core/spectrum.py:257: UserWarning: n_fft=512 is too large for input signal of length=88\n",
      "  warnings.warn(\n",
      "/home/rafli/anaconda3/envs/tf/lib/python3.11/site-packages/librosa/core/spectrum.py:257: UserWarning: n_fft=512 is too large for input signal of length=44\n",
      "  warnings.warn(\n",
      "/home/rafli/anaconda3/envs/tf/lib/python3.11/site-packages/librosa/core/spectrum.py:257: UserWarning: n_fft=512 is too large for input signal of length=22\n",
      "  warnings.warn(\n"
     ]
    },
    {
     "name": "stdout",
     "output_type": "stream",
     "text": [
      "=====\n",
      "../data/testing_10/MVP/New_MVP_094.wav\n",
      "Predicted class: MVP\n",
      "=====\n",
      "1/1 [==============================] - 0s 87ms/step\n"
     ]
    },
    {
     "name": "stderr",
     "output_type": "stream",
     "text": [
      "/home/rafli/anaconda3/envs/tf/lib/python3.11/site-packages/librosa/core/spectrum.py:257: UserWarning: n_fft=2048 is too large for input signal of length=281\n",
      "  warnings.warn(\n",
      "/home/rafli/anaconda3/envs/tf/lib/python3.11/site-packages/librosa/core/spectrum.py:257: UserWarning: n_fft=512 is too large for input signal of length=281\n",
      "  warnings.warn(\n",
      "/home/rafli/anaconda3/envs/tf/lib/python3.11/site-packages/librosa/core/spectrum.py:257: UserWarning: n_fft=512 is too large for input signal of length=141\n",
      "  warnings.warn(\n",
      "/home/rafli/anaconda3/envs/tf/lib/python3.11/site-packages/librosa/core/spectrum.py:257: UserWarning: n_fft=512 is too large for input signal of length=71\n",
      "  warnings.warn(\n",
      "/home/rafli/anaconda3/envs/tf/lib/python3.11/site-packages/librosa/core/spectrum.py:257: UserWarning: n_fft=512 is too large for input signal of length=36\n",
      "  warnings.warn(\n",
      "/home/rafli/anaconda3/envs/tf/lib/python3.11/site-packages/librosa/core/spectrum.py:257: UserWarning: n_fft=512 is too large for input signal of length=18\n",
      "  warnings.warn(\n"
     ]
    },
    {
     "name": "stdout",
     "output_type": "stream",
     "text": [
      "=====\n",
      "../data/testing_10/MVP/New_MVP_145.wav\n",
      "Predicted class: MVP\n",
      "=====\n",
      "1/1 [==============================] - 0s 80ms/step\n"
     ]
    },
    {
     "name": "stderr",
     "output_type": "stream",
     "text": [
      "/home/rafli/anaconda3/envs/tf/lib/python3.11/site-packages/librosa/core/spectrum.py:257: UserWarning: n_fft=2048 is too large for input signal of length=377\n",
      "  warnings.warn(\n",
      "/home/rafli/anaconda3/envs/tf/lib/python3.11/site-packages/librosa/core/spectrum.py:257: UserWarning: n_fft=512 is too large for input signal of length=377\n",
      "  warnings.warn(\n",
      "/home/rafli/anaconda3/envs/tf/lib/python3.11/site-packages/librosa/core/spectrum.py:257: UserWarning: n_fft=512 is too large for input signal of length=189\n",
      "  warnings.warn(\n",
      "/home/rafli/anaconda3/envs/tf/lib/python3.11/site-packages/librosa/core/spectrum.py:257: UserWarning: n_fft=512 is too large for input signal of length=95\n",
      "  warnings.warn(\n",
      "/home/rafli/anaconda3/envs/tf/lib/python3.11/site-packages/librosa/core/spectrum.py:257: UserWarning: n_fft=512 is too large for input signal of length=48\n",
      "  warnings.warn(\n",
      "/home/rafli/anaconda3/envs/tf/lib/python3.11/site-packages/librosa/core/spectrum.py:257: UserWarning: n_fft=512 is too large for input signal of length=24\n",
      "  warnings.warn(\n"
     ]
    },
    {
     "name": "stdout",
     "output_type": "stream",
     "text": [
      "=====\n",
      "../data/testing_10/MVP/New_MVP_116.wav\n",
      "Predicted class: N\n",
      "=====\n",
      "1/1 [==============================] - 0s 102ms/step\n"
     ]
    },
    {
     "name": "stderr",
     "output_type": "stream",
     "text": [
      "/home/rafli/anaconda3/envs/tf/lib/python3.11/site-packages/librosa/core/spectrum.py:257: UserWarning: n_fft=2048 is too large for input signal of length=333\n",
      "  warnings.warn(\n",
      "/home/rafli/anaconda3/envs/tf/lib/python3.11/site-packages/librosa/core/spectrum.py:257: UserWarning: n_fft=512 is too large for input signal of length=333\n",
      "  warnings.warn(\n",
      "/home/rafli/anaconda3/envs/tf/lib/python3.11/site-packages/librosa/core/spectrum.py:257: UserWarning: n_fft=512 is too large for input signal of length=167\n",
      "  warnings.warn(\n",
      "/home/rafli/anaconda3/envs/tf/lib/python3.11/site-packages/librosa/core/spectrum.py:257: UserWarning: n_fft=512 is too large for input signal of length=84\n",
      "  warnings.warn(\n",
      "/home/rafli/anaconda3/envs/tf/lib/python3.11/site-packages/librosa/core/spectrum.py:257: UserWarning: n_fft=512 is too large for input signal of length=42\n",
      "  warnings.warn(\n",
      "/home/rafli/anaconda3/envs/tf/lib/python3.11/site-packages/librosa/core/spectrum.py:257: UserWarning: n_fft=512 is too large for input signal of length=21\n",
      "  warnings.warn(\n"
     ]
    },
    {
     "name": "stdout",
     "output_type": "stream",
     "text": [
      "=====\n",
      "../data/testing_10/MVP/New_MVP_012.wav\n",
      "Predicted class: MVP\n",
      "=====\n",
      "1/1 [==============================] - 0s 80ms/step\n"
     ]
    },
    {
     "name": "stderr",
     "output_type": "stream",
     "text": [
      "/home/rafli/anaconda3/envs/tf/lib/python3.11/site-packages/librosa/core/spectrum.py:257: UserWarning: n_fft=2048 is too large for input signal of length=275\n",
      "  warnings.warn(\n",
      "/home/rafli/anaconda3/envs/tf/lib/python3.11/site-packages/librosa/core/spectrum.py:257: UserWarning: n_fft=512 is too large for input signal of length=275\n",
      "  warnings.warn(\n",
      "/home/rafli/anaconda3/envs/tf/lib/python3.11/site-packages/librosa/core/spectrum.py:257: UserWarning: n_fft=512 is too large for input signal of length=138\n",
      "  warnings.warn(\n",
      "/home/rafli/anaconda3/envs/tf/lib/python3.11/site-packages/librosa/core/spectrum.py:257: UserWarning: n_fft=512 is too large for input signal of length=69\n",
      "  warnings.warn(\n",
      "/home/rafli/anaconda3/envs/tf/lib/python3.11/site-packages/librosa/core/spectrum.py:257: UserWarning: n_fft=512 is too large for input signal of length=35\n",
      "  warnings.warn(\n",
      "/home/rafli/anaconda3/envs/tf/lib/python3.11/site-packages/librosa/core/spectrum.py:257: UserWarning: n_fft=512 is too large for input signal of length=18\n",
      "  warnings.warn(\n"
     ]
    },
    {
     "name": "stdout",
     "output_type": "stream",
     "text": [
      "=====\n",
      "../data/testing_10/MVP/New_MVP_153.wav\n",
      "Predicted class: MVP\n",
      "=====\n",
      "1/1 [==============================] - 0s 87ms/step\n"
     ]
    },
    {
     "name": "stderr",
     "output_type": "stream",
     "text": [
      "/home/rafli/anaconda3/envs/tf/lib/python3.11/site-packages/librosa/core/spectrum.py:257: UserWarning: n_fft=2048 is too large for input signal of length=347\n",
      "  warnings.warn(\n",
      "/home/rafli/anaconda3/envs/tf/lib/python3.11/site-packages/librosa/core/spectrum.py:257: UserWarning: n_fft=512 is too large for input signal of length=347\n",
      "  warnings.warn(\n",
      "/home/rafli/anaconda3/envs/tf/lib/python3.11/site-packages/librosa/core/spectrum.py:257: UserWarning: n_fft=512 is too large for input signal of length=174\n",
      "  warnings.warn(\n",
      "/home/rafli/anaconda3/envs/tf/lib/python3.11/site-packages/librosa/core/spectrum.py:257: UserWarning: n_fft=512 is too large for input signal of length=87\n",
      "  warnings.warn(\n",
      "/home/rafli/anaconda3/envs/tf/lib/python3.11/site-packages/librosa/core/spectrum.py:257: UserWarning: n_fft=512 is too large for input signal of length=44\n",
      "  warnings.warn(\n",
      "/home/rafli/anaconda3/envs/tf/lib/python3.11/site-packages/librosa/core/spectrum.py:257: UserWarning: n_fft=512 is too large for input signal of length=22\n",
      "  warnings.warn(\n"
     ]
    },
    {
     "name": "stdout",
     "output_type": "stream",
     "text": [
      "=====\n",
      "../data/testing_10/MVP/New_MVP_082.wav\n",
      "Predicted class: MVP\n",
      "=====\n",
      "1/1 [==============================] - 0s 79ms/step\n"
     ]
    },
    {
     "name": "stderr",
     "output_type": "stream",
     "text": [
      "/home/rafli/anaconda3/envs/tf/lib/python3.11/site-packages/librosa/core/spectrum.py:257: UserWarning: n_fft=2048 is too large for input signal of length=346\n",
      "  warnings.warn(\n",
      "/home/rafli/anaconda3/envs/tf/lib/python3.11/site-packages/librosa/core/spectrum.py:257: UserWarning: n_fft=512 is too large for input signal of length=346\n",
      "  warnings.warn(\n",
      "/home/rafli/anaconda3/envs/tf/lib/python3.11/site-packages/librosa/core/spectrum.py:257: UserWarning: n_fft=512 is too large for input signal of length=173\n",
      "  warnings.warn(\n",
      "/home/rafli/anaconda3/envs/tf/lib/python3.11/site-packages/librosa/core/spectrum.py:257: UserWarning: n_fft=512 is too large for input signal of length=87\n",
      "  warnings.warn(\n",
      "/home/rafli/anaconda3/envs/tf/lib/python3.11/site-packages/librosa/core/spectrum.py:257: UserWarning: n_fft=512 is too large for input signal of length=44\n",
      "  warnings.warn(\n",
      "/home/rafli/anaconda3/envs/tf/lib/python3.11/site-packages/librosa/core/spectrum.py:257: UserWarning: n_fft=512 is too large for input signal of length=22\n",
      "  warnings.warn(\n"
     ]
    },
    {
     "name": "stdout",
     "output_type": "stream",
     "text": [
      "=====\n",
      "../data/testing_10/MVP/New_MVP_051.wav\n",
      "Predicted class: MVP\n",
      "=====\n",
      "1/1 [==============================] - 0s 87ms/step\n"
     ]
    },
    {
     "name": "stderr",
     "output_type": "stream",
     "text": [
      "/home/rafli/anaconda3/envs/tf/lib/python3.11/site-packages/librosa/core/spectrum.py:257: UserWarning: n_fft=2048 is too large for input signal of length=232\n",
      "  warnings.warn(\n",
      "/home/rafli/anaconda3/envs/tf/lib/python3.11/site-packages/librosa/core/spectrum.py:257: UserWarning: n_fft=512 is too large for input signal of length=232\n",
      "  warnings.warn(\n",
      "/home/rafli/anaconda3/envs/tf/lib/python3.11/site-packages/librosa/core/spectrum.py:257: UserWarning: n_fft=512 is too large for input signal of length=116\n",
      "  warnings.warn(\n",
      "/home/rafli/anaconda3/envs/tf/lib/python3.11/site-packages/librosa/core/spectrum.py:257: UserWarning: n_fft=512 is too large for input signal of length=58\n",
      "  warnings.warn(\n",
      "/home/rafli/anaconda3/envs/tf/lib/python3.11/site-packages/librosa/core/spectrum.py:257: UserWarning: n_fft=512 is too large for input signal of length=29\n",
      "  warnings.warn(\n",
      "/home/rafli/anaconda3/envs/tf/lib/python3.11/site-packages/librosa/core/spectrum.py:257: UserWarning: n_fft=512 is too large for input signal of length=15\n",
      "  warnings.warn(\n"
     ]
    },
    {
     "name": "stdout",
     "output_type": "stream",
     "text": [
      "=====\n",
      "../data/testing_10/MVP/New_MVP_100.wav\n",
      "Predicted class: MVP\n",
      "=====\n"
     ]
    },
    {
     "name": "stderr",
     "output_type": "stream",
     "text": [
      "/home/rafli/anaconda3/envs/tf/lib/python3.11/site-packages/librosa/core/spectrum.py:257: UserWarning: n_fft=2048 is too large for input signal of length=262\n",
      "  warnings.warn(\n",
      "/home/rafli/anaconda3/envs/tf/lib/python3.11/site-packages/librosa/core/spectrum.py:257: UserWarning: n_fft=512 is too large for input signal of length=262\n",
      "  warnings.warn(\n",
      "/home/rafli/anaconda3/envs/tf/lib/python3.11/site-packages/librosa/core/spectrum.py:257: UserWarning: n_fft=512 is too large for input signal of length=131\n",
      "  warnings.warn(\n",
      "/home/rafli/anaconda3/envs/tf/lib/python3.11/site-packages/librosa/core/spectrum.py:257: UserWarning: n_fft=512 is too large for input signal of length=66\n",
      "  warnings.warn(\n",
      "/home/rafli/anaconda3/envs/tf/lib/python3.11/site-packages/librosa/core/spectrum.py:257: UserWarning: n_fft=512 is too large for input signal of length=33\n",
      "  warnings.warn(\n",
      "/home/rafli/anaconda3/envs/tf/lib/python3.11/site-packages/librosa/core/spectrum.py:257: UserWarning: n_fft=512 is too large for input signal of length=17\n",
      "  warnings.warn(\n"
     ]
    },
    {
     "name": "stdout",
     "output_type": "stream",
     "text": [
      "1/1 [==============================] - 0s 129ms/step\n",
      "=====\n",
      "../data/testing_10/MVP/New_MVP_124.wav\n",
      "Predicted class: MVP\n",
      "=====\n",
      "1/1 [==============================] - 0s 76ms/step\n"
     ]
    },
    {
     "name": "stderr",
     "output_type": "stream",
     "text": [
      "/home/rafli/anaconda3/envs/tf/lib/python3.11/site-packages/librosa/core/spectrum.py:257: UserWarning: n_fft=2048 is too large for input signal of length=345\n",
      "  warnings.warn(\n",
      "/home/rafli/anaconda3/envs/tf/lib/python3.11/site-packages/librosa/core/spectrum.py:257: UserWarning: n_fft=512 is too large for input signal of length=345\n",
      "  warnings.warn(\n",
      "/home/rafli/anaconda3/envs/tf/lib/python3.11/site-packages/librosa/core/spectrum.py:257: UserWarning: n_fft=512 is too large for input signal of length=173\n",
      "  warnings.warn(\n",
      "/home/rafli/anaconda3/envs/tf/lib/python3.11/site-packages/librosa/core/spectrum.py:257: UserWarning: n_fft=512 is too large for input signal of length=87\n",
      "  warnings.warn(\n",
      "/home/rafli/anaconda3/envs/tf/lib/python3.11/site-packages/librosa/core/spectrum.py:257: UserWarning: n_fft=512 is too large for input signal of length=44\n",
      "  warnings.warn(\n",
      "/home/rafli/anaconda3/envs/tf/lib/python3.11/site-packages/librosa/core/spectrum.py:257: UserWarning: n_fft=512 is too large for input signal of length=22\n",
      "  warnings.warn(\n"
     ]
    },
    {
     "name": "stdout",
     "output_type": "stream",
     "text": [
      "=====\n",
      "../data/testing_10/MVP/New_MVP_045.wav\n",
      "Predicted class: MVP\n",
      "=====\n",
      "\n",
      "Processing: MS\n",
      "1/1 [==============================] - 0s 80ms/step\n"
     ]
    },
    {
     "name": "stderr",
     "output_type": "stream",
     "text": [
      "/home/rafli/anaconda3/envs/tf/lib/python3.11/site-packages/librosa/core/spectrum.py:257: UserWarning: n_fft=2048 is too large for input signal of length=364\n",
      "  warnings.warn(\n",
      "/home/rafli/anaconda3/envs/tf/lib/python3.11/site-packages/librosa/core/spectrum.py:257: UserWarning: n_fft=512 is too large for input signal of length=364\n",
      "  warnings.warn(\n",
      "/home/rafli/anaconda3/envs/tf/lib/python3.11/site-packages/librosa/core/spectrum.py:257: UserWarning: n_fft=512 is too large for input signal of length=182\n",
      "  warnings.warn(\n",
      "/home/rafli/anaconda3/envs/tf/lib/python3.11/site-packages/librosa/core/spectrum.py:257: UserWarning: n_fft=512 is too large for input signal of length=91\n",
      "  warnings.warn(\n",
      "/home/rafli/anaconda3/envs/tf/lib/python3.11/site-packages/librosa/core/spectrum.py:257: UserWarning: n_fft=512 is too large for input signal of length=46\n",
      "  warnings.warn(\n",
      "/home/rafli/anaconda3/envs/tf/lib/python3.11/site-packages/librosa/core/spectrum.py:257: UserWarning: n_fft=512 is too large for input signal of length=23\n",
      "  warnings.warn(\n"
     ]
    },
    {
     "name": "stdout",
     "output_type": "stream",
     "text": [
      "=====\n",
      "../data/testing_10/MS/New_MS_136.wav\n",
      "Predicted class: MS\n",
      "=====\n",
      "1/1 [==============================] - 0s 81ms/step\n"
     ]
    },
    {
     "name": "stderr",
     "output_type": "stream",
     "text": [
      "/home/rafli/anaconda3/envs/tf/lib/python3.11/site-packages/librosa/core/spectrum.py:257: UserWarning: n_fft=2048 is too large for input signal of length=260\n",
      "  warnings.warn(\n",
      "/home/rafli/anaconda3/envs/tf/lib/python3.11/site-packages/librosa/core/spectrum.py:257: UserWarning: n_fft=512 is too large for input signal of length=260\n",
      "  warnings.warn(\n",
      "/home/rafli/anaconda3/envs/tf/lib/python3.11/site-packages/librosa/core/spectrum.py:257: UserWarning: n_fft=512 is too large for input signal of length=130\n",
      "  warnings.warn(\n",
      "/home/rafli/anaconda3/envs/tf/lib/python3.11/site-packages/librosa/core/spectrum.py:257: UserWarning: n_fft=512 is too large for input signal of length=65\n",
      "  warnings.warn(\n",
      "/home/rafli/anaconda3/envs/tf/lib/python3.11/site-packages/librosa/core/spectrum.py:257: UserWarning: n_fft=512 is too large for input signal of length=33\n",
      "  warnings.warn(\n",
      "/home/rafli/anaconda3/envs/tf/lib/python3.11/site-packages/librosa/core/spectrum.py:257: UserWarning: n_fft=512 is too large for input signal of length=17\n",
      "  warnings.warn(\n"
     ]
    },
    {
     "name": "stdout",
     "output_type": "stream",
     "text": [
      "=====\n",
      "../data/testing_10/MS/New_MS_030.wav\n",
      "Predicted class: MS\n",
      "=====\n",
      "1/1 [==============================] - 0s 80ms/step\n"
     ]
    },
    {
     "name": "stderr",
     "output_type": "stream",
     "text": [
      "/home/rafli/anaconda3/envs/tf/lib/python3.11/site-packages/librosa/core/spectrum.py:257: UserWarning: n_fft=2048 is too large for input signal of length=313\n",
      "  warnings.warn(\n",
      "/home/rafli/anaconda3/envs/tf/lib/python3.11/site-packages/librosa/core/spectrum.py:257: UserWarning: n_fft=512 is too large for input signal of length=313\n",
      "  warnings.warn(\n",
      "/home/rafli/anaconda3/envs/tf/lib/python3.11/site-packages/librosa/core/spectrum.py:257: UserWarning: n_fft=512 is too large for input signal of length=157\n",
      "  warnings.warn(\n",
      "/home/rafli/anaconda3/envs/tf/lib/python3.11/site-packages/librosa/core/spectrum.py:257: UserWarning: n_fft=512 is too large for input signal of length=79\n",
      "  warnings.warn(\n",
      "/home/rafli/anaconda3/envs/tf/lib/python3.11/site-packages/librosa/core/spectrum.py:257: UserWarning: n_fft=512 is too large for input signal of length=40\n",
      "  warnings.warn(\n",
      "/home/rafli/anaconda3/envs/tf/lib/python3.11/site-packages/librosa/core/spectrum.py:257: UserWarning: n_fft=512 is too large for input signal of length=20\n",
      "  warnings.warn(\n"
     ]
    },
    {
     "name": "stdout",
     "output_type": "stream",
     "text": [
      "=====\n",
      "../data/testing_10/MS/New_MS_114.wav\n",
      "Predicted class: MS\n",
      "=====\n",
      "1/1 [==============================] - 0s 98ms/step\n"
     ]
    },
    {
     "name": "stderr",
     "output_type": "stream",
     "text": [
      "/home/rafli/anaconda3/envs/tf/lib/python3.11/site-packages/librosa/core/spectrum.py:257: UserWarning: n_fft=2048 is too large for input signal of length=374\n",
      "  warnings.warn(\n",
      "/home/rafli/anaconda3/envs/tf/lib/python3.11/site-packages/librosa/core/spectrum.py:257: UserWarning: n_fft=512 is too large for input signal of length=374\n",
      "  warnings.warn(\n",
      "/home/rafli/anaconda3/envs/tf/lib/python3.11/site-packages/librosa/core/spectrum.py:257: UserWarning: n_fft=512 is too large for input signal of length=187\n",
      "  warnings.warn(\n",
      "/home/rafli/anaconda3/envs/tf/lib/python3.11/site-packages/librosa/core/spectrum.py:257: UserWarning: n_fft=512 is too large for input signal of length=94\n",
      "  warnings.warn(\n",
      "/home/rafli/anaconda3/envs/tf/lib/python3.11/site-packages/librosa/core/spectrum.py:257: UserWarning: n_fft=512 is too large for input signal of length=47\n",
      "  warnings.warn(\n",
      "/home/rafli/anaconda3/envs/tf/lib/python3.11/site-packages/librosa/core/spectrum.py:257: UserWarning: n_fft=512 is too large for input signal of length=24\n",
      "  warnings.warn(\n"
     ]
    },
    {
     "name": "stdout",
     "output_type": "stream",
     "text": [
      "=====\n",
      "../data/testing_10/MS/New_MS_169.wav\n",
      "Predicted class: MVP\n",
      "=====\n",
      "1/1 [==============================] - 0s 88ms/step\n"
     ]
    },
    {
     "name": "stderr",
     "output_type": "stream",
     "text": [
      "/home/rafli/anaconda3/envs/tf/lib/python3.11/site-packages/librosa/core/spectrum.py:257: UserWarning: n_fft=2048 is too large for input signal of length=263\n",
      "  warnings.warn(\n",
      "/home/rafli/anaconda3/envs/tf/lib/python3.11/site-packages/librosa/core/spectrum.py:257: UserWarning: n_fft=512 is too large for input signal of length=263\n",
      "  warnings.warn(\n",
      "/home/rafli/anaconda3/envs/tf/lib/python3.11/site-packages/librosa/core/spectrum.py:257: UserWarning: n_fft=512 is too large for input signal of length=132\n",
      "  warnings.warn(\n",
      "/home/rafli/anaconda3/envs/tf/lib/python3.11/site-packages/librosa/core/spectrum.py:257: UserWarning: n_fft=512 is too large for input signal of length=66\n",
      "  warnings.warn(\n",
      "/home/rafli/anaconda3/envs/tf/lib/python3.11/site-packages/librosa/core/spectrum.py:257: UserWarning: n_fft=512 is too large for input signal of length=33\n",
      "  warnings.warn(\n",
      "/home/rafli/anaconda3/envs/tf/lib/python3.11/site-packages/librosa/core/spectrum.py:257: UserWarning: n_fft=512 is too large for input signal of length=17\n",
      "  warnings.warn(\n"
     ]
    },
    {
     "name": "stdout",
     "output_type": "stream",
     "text": [
      "=====\n",
      "../data/testing_10/MS/New_MS_187.wav\n",
      "Predicted class: MS\n",
      "=====\n",
      "1/1 [==============================] - 0s 90ms/step\n"
     ]
    },
    {
     "name": "stderr",
     "output_type": "stream",
     "text": [
      "/home/rafli/anaconda3/envs/tf/lib/python3.11/site-packages/librosa/core/spectrum.py:257: UserWarning: n_fft=2048 is too large for input signal of length=372\n",
      "  warnings.warn(\n",
      "/home/rafli/anaconda3/envs/tf/lib/python3.11/site-packages/librosa/core/spectrum.py:257: UserWarning: n_fft=512 is too large for input signal of length=372\n",
      "  warnings.warn(\n",
      "/home/rafli/anaconda3/envs/tf/lib/python3.11/site-packages/librosa/core/spectrum.py:257: UserWarning: n_fft=512 is too large for input signal of length=186\n",
      "  warnings.warn(\n",
      "/home/rafli/anaconda3/envs/tf/lib/python3.11/site-packages/librosa/core/spectrum.py:257: UserWarning: n_fft=512 is too large for input signal of length=93\n",
      "  warnings.warn(\n",
      "/home/rafli/anaconda3/envs/tf/lib/python3.11/site-packages/librosa/core/spectrum.py:257: UserWarning: n_fft=512 is too large for input signal of length=47\n",
      "  warnings.warn(\n",
      "/home/rafli/anaconda3/envs/tf/lib/python3.11/site-packages/librosa/core/spectrum.py:257: UserWarning: n_fft=512 is too large for input signal of length=24\n",
      "  warnings.warn(\n"
     ]
    },
    {
     "name": "stdout",
     "output_type": "stream",
     "text": [
      "=====\n",
      "../data/testing_10/MS/New_MS_138.wav\n",
      "Predicted class: MS\n",
      "=====\n",
      "1/1 [==============================] - 0s 89ms/step\n"
     ]
    },
    {
     "name": "stderr",
     "output_type": "stream",
     "text": [
      "/home/rafli/anaconda3/envs/tf/lib/python3.11/site-packages/librosa/core/spectrum.py:257: UserWarning: n_fft=2048 is too large for input signal of length=374\n",
      "  warnings.warn(\n",
      "/home/rafli/anaconda3/envs/tf/lib/python3.11/site-packages/librosa/core/spectrum.py:257: UserWarning: n_fft=512 is too large for input signal of length=374\n",
      "  warnings.warn(\n",
      "/home/rafli/anaconda3/envs/tf/lib/python3.11/site-packages/librosa/core/spectrum.py:257: UserWarning: n_fft=512 is too large for input signal of length=187\n",
      "  warnings.warn(\n",
      "/home/rafli/anaconda3/envs/tf/lib/python3.11/site-packages/librosa/core/spectrum.py:257: UserWarning: n_fft=512 is too large for input signal of length=94\n",
      "  warnings.warn(\n",
      "/home/rafli/anaconda3/envs/tf/lib/python3.11/site-packages/librosa/core/spectrum.py:257: UserWarning: n_fft=512 is too large for input signal of length=47\n",
      "  warnings.warn(\n",
      "/home/rafli/anaconda3/envs/tf/lib/python3.11/site-packages/librosa/core/spectrum.py:257: UserWarning: n_fft=512 is too large for input signal of length=24\n",
      "  warnings.warn(\n"
     ]
    },
    {
     "name": "stdout",
     "output_type": "stream",
     "text": [
      "=====\n",
      "../data/testing_10/MS/New_MS_158.wav\n",
      "Predicted class: MS\n",
      "=====\n",
      "1/1 [==============================] - 0s 81ms/step\n"
     ]
    },
    {
     "name": "stderr",
     "output_type": "stream",
     "text": [
      "/home/rafli/anaconda3/envs/tf/lib/python3.11/site-packages/librosa/core/spectrum.py:257: UserWarning: n_fft=2048 is too large for input signal of length=272\n",
      "  warnings.warn(\n",
      "/home/rafli/anaconda3/envs/tf/lib/python3.11/site-packages/librosa/core/spectrum.py:257: UserWarning: n_fft=512 is too large for input signal of length=272\n",
      "  warnings.warn(\n",
      "/home/rafli/anaconda3/envs/tf/lib/python3.11/site-packages/librosa/core/spectrum.py:257: UserWarning: n_fft=512 is too large for input signal of length=136\n",
      "  warnings.warn(\n",
      "/home/rafli/anaconda3/envs/tf/lib/python3.11/site-packages/librosa/core/spectrum.py:257: UserWarning: n_fft=512 is too large for input signal of length=68\n",
      "  warnings.warn(\n",
      "/home/rafli/anaconda3/envs/tf/lib/python3.11/site-packages/librosa/core/spectrum.py:257: UserWarning: n_fft=512 is too large for input signal of length=34\n",
      "  warnings.warn(\n",
      "/home/rafli/anaconda3/envs/tf/lib/python3.11/site-packages/librosa/core/spectrum.py:257: UserWarning: n_fft=512 is too large for input signal of length=17\n",
      "  warnings.warn(\n"
     ]
    },
    {
     "name": "stdout",
     "output_type": "stream",
     "text": [
      "=====\n",
      "../data/testing_10/MS/New_MS_188.wav\n",
      "Predicted class: MS\n",
      "=====\n",
      "1/1 [==============================] - 0s 89ms/step\n"
     ]
    },
    {
     "name": "stderr",
     "output_type": "stream",
     "text": [
      "/home/rafli/anaconda3/envs/tf/lib/python3.11/site-packages/librosa/core/spectrum.py:257: UserWarning: n_fft=2048 is too large for input signal of length=361\n",
      "  warnings.warn(\n",
      "/home/rafli/anaconda3/envs/tf/lib/python3.11/site-packages/librosa/core/spectrum.py:257: UserWarning: n_fft=512 is too large for input signal of length=361\n",
      "  warnings.warn(\n",
      "/home/rafli/anaconda3/envs/tf/lib/python3.11/site-packages/librosa/core/spectrum.py:257: UserWarning: n_fft=512 is too large for input signal of length=181\n",
      "  warnings.warn(\n",
      "/home/rafli/anaconda3/envs/tf/lib/python3.11/site-packages/librosa/core/spectrum.py:257: UserWarning: n_fft=512 is too large for input signal of length=91\n",
      "  warnings.warn(\n",
      "/home/rafli/anaconda3/envs/tf/lib/python3.11/site-packages/librosa/core/spectrum.py:257: UserWarning: n_fft=512 is too large for input signal of length=46\n",
      "  warnings.warn(\n",
      "/home/rafli/anaconda3/envs/tf/lib/python3.11/site-packages/librosa/core/spectrum.py:257: UserWarning: n_fft=512 is too large for input signal of length=23\n",
      "  warnings.warn(\n"
     ]
    },
    {
     "name": "stdout",
     "output_type": "stream",
     "text": [
      "=====\n",
      "../data/testing_10/MS/New_MS_171.wav\n",
      "Predicted class: MVP\n",
      "=====\n",
      "1/1 [==============================] - 0s 98ms/step\n"
     ]
    },
    {
     "name": "stderr",
     "output_type": "stream",
     "text": [
      "/home/rafli/anaconda3/envs/tf/lib/python3.11/site-packages/librosa/core/spectrum.py:257: UserWarning: n_fft=2048 is too large for input signal of length=293\n",
      "  warnings.warn(\n",
      "/home/rafli/anaconda3/envs/tf/lib/python3.11/site-packages/librosa/core/spectrum.py:257: UserWarning: n_fft=512 is too large for input signal of length=293\n",
      "  warnings.warn(\n",
      "/home/rafli/anaconda3/envs/tf/lib/python3.11/site-packages/librosa/core/spectrum.py:257: UserWarning: n_fft=512 is too large for input signal of length=147\n",
      "  warnings.warn(\n",
      "/home/rafli/anaconda3/envs/tf/lib/python3.11/site-packages/librosa/core/spectrum.py:257: UserWarning: n_fft=512 is too large for input signal of length=74\n",
      "  warnings.warn(\n",
      "/home/rafli/anaconda3/envs/tf/lib/python3.11/site-packages/librosa/core/spectrum.py:257: UserWarning: n_fft=512 is too large for input signal of length=37\n",
      "  warnings.warn(\n",
      "/home/rafli/anaconda3/envs/tf/lib/python3.11/site-packages/librosa/core/spectrum.py:257: UserWarning: n_fft=512 is too large for input signal of length=19\n",
      "  warnings.warn(\n"
     ]
    },
    {
     "name": "stdout",
     "output_type": "stream",
     "text": [
      "=====\n",
      "../data/testing_10/MS/New_MS_052.wav\n",
      "Predicted class: MS\n",
      "=====\n",
      "1/1 [==============================] - 0s 82ms/step\n"
     ]
    },
    {
     "name": "stderr",
     "output_type": "stream",
     "text": [
      "/home/rafli/anaconda3/envs/tf/lib/python3.11/site-packages/librosa/core/spectrum.py:257: UserWarning: n_fft=2048 is too large for input signal of length=314\n",
      "  warnings.warn(\n",
      "/home/rafli/anaconda3/envs/tf/lib/python3.11/site-packages/librosa/core/spectrum.py:257: UserWarning: n_fft=512 is too large for input signal of length=314\n",
      "  warnings.warn(\n",
      "/home/rafli/anaconda3/envs/tf/lib/python3.11/site-packages/librosa/core/spectrum.py:257: UserWarning: n_fft=512 is too large for input signal of length=157\n",
      "  warnings.warn(\n",
      "/home/rafli/anaconda3/envs/tf/lib/python3.11/site-packages/librosa/core/spectrum.py:257: UserWarning: n_fft=512 is too large for input signal of length=79\n",
      "  warnings.warn(\n",
      "/home/rafli/anaconda3/envs/tf/lib/python3.11/site-packages/librosa/core/spectrum.py:257: UserWarning: n_fft=512 is too large for input signal of length=40\n",
      "  warnings.warn(\n",
      "/home/rafli/anaconda3/envs/tf/lib/python3.11/site-packages/librosa/core/spectrum.py:257: UserWarning: n_fft=512 is too large for input signal of length=20\n",
      "  warnings.warn(\n"
     ]
    },
    {
     "name": "stdout",
     "output_type": "stream",
     "text": [
      "=====\n",
      "../data/testing_10/MS/New_MS_054.wav\n",
      "Predicted class: MS\n",
      "=====\n"
     ]
    },
    {
     "name": "stderr",
     "output_type": "stream",
     "text": [
      "/home/rafli/anaconda3/envs/tf/lib/python3.11/site-packages/librosa/core/spectrum.py:257: UserWarning: n_fft=2048 is too large for input signal of length=314\n",
      "  warnings.warn(\n",
      "/home/rafli/anaconda3/envs/tf/lib/python3.11/site-packages/librosa/core/spectrum.py:257: UserWarning: n_fft=512 is too large for input signal of length=314\n",
      "  warnings.warn(\n",
      "/home/rafli/anaconda3/envs/tf/lib/python3.11/site-packages/librosa/core/spectrum.py:257: UserWarning: n_fft=512 is too large for input signal of length=157\n",
      "  warnings.warn(\n",
      "/home/rafli/anaconda3/envs/tf/lib/python3.11/site-packages/librosa/core/spectrum.py:257: UserWarning: n_fft=512 is too large for input signal of length=79\n",
      "  warnings.warn(\n",
      "/home/rafli/anaconda3/envs/tf/lib/python3.11/site-packages/librosa/core/spectrum.py:257: UserWarning: n_fft=512 is too large for input signal of length=40\n",
      "  warnings.warn(\n",
      "/home/rafli/anaconda3/envs/tf/lib/python3.11/site-packages/librosa/core/spectrum.py:257: UserWarning: n_fft=512 is too large for input signal of length=20\n",
      "  warnings.warn(\n"
     ]
    },
    {
     "name": "stdout",
     "output_type": "stream",
     "text": [
      "1/1 [==============================] - 0s 140ms/step\n",
      "=====\n",
      "../data/testing_10/MS/New_MS_095.wav\n",
      "Predicted class: MS\n",
      "=====\n",
      "1/1 [==============================] - 0s 81ms/step\n"
     ]
    },
    {
     "name": "stderr",
     "output_type": "stream",
     "text": [
      "/home/rafli/anaconda3/envs/tf/lib/python3.11/site-packages/librosa/core/spectrum.py:257: UserWarning: n_fft=2048 is too large for input signal of length=193\n",
      "  warnings.warn(\n",
      "/home/rafli/anaconda3/envs/tf/lib/python3.11/site-packages/librosa/core/spectrum.py:257: UserWarning: n_fft=512 is too large for input signal of length=193\n",
      "  warnings.warn(\n",
      "/home/rafli/anaconda3/envs/tf/lib/python3.11/site-packages/librosa/core/spectrum.py:257: UserWarning: n_fft=512 is too large for input signal of length=97\n",
      "  warnings.warn(\n",
      "/home/rafli/anaconda3/envs/tf/lib/python3.11/site-packages/librosa/core/spectrum.py:257: UserWarning: n_fft=512 is too large for input signal of length=49\n",
      "  warnings.warn(\n",
      "/home/rafli/anaconda3/envs/tf/lib/python3.11/site-packages/librosa/core/spectrum.py:257: UserWarning: n_fft=512 is too large for input signal of length=25\n",
      "  warnings.warn(\n",
      "/home/rafli/anaconda3/envs/tf/lib/python3.11/site-packages/librosa/core/spectrum.py:257: UserWarning: n_fft=512 is too large for input signal of length=13\n",
      "  warnings.warn(\n"
     ]
    },
    {
     "name": "stdout",
     "output_type": "stream",
     "text": [
      "=====\n",
      "../data/testing_10/MS/New_MS_011.wav\n",
      "Predicted class: MR\n",
      "=====\n",
      "1/1 [==============================] - 0s 96ms/step\n"
     ]
    },
    {
     "name": "stderr",
     "output_type": "stream",
     "text": [
      "/home/rafli/anaconda3/envs/tf/lib/python3.11/site-packages/librosa/core/spectrum.py:257: UserWarning: n_fft=2048 is too large for input signal of length=266\n",
      "  warnings.warn(\n",
      "/home/rafli/anaconda3/envs/tf/lib/python3.11/site-packages/librosa/core/spectrum.py:257: UserWarning: n_fft=512 is too large for input signal of length=266\n",
      "  warnings.warn(\n",
      "/home/rafli/anaconda3/envs/tf/lib/python3.11/site-packages/librosa/core/spectrum.py:257: UserWarning: n_fft=512 is too large for input signal of length=133\n",
      "  warnings.warn(\n",
      "/home/rafli/anaconda3/envs/tf/lib/python3.11/site-packages/librosa/core/spectrum.py:257: UserWarning: n_fft=512 is too large for input signal of length=67\n",
      "  warnings.warn(\n",
      "/home/rafli/anaconda3/envs/tf/lib/python3.11/site-packages/librosa/core/spectrum.py:257: UserWarning: n_fft=512 is too large for input signal of length=34\n",
      "  warnings.warn(\n",
      "/home/rafli/anaconda3/envs/tf/lib/python3.11/site-packages/librosa/core/spectrum.py:257: UserWarning: n_fft=512 is too large for input signal of length=17\n",
      "  warnings.warn(\n"
     ]
    },
    {
     "name": "stdout",
     "output_type": "stream",
     "text": [
      "=====\n",
      "../data/testing_10/MS/New_MS_032.wav\n",
      "Predicted class: MS\n",
      "=====\n"
     ]
    },
    {
     "name": "stderr",
     "output_type": "stream",
     "text": [
      "/home/rafli/anaconda3/envs/tf/lib/python3.11/site-packages/librosa/core/spectrum.py:257: UserWarning: n_fft=2048 is too large for input signal of length=380\n",
      "  warnings.warn(\n",
      "/home/rafli/anaconda3/envs/tf/lib/python3.11/site-packages/librosa/core/spectrum.py:257: UserWarning: n_fft=512 is too large for input signal of length=380\n",
      "  warnings.warn(\n",
      "/home/rafli/anaconda3/envs/tf/lib/python3.11/site-packages/librosa/core/spectrum.py:257: UserWarning: n_fft=512 is too large for input signal of length=190\n",
      "  warnings.warn(\n",
      "/home/rafli/anaconda3/envs/tf/lib/python3.11/site-packages/librosa/core/spectrum.py:257: UserWarning: n_fft=512 is too large for input signal of length=95\n",
      "  warnings.warn(\n",
      "/home/rafli/anaconda3/envs/tf/lib/python3.11/site-packages/librosa/core/spectrum.py:257: UserWarning: n_fft=512 is too large for input signal of length=48\n",
      "  warnings.warn(\n",
      "/home/rafli/anaconda3/envs/tf/lib/python3.11/site-packages/librosa/core/spectrum.py:257: UserWarning: n_fft=512 is too large for input signal of length=24\n",
      "  warnings.warn(\n"
     ]
    },
    {
     "name": "stdout",
     "output_type": "stream",
     "text": [
      "1/1 [==============================] - 0s 128ms/step\n",
      "=====\n",
      "../data/testing_10/MS/New_MS_087.wav\n",
      "Predicted class: MR\n",
      "=====\n",
      "1/1 [==============================] - 0s 101ms/step\n"
     ]
    },
    {
     "name": "stderr",
     "output_type": "stream",
     "text": [
      "/home/rafli/anaconda3/envs/tf/lib/python3.11/site-packages/librosa/core/spectrum.py:257: UserWarning: n_fft=2048 is too large for input signal of length=362\n",
      "  warnings.warn(\n",
      "/home/rafli/anaconda3/envs/tf/lib/python3.11/site-packages/librosa/core/spectrum.py:257: UserWarning: n_fft=512 is too large for input signal of length=362\n",
      "  warnings.warn(\n",
      "/home/rafli/anaconda3/envs/tf/lib/python3.11/site-packages/librosa/core/spectrum.py:257: UserWarning: n_fft=512 is too large for input signal of length=181\n",
      "  warnings.warn(\n",
      "/home/rafli/anaconda3/envs/tf/lib/python3.11/site-packages/librosa/core/spectrum.py:257: UserWarning: n_fft=512 is too large for input signal of length=91\n",
      "  warnings.warn(\n",
      "/home/rafli/anaconda3/envs/tf/lib/python3.11/site-packages/librosa/core/spectrum.py:257: UserWarning: n_fft=512 is too large for input signal of length=46\n",
      "  warnings.warn(\n",
      "/home/rafli/anaconda3/envs/tf/lib/python3.11/site-packages/librosa/core/spectrum.py:257: UserWarning: n_fft=512 is too large for input signal of length=23\n",
      "  warnings.warn(\n"
     ]
    },
    {
     "name": "stdout",
     "output_type": "stream",
     "text": [
      "=====\n",
      "../data/testing_10/MS/New_MS_150.wav\n",
      "Predicted class: MS\n",
      "=====\n",
      "1/1 [==============================] - 0s 80ms/step\n"
     ]
    },
    {
     "name": "stderr",
     "output_type": "stream",
     "text": [
      "/home/rafli/anaconda3/envs/tf/lib/python3.11/site-packages/pywt/_multilevel.py:43: UserWarning: Level value of 10 is too high: all coefficients will experience boundary effects.\n",
      "  warnings.warn(\n",
      "/home/rafli/anaconda3/envs/tf/lib/python3.11/site-packages/librosa/core/spectrum.py:257: UserWarning: n_fft=2048 is too large for input signal of length=175\n",
      "  warnings.warn(\n",
      "/home/rafli/anaconda3/envs/tf/lib/python3.11/site-packages/librosa/core/spectrum.py:257: UserWarning: n_fft=512 is too large for input signal of length=175\n",
      "  warnings.warn(\n",
      "/home/rafli/anaconda3/envs/tf/lib/python3.11/site-packages/librosa/core/spectrum.py:257: UserWarning: n_fft=512 is too large for input signal of length=88\n",
      "  warnings.warn(\n",
      "/home/rafli/anaconda3/envs/tf/lib/python3.11/site-packages/librosa/core/spectrum.py:257: UserWarning: n_fft=512 is too large for input signal of length=44\n",
      "  warnings.warn(\n",
      "/home/rafli/anaconda3/envs/tf/lib/python3.11/site-packages/librosa/core/spectrum.py:257: UserWarning: n_fft=512 is too large for input signal of length=22\n",
      "  warnings.warn(\n",
      "/home/rafli/anaconda3/envs/tf/lib/python3.11/site-packages/librosa/core/spectrum.py:257: UserWarning: n_fft=512 is too large for input signal of length=11\n",
      "  warnings.warn(\n"
     ]
    },
    {
     "name": "stdout",
     "output_type": "stream",
     "text": [
      "=====\n",
      "../data/testing_10/MS/New_MS_009.wav\n",
      "Predicted class: MR\n",
      "=====\n",
      "1/1 [==============================] - 0s 79ms/step\n"
     ]
    },
    {
     "name": "stderr",
     "output_type": "stream",
     "text": [
      "/home/rafli/anaconda3/envs/tf/lib/python3.11/site-packages/librosa/core/spectrum.py:257: UserWarning: n_fft=2048 is too large for input signal of length=270\n",
      "  warnings.warn(\n",
      "/home/rafli/anaconda3/envs/tf/lib/python3.11/site-packages/librosa/core/spectrum.py:257: UserWarning: n_fft=512 is too large for input signal of length=270\n",
      "  warnings.warn(\n",
      "/home/rafli/anaconda3/envs/tf/lib/python3.11/site-packages/librosa/core/spectrum.py:257: UserWarning: n_fft=512 is too large for input signal of length=135\n",
      "  warnings.warn(\n",
      "/home/rafli/anaconda3/envs/tf/lib/python3.11/site-packages/librosa/core/spectrum.py:257: UserWarning: n_fft=512 is too large for input signal of length=68\n",
      "  warnings.warn(\n",
      "/home/rafli/anaconda3/envs/tf/lib/python3.11/site-packages/librosa/core/spectrum.py:257: UserWarning: n_fft=512 is too large for input signal of length=34\n",
      "  warnings.warn(\n",
      "/home/rafli/anaconda3/envs/tf/lib/python3.11/site-packages/librosa/core/spectrum.py:257: UserWarning: n_fft=512 is too large for input signal of length=17\n",
      "  warnings.warn(\n"
     ]
    },
    {
     "name": "stdout",
     "output_type": "stream",
     "text": [
      "=====\n",
      "../data/testing_10/MS/New_MS_066.wav\n",
      "Predicted class: MS\n",
      "=====\n",
      "1/1 [==============================] - 0s 83ms/step\n"
     ]
    },
    {
     "name": "stderr",
     "output_type": "stream",
     "text": [
      "/home/rafli/anaconda3/envs/tf/lib/python3.11/site-packages/librosa/core/spectrum.py:257: UserWarning: n_fft=2048 is too large for input signal of length=316\n",
      "  warnings.warn(\n",
      "/home/rafli/anaconda3/envs/tf/lib/python3.11/site-packages/librosa/core/spectrum.py:257: UserWarning: n_fft=512 is too large for input signal of length=316\n",
      "  warnings.warn(\n",
      "/home/rafli/anaconda3/envs/tf/lib/python3.11/site-packages/librosa/core/spectrum.py:257: UserWarning: n_fft=512 is too large for input signal of length=158\n",
      "  warnings.warn(\n",
      "/home/rafli/anaconda3/envs/tf/lib/python3.11/site-packages/librosa/core/spectrum.py:257: UserWarning: n_fft=512 is too large for input signal of length=79\n",
      "  warnings.warn(\n",
      "/home/rafli/anaconda3/envs/tf/lib/python3.11/site-packages/librosa/core/spectrum.py:257: UserWarning: n_fft=512 is too large for input signal of length=40\n",
      "  warnings.warn(\n",
      "/home/rafli/anaconda3/envs/tf/lib/python3.11/site-packages/librosa/core/spectrum.py:257: UserWarning: n_fft=512 is too large for input signal of length=20\n",
      "  warnings.warn(\n"
     ]
    },
    {
     "name": "stdout",
     "output_type": "stream",
     "text": [
      "=====\n",
      "../data/testing_10/MS/New_MS_116.wav\n",
      "Predicted class: MS\n",
      "=====\n",
      "1/1 [==============================] - 0s 85ms/step\n"
     ]
    },
    {
     "name": "stderr",
     "output_type": "stream",
     "text": [
      "/home/rafli/anaconda3/envs/tf/lib/python3.11/site-packages/librosa/core/spectrum.py:257: UserWarning: n_fft=2048 is too large for input signal of length=270\n",
      "  warnings.warn(\n",
      "/home/rafli/anaconda3/envs/tf/lib/python3.11/site-packages/librosa/core/spectrum.py:257: UserWarning: n_fft=512 is too large for input signal of length=270\n",
      "  warnings.warn(\n",
      "/home/rafli/anaconda3/envs/tf/lib/python3.11/site-packages/librosa/core/spectrum.py:257: UserWarning: n_fft=512 is too large for input signal of length=135\n",
      "  warnings.warn(\n",
      "/home/rafli/anaconda3/envs/tf/lib/python3.11/site-packages/librosa/core/spectrum.py:257: UserWarning: n_fft=512 is too large for input signal of length=68\n",
      "  warnings.warn(\n",
      "/home/rafli/anaconda3/envs/tf/lib/python3.11/site-packages/librosa/core/spectrum.py:257: UserWarning: n_fft=512 is too large for input signal of length=34\n",
      "  warnings.warn(\n",
      "/home/rafli/anaconda3/envs/tf/lib/python3.11/site-packages/librosa/core/spectrum.py:257: UserWarning: n_fft=512 is too large for input signal of length=17\n",
      "  warnings.warn(\n"
     ]
    },
    {
     "name": "stdout",
     "output_type": "stream",
     "text": [
      "=====\n",
      "../data/testing_10/MS/New_MS_075.wav\n",
      "Predicted class: MS\n",
      "=====\n",
      "\n",
      "Processing: N\n",
      "1/1 [==============================] - 0s 83ms/step\n"
     ]
    },
    {
     "name": "stderr",
     "output_type": "stream",
     "text": [
      "/home/rafli/anaconda3/envs/tf/lib/python3.11/site-packages/librosa/core/spectrum.py:257: UserWarning: n_fft=2048 is too large for input signal of length=306\n",
      "  warnings.warn(\n",
      "/home/rafli/anaconda3/envs/tf/lib/python3.11/site-packages/librosa/core/spectrum.py:257: UserWarning: n_fft=512 is too large for input signal of length=306\n",
      "  warnings.warn(\n",
      "/home/rafli/anaconda3/envs/tf/lib/python3.11/site-packages/librosa/core/spectrum.py:257: UserWarning: n_fft=512 is too large for input signal of length=153\n",
      "  warnings.warn(\n",
      "/home/rafli/anaconda3/envs/tf/lib/python3.11/site-packages/librosa/core/spectrum.py:257: UserWarning: n_fft=512 is too large for input signal of length=77\n",
      "  warnings.warn(\n",
      "/home/rafli/anaconda3/envs/tf/lib/python3.11/site-packages/librosa/core/spectrum.py:257: UserWarning: n_fft=512 is too large for input signal of length=39\n",
      "  warnings.warn(\n",
      "/home/rafli/anaconda3/envs/tf/lib/python3.11/site-packages/librosa/core/spectrum.py:257: UserWarning: n_fft=512 is too large for input signal of length=20\n",
      "  warnings.warn(\n"
     ]
    },
    {
     "name": "stdout",
     "output_type": "stream",
     "text": [
      "=====\n",
      "../data/testing_10/N/New_N_131.wav\n",
      "Predicted class: N\n",
      "=====\n",
      "1/1 [==============================] - 0s 82ms/step\n"
     ]
    },
    {
     "name": "stderr",
     "output_type": "stream",
     "text": [
      "/home/rafli/anaconda3/envs/tf/lib/python3.11/site-packages/librosa/core/spectrum.py:257: UserWarning: n_fft=2048 is too large for input signal of length=268\n",
      "  warnings.warn(\n",
      "/home/rafli/anaconda3/envs/tf/lib/python3.11/site-packages/librosa/core/spectrum.py:257: UserWarning: n_fft=512 is too large for input signal of length=268\n",
      "  warnings.warn(\n",
      "/home/rafli/anaconda3/envs/tf/lib/python3.11/site-packages/librosa/core/spectrum.py:257: UserWarning: n_fft=512 is too large for input signal of length=134\n",
      "  warnings.warn(\n",
      "/home/rafli/anaconda3/envs/tf/lib/python3.11/site-packages/librosa/core/spectrum.py:257: UserWarning: n_fft=512 is too large for input signal of length=67\n",
      "  warnings.warn(\n",
      "/home/rafli/anaconda3/envs/tf/lib/python3.11/site-packages/librosa/core/spectrum.py:257: UserWarning: n_fft=512 is too large for input signal of length=34\n",
      "  warnings.warn(\n",
      "/home/rafli/anaconda3/envs/tf/lib/python3.11/site-packages/librosa/core/spectrum.py:257: UserWarning: n_fft=512 is too large for input signal of length=17\n",
      "  warnings.warn(\n"
     ]
    },
    {
     "name": "stdout",
     "output_type": "stream",
     "text": [
      "=====\n",
      "../data/testing_10/N/New_N_017.wav\n",
      "Predicted class: N\n",
      "=====\n"
     ]
    },
    {
     "name": "stderr",
     "output_type": "stream",
     "text": [
      "/home/rafli/anaconda3/envs/tf/lib/python3.11/site-packages/librosa/core/spectrum.py:257: UserWarning: n_fft=2048 is too large for input signal of length=273\n",
      "  warnings.warn(\n",
      "/home/rafli/anaconda3/envs/tf/lib/python3.11/site-packages/librosa/core/spectrum.py:257: UserWarning: n_fft=512 is too large for input signal of length=273\n",
      "  warnings.warn(\n",
      "/home/rafli/anaconda3/envs/tf/lib/python3.11/site-packages/librosa/core/spectrum.py:257: UserWarning: n_fft=512 is too large for input signal of length=137\n",
      "  warnings.warn(\n",
      "/home/rafli/anaconda3/envs/tf/lib/python3.11/site-packages/librosa/core/spectrum.py:257: UserWarning: n_fft=512 is too large for input signal of length=69\n",
      "  warnings.warn(\n",
      "/home/rafli/anaconda3/envs/tf/lib/python3.11/site-packages/librosa/core/spectrum.py:257: UserWarning: n_fft=512 is too large for input signal of length=35\n",
      "  warnings.warn(\n",
      "/home/rafli/anaconda3/envs/tf/lib/python3.11/site-packages/librosa/core/spectrum.py:257: UserWarning: n_fft=512 is too large for input signal of length=18\n",
      "  warnings.warn(\n"
     ]
    },
    {
     "name": "stdout",
     "output_type": "stream",
     "text": [
      "1/1 [==============================] - 0s 93ms/step\n",
      "=====\n",
      "../data/testing_10/N/New_N_009.wav\n",
      "Predicted class: N\n",
      "=====\n",
      "1/1 [==============================] - 0s 83ms/step\n"
     ]
    },
    {
     "name": "stderr",
     "output_type": "stream",
     "text": [
      "/home/rafli/anaconda3/envs/tf/lib/python3.11/site-packages/librosa/core/spectrum.py:257: UserWarning: n_fft=2048 is too large for input signal of length=276\n",
      "  warnings.warn(\n",
      "/home/rafli/anaconda3/envs/tf/lib/python3.11/site-packages/librosa/core/spectrum.py:257: UserWarning: n_fft=512 is too large for input signal of length=276\n",
      "  warnings.warn(\n",
      "/home/rafli/anaconda3/envs/tf/lib/python3.11/site-packages/librosa/core/spectrum.py:257: UserWarning: n_fft=512 is too large for input signal of length=138\n",
      "  warnings.warn(\n",
      "/home/rafli/anaconda3/envs/tf/lib/python3.11/site-packages/librosa/core/spectrum.py:257: UserWarning: n_fft=512 is too large for input signal of length=69\n",
      "  warnings.warn(\n",
      "/home/rafli/anaconda3/envs/tf/lib/python3.11/site-packages/librosa/core/spectrum.py:257: UserWarning: n_fft=512 is too large for input signal of length=35\n",
      "  warnings.warn(\n",
      "/home/rafli/anaconda3/envs/tf/lib/python3.11/site-packages/librosa/core/spectrum.py:257: UserWarning: n_fft=512 is too large for input signal of length=18\n",
      "  warnings.warn(\n"
     ]
    },
    {
     "name": "stdout",
     "output_type": "stream",
     "text": [
      "=====\n",
      "../data/testing_10/N/New_N_172.wav\n",
      "Predicted class: N\n",
      "=====\n",
      "1/1 [==============================] - 0s 85ms/step\n"
     ]
    },
    {
     "name": "stderr",
     "output_type": "stream",
     "text": [
      "/home/rafli/anaconda3/envs/tf/lib/python3.11/site-packages/librosa/core/spectrum.py:257: UserWarning: n_fft=2048 is too large for input signal of length=326\n",
      "  warnings.warn(\n",
      "/home/rafli/anaconda3/envs/tf/lib/python3.11/site-packages/librosa/core/spectrum.py:257: UserWarning: n_fft=512 is too large for input signal of length=326\n",
      "  warnings.warn(\n",
      "/home/rafli/anaconda3/envs/tf/lib/python3.11/site-packages/librosa/core/spectrum.py:257: UserWarning: n_fft=512 is too large for input signal of length=163\n",
      "  warnings.warn(\n",
      "/home/rafli/anaconda3/envs/tf/lib/python3.11/site-packages/librosa/core/spectrum.py:257: UserWarning: n_fft=512 is too large for input signal of length=82\n",
      "  warnings.warn(\n",
      "/home/rafli/anaconda3/envs/tf/lib/python3.11/site-packages/librosa/core/spectrum.py:257: UserWarning: n_fft=512 is too large for input signal of length=41\n",
      "  warnings.warn(\n",
      "/home/rafli/anaconda3/envs/tf/lib/python3.11/site-packages/librosa/core/spectrum.py:257: UserWarning: n_fft=512 is too large for input signal of length=21\n",
      "  warnings.warn(\n"
     ]
    },
    {
     "name": "stdout",
     "output_type": "stream",
     "text": [
      "=====\n",
      "../data/testing_10/N/New_N_088.wav\n",
      "Predicted class: N\n",
      "=====\n",
      "1/1 [==============================] - 0s 94ms/step\n"
     ]
    },
    {
     "name": "stderr",
     "output_type": "stream",
     "text": [
      "/home/rafli/anaconda3/envs/tf/lib/python3.11/site-packages/librosa/core/spectrum.py:257: UserWarning: n_fft=2048 is too large for input signal of length=274\n",
      "  warnings.warn(\n",
      "/home/rafli/anaconda3/envs/tf/lib/python3.11/site-packages/librosa/core/spectrum.py:257: UserWarning: n_fft=512 is too large for input signal of length=274\n",
      "  warnings.warn(\n",
      "/home/rafli/anaconda3/envs/tf/lib/python3.11/site-packages/librosa/core/spectrum.py:257: UserWarning: n_fft=512 is too large for input signal of length=137\n",
      "  warnings.warn(\n",
      "/home/rafli/anaconda3/envs/tf/lib/python3.11/site-packages/librosa/core/spectrum.py:257: UserWarning: n_fft=512 is too large for input signal of length=69\n",
      "  warnings.warn(\n",
      "/home/rafli/anaconda3/envs/tf/lib/python3.11/site-packages/librosa/core/spectrum.py:257: UserWarning: n_fft=512 is too large for input signal of length=35\n",
      "  warnings.warn(\n",
      "/home/rafli/anaconda3/envs/tf/lib/python3.11/site-packages/librosa/core/spectrum.py:257: UserWarning: n_fft=512 is too large for input signal of length=18\n",
      "  warnings.warn(\n"
     ]
    },
    {
     "name": "stdout",
     "output_type": "stream",
     "text": [
      "=====\n",
      "../data/testing_10/N/New_N_191.wav\n",
      "Predicted class: N\n",
      "=====\n",
      "1/1 [==============================] - 0s 83ms/step\n"
     ]
    },
    {
     "name": "stderr",
     "output_type": "stream",
     "text": [
      "/home/rafli/anaconda3/envs/tf/lib/python3.11/site-packages/librosa/core/spectrum.py:257: UserWarning: n_fft=2048 is too large for input signal of length=313\n",
      "  warnings.warn(\n",
      "/home/rafli/anaconda3/envs/tf/lib/python3.11/site-packages/librosa/core/spectrum.py:257: UserWarning: n_fft=512 is too large for input signal of length=313\n",
      "  warnings.warn(\n",
      "/home/rafli/anaconda3/envs/tf/lib/python3.11/site-packages/librosa/core/spectrum.py:257: UserWarning: n_fft=512 is too large for input signal of length=157\n",
      "  warnings.warn(\n",
      "/home/rafli/anaconda3/envs/tf/lib/python3.11/site-packages/librosa/core/spectrum.py:257: UserWarning: n_fft=512 is too large for input signal of length=79\n",
      "  warnings.warn(\n",
      "/home/rafli/anaconda3/envs/tf/lib/python3.11/site-packages/librosa/core/spectrum.py:257: UserWarning: n_fft=512 is too large for input signal of length=40\n",
      "  warnings.warn(\n",
      "/home/rafli/anaconda3/envs/tf/lib/python3.11/site-packages/librosa/core/spectrum.py:257: UserWarning: n_fft=512 is too large for input signal of length=20\n",
      "  warnings.warn(\n"
     ]
    },
    {
     "name": "stdout",
     "output_type": "stream",
     "text": [
      "=====\n",
      "../data/testing_10/N/New_N_198.wav\n",
      "Predicted class: MR\n",
      "=====\n",
      "1/1 [==============================] - 0s 84ms/step\n"
     ]
    },
    {
     "name": "stderr",
     "output_type": "stream",
     "text": [
      "/home/rafli/anaconda3/envs/tf/lib/python3.11/site-packages/librosa/core/spectrum.py:257: UserWarning: n_fft=2048 is too large for input signal of length=331\n",
      "  warnings.warn(\n",
      "/home/rafli/anaconda3/envs/tf/lib/python3.11/site-packages/librosa/core/spectrum.py:257: UserWarning: n_fft=512 is too large for input signal of length=331\n",
      "  warnings.warn(\n",
      "/home/rafli/anaconda3/envs/tf/lib/python3.11/site-packages/librosa/core/spectrum.py:257: UserWarning: n_fft=512 is too large for input signal of length=166\n",
      "  warnings.warn(\n",
      "/home/rafli/anaconda3/envs/tf/lib/python3.11/site-packages/librosa/core/spectrum.py:257: UserWarning: n_fft=512 is too large for input signal of length=83\n",
      "  warnings.warn(\n",
      "/home/rafli/anaconda3/envs/tf/lib/python3.11/site-packages/librosa/core/spectrum.py:257: UserWarning: n_fft=512 is too large for input signal of length=42\n",
      "  warnings.warn(\n",
      "/home/rafli/anaconda3/envs/tf/lib/python3.11/site-packages/librosa/core/spectrum.py:257: UserWarning: n_fft=512 is too large for input signal of length=21\n",
      "  warnings.warn(\n"
     ]
    },
    {
     "name": "stdout",
     "output_type": "stream",
     "text": [
      "=====\n",
      "../data/testing_10/N/New_N_066.wav\n",
      "Predicted class: N\n",
      "=====\n",
      "1/1 [==============================] - 0s 80ms/step\n"
     ]
    },
    {
     "name": "stderr",
     "output_type": "stream",
     "text": [
      "/home/rafli/anaconda3/envs/tf/lib/python3.11/site-packages/librosa/core/spectrum.py:257: UserWarning: n_fft=2048 is too large for input signal of length=333\n",
      "  warnings.warn(\n",
      "/home/rafli/anaconda3/envs/tf/lib/python3.11/site-packages/librosa/core/spectrum.py:257: UserWarning: n_fft=512 is too large for input signal of length=333\n",
      "  warnings.warn(\n",
      "/home/rafli/anaconda3/envs/tf/lib/python3.11/site-packages/librosa/core/spectrum.py:257: UserWarning: n_fft=512 is too large for input signal of length=167\n",
      "  warnings.warn(\n",
      "/home/rafli/anaconda3/envs/tf/lib/python3.11/site-packages/librosa/core/spectrum.py:257: UserWarning: n_fft=512 is too large for input signal of length=84\n",
      "  warnings.warn(\n",
      "/home/rafli/anaconda3/envs/tf/lib/python3.11/site-packages/librosa/core/spectrum.py:257: UserWarning: n_fft=512 is too large for input signal of length=42\n",
      "  warnings.warn(\n",
      "/home/rafli/anaconda3/envs/tf/lib/python3.11/site-packages/librosa/core/spectrum.py:257: UserWarning: n_fft=512 is too large for input signal of length=21\n",
      "  warnings.warn(\n"
     ]
    },
    {
     "name": "stdout",
     "output_type": "stream",
     "text": [
      "=====\n",
      "../data/testing_10/N/New_N_102.wav\n",
      "Predicted class: N\n",
      "=====\n",
      "1/1 [==============================] - 0s 87ms/step\n"
     ]
    },
    {
     "name": "stderr",
     "output_type": "stream",
     "text": [
      "/home/rafli/anaconda3/envs/tf/lib/python3.11/site-packages/librosa/core/spectrum.py:257: UserWarning: n_fft=2048 is too large for input signal of length=338\n",
      "  warnings.warn(\n",
      "/home/rafli/anaconda3/envs/tf/lib/python3.11/site-packages/librosa/core/spectrum.py:257: UserWarning: n_fft=512 is too large for input signal of length=338\n",
      "  warnings.warn(\n",
      "/home/rafli/anaconda3/envs/tf/lib/python3.11/site-packages/librosa/core/spectrum.py:257: UserWarning: n_fft=512 is too large for input signal of length=169\n",
      "  warnings.warn(\n",
      "/home/rafli/anaconda3/envs/tf/lib/python3.11/site-packages/librosa/core/spectrum.py:257: UserWarning: n_fft=512 is too large for input signal of length=85\n",
      "  warnings.warn(\n",
      "/home/rafli/anaconda3/envs/tf/lib/python3.11/site-packages/librosa/core/spectrum.py:257: UserWarning: n_fft=512 is too large for input signal of length=43\n",
      "  warnings.warn(\n",
      "/home/rafli/anaconda3/envs/tf/lib/python3.11/site-packages/librosa/core/spectrum.py:257: UserWarning: n_fft=512 is too large for input signal of length=22\n",
      "  warnings.warn(\n"
     ]
    },
    {
     "name": "stdout",
     "output_type": "stream",
     "text": [
      "=====\n",
      "../data/testing_10/N/New_N_053.wav\n",
      "Predicted class: N\n",
      "=====\n"
     ]
    },
    {
     "name": "stderr",
     "output_type": "stream",
     "text": [
      "/home/rafli/anaconda3/envs/tf/lib/python3.11/site-packages/librosa/core/spectrum.py:257: UserWarning: n_fft=2048 is too large for input signal of length=276\n",
      "  warnings.warn(\n",
      "/home/rafli/anaconda3/envs/tf/lib/python3.11/site-packages/librosa/core/spectrum.py:257: UserWarning: n_fft=512 is too large for input signal of length=276\n",
      "  warnings.warn(\n",
      "/home/rafli/anaconda3/envs/tf/lib/python3.11/site-packages/librosa/core/spectrum.py:257: UserWarning: n_fft=512 is too large for input signal of length=138\n",
      "  warnings.warn(\n",
      "/home/rafli/anaconda3/envs/tf/lib/python3.11/site-packages/librosa/core/spectrum.py:257: UserWarning: n_fft=512 is too large for input signal of length=69\n",
      "  warnings.warn(\n",
      "/home/rafli/anaconda3/envs/tf/lib/python3.11/site-packages/librosa/core/spectrum.py:257: UserWarning: n_fft=512 is too large for input signal of length=35\n",
      "  warnings.warn(\n",
      "/home/rafli/anaconda3/envs/tf/lib/python3.11/site-packages/librosa/core/spectrum.py:257: UserWarning: n_fft=512 is too large for input signal of length=18\n",
      "  warnings.warn(\n"
     ]
    },
    {
     "name": "stdout",
     "output_type": "stream",
     "text": [
      "1/1 [==============================] - 0s 89ms/step\n",
      "=====\n",
      "../data/testing_10/N/New_N_178.wav\n",
      "Predicted class: N\n",
      "=====\n",
      "1/1 [==============================] - 0s 77ms/step\n"
     ]
    },
    {
     "name": "stderr",
     "output_type": "stream",
     "text": [
      "/home/rafli/anaconda3/envs/tf/lib/python3.11/site-packages/librosa/core/spectrum.py:257: UserWarning: n_fft=2048 is too large for input signal of length=271\n",
      "  warnings.warn(\n",
      "/home/rafli/anaconda3/envs/tf/lib/python3.11/site-packages/librosa/core/spectrum.py:257: UserWarning: n_fft=512 is too large for input signal of length=271\n",
      "  warnings.warn(\n",
      "/home/rafli/anaconda3/envs/tf/lib/python3.11/site-packages/librosa/core/spectrum.py:257: UserWarning: n_fft=512 is too large for input signal of length=136\n",
      "  warnings.warn(\n",
      "/home/rafli/anaconda3/envs/tf/lib/python3.11/site-packages/librosa/core/spectrum.py:257: UserWarning: n_fft=512 is too large for input signal of length=68\n",
      "  warnings.warn(\n",
      "/home/rafli/anaconda3/envs/tf/lib/python3.11/site-packages/librosa/core/spectrum.py:257: UserWarning: n_fft=512 is too large for input signal of length=34\n",
      "  warnings.warn(\n",
      "/home/rafli/anaconda3/envs/tf/lib/python3.11/site-packages/librosa/core/spectrum.py:257: UserWarning: n_fft=512 is too large for input signal of length=17\n",
      "  warnings.warn(\n"
     ]
    },
    {
     "name": "stdout",
     "output_type": "stream",
     "text": [
      "=====\n",
      "../data/testing_10/N/New_N_032.wav\n",
      "Predicted class: N\n",
      "=====\n",
      "1/1 [==============================] - 0s 82ms/step\n"
     ]
    },
    {
     "name": "stderr",
     "output_type": "stream",
     "text": [
      "/home/rafli/anaconda3/envs/tf/lib/python3.11/site-packages/librosa/core/spectrum.py:257: UserWarning: n_fft=2048 is too large for input signal of length=274\n",
      "  warnings.warn(\n",
      "/home/rafli/anaconda3/envs/tf/lib/python3.11/site-packages/librosa/core/spectrum.py:257: UserWarning: n_fft=512 is too large for input signal of length=274\n",
      "  warnings.warn(\n",
      "/home/rafli/anaconda3/envs/tf/lib/python3.11/site-packages/librosa/core/spectrum.py:257: UserWarning: n_fft=512 is too large for input signal of length=137\n",
      "  warnings.warn(\n",
      "/home/rafli/anaconda3/envs/tf/lib/python3.11/site-packages/librosa/core/spectrum.py:257: UserWarning: n_fft=512 is too large for input signal of length=69\n",
      "  warnings.warn(\n",
      "/home/rafli/anaconda3/envs/tf/lib/python3.11/site-packages/librosa/core/spectrum.py:257: UserWarning: n_fft=512 is too large for input signal of length=35\n",
      "  warnings.warn(\n",
      "/home/rafli/anaconda3/envs/tf/lib/python3.11/site-packages/librosa/core/spectrum.py:257: UserWarning: n_fft=512 is too large for input signal of length=18\n",
      "  warnings.warn(\n"
     ]
    },
    {
     "name": "stdout",
     "output_type": "stream",
     "text": [
      "=====\n",
      "../data/testing_10/N/New_N_170.wav\n",
      "Predicted class: N\n",
      "=====\n",
      "1/1 [==============================] - 0s 85ms/step\n"
     ]
    },
    {
     "name": "stderr",
     "output_type": "stream",
     "text": [
      "/home/rafli/anaconda3/envs/tf/lib/python3.11/site-packages/librosa/core/spectrum.py:257: UserWarning: n_fft=2048 is too large for input signal of length=327\n",
      "  warnings.warn(\n",
      "/home/rafli/anaconda3/envs/tf/lib/python3.11/site-packages/librosa/core/spectrum.py:257: UserWarning: n_fft=512 is too large for input signal of length=327\n",
      "  warnings.warn(\n",
      "/home/rafli/anaconda3/envs/tf/lib/python3.11/site-packages/librosa/core/spectrum.py:257: UserWarning: n_fft=512 is too large for input signal of length=164\n",
      "  warnings.warn(\n",
      "/home/rafli/anaconda3/envs/tf/lib/python3.11/site-packages/librosa/core/spectrum.py:257: UserWarning: n_fft=512 is too large for input signal of length=82\n",
      "  warnings.warn(\n",
      "/home/rafli/anaconda3/envs/tf/lib/python3.11/site-packages/librosa/core/spectrum.py:257: UserWarning: n_fft=512 is too large for input signal of length=41\n",
      "  warnings.warn(\n",
      "/home/rafli/anaconda3/envs/tf/lib/python3.11/site-packages/librosa/core/spectrum.py:257: UserWarning: n_fft=512 is too large for input signal of length=21\n",
      "  warnings.warn(\n"
     ]
    },
    {
     "name": "stdout",
     "output_type": "stream",
     "text": [
      "=====\n",
      "../data/testing_10/N/New_N_080.wav\n",
      "Predicted class: N\n",
      "=====\n",
      "1/1 [==============================] - 0s 72ms/step\n"
     ]
    },
    {
     "name": "stderr",
     "output_type": "stream",
     "text": [
      "/home/rafli/anaconda3/envs/tf/lib/python3.11/site-packages/librosa/core/spectrum.py:257: UserWarning: n_fft=2048 is too large for input signal of length=328\n",
      "  warnings.warn(\n",
      "/home/rafli/anaconda3/envs/tf/lib/python3.11/site-packages/librosa/core/spectrum.py:257: UserWarning: n_fft=512 is too large for input signal of length=328\n",
      "  warnings.warn(\n",
      "/home/rafli/anaconda3/envs/tf/lib/python3.11/site-packages/librosa/core/spectrum.py:257: UserWarning: n_fft=512 is too large for input signal of length=164\n",
      "  warnings.warn(\n",
      "/home/rafli/anaconda3/envs/tf/lib/python3.11/site-packages/librosa/core/spectrum.py:257: UserWarning: n_fft=512 is too large for input signal of length=82\n",
      "  warnings.warn(\n",
      "/home/rafli/anaconda3/envs/tf/lib/python3.11/site-packages/librosa/core/spectrum.py:257: UserWarning: n_fft=512 is too large for input signal of length=41\n",
      "  warnings.warn(\n",
      "/home/rafli/anaconda3/envs/tf/lib/python3.11/site-packages/librosa/core/spectrum.py:257: UserWarning: n_fft=512 is too large for input signal of length=21\n",
      "  warnings.warn(\n"
     ]
    },
    {
     "name": "stdout",
     "output_type": "stream",
     "text": [
      "=====\n",
      "../data/testing_10/N/New_N_072.wav\n",
      "Predicted class: N\n",
      "=====\n",
      "1/1 [==============================] - 0s 102ms/step\n"
     ]
    },
    {
     "name": "stderr",
     "output_type": "stream",
     "text": [
      "/home/rafli/anaconda3/envs/tf/lib/python3.11/site-packages/librosa/core/spectrum.py:257: UserWarning: n_fft=2048 is too large for input signal of length=382\n",
      "  warnings.warn(\n",
      "/home/rafli/anaconda3/envs/tf/lib/python3.11/site-packages/librosa/core/spectrum.py:257: UserWarning: n_fft=512 is too large for input signal of length=382\n",
      "  warnings.warn(\n",
      "/home/rafli/anaconda3/envs/tf/lib/python3.11/site-packages/librosa/core/spectrum.py:257: UserWarning: n_fft=512 is too large for input signal of length=191\n",
      "  warnings.warn(\n",
      "/home/rafli/anaconda3/envs/tf/lib/python3.11/site-packages/librosa/core/spectrum.py:257: UserWarning: n_fft=512 is too large for input signal of length=96\n",
      "  warnings.warn(\n",
      "/home/rafli/anaconda3/envs/tf/lib/python3.11/site-packages/librosa/core/spectrum.py:257: UserWarning: n_fft=512 is too large for input signal of length=48\n",
      "  warnings.warn(\n",
      "/home/rafli/anaconda3/envs/tf/lib/python3.11/site-packages/librosa/core/spectrum.py:257: UserWarning: n_fft=512 is too large for input signal of length=24\n",
      "  warnings.warn(\n"
     ]
    },
    {
     "name": "stdout",
     "output_type": "stream",
     "text": [
      "=====\n",
      "../data/testing_10/N/New_N_038.wav\n",
      "Predicted class: AS\n",
      "=====\n",
      "1/1 [==============================] - 0s 87ms/step\n"
     ]
    },
    {
     "name": "stderr",
     "output_type": "stream",
     "text": [
      "/home/rafli/anaconda3/envs/tf/lib/python3.11/site-packages/librosa/core/spectrum.py:257: UserWarning: n_fft=2048 is too large for input signal of length=271\n",
      "  warnings.warn(\n",
      "/home/rafli/anaconda3/envs/tf/lib/python3.11/site-packages/librosa/core/spectrum.py:257: UserWarning: n_fft=512 is too large for input signal of length=271\n",
      "  warnings.warn(\n",
      "/home/rafli/anaconda3/envs/tf/lib/python3.11/site-packages/librosa/core/spectrum.py:257: UserWarning: n_fft=512 is too large for input signal of length=136\n",
      "  warnings.warn(\n",
      "/home/rafli/anaconda3/envs/tf/lib/python3.11/site-packages/librosa/core/spectrum.py:257: UserWarning: n_fft=512 is too large for input signal of length=68\n",
      "  warnings.warn(\n",
      "/home/rafli/anaconda3/envs/tf/lib/python3.11/site-packages/librosa/core/spectrum.py:257: UserWarning: n_fft=512 is too large for input signal of length=34\n",
      "  warnings.warn(\n",
      "/home/rafli/anaconda3/envs/tf/lib/python3.11/site-packages/librosa/core/spectrum.py:257: UserWarning: n_fft=512 is too large for input signal of length=17\n",
      "  warnings.warn(\n"
     ]
    },
    {
     "name": "stdout",
     "output_type": "stream",
     "text": [
      "=====\n",
      "../data/testing_10/N/New_N_186.wav\n",
      "Predicted class: N\n",
      "=====\n",
      "1/1 [==============================] - 0s 92ms/step\n"
     ]
    },
    {
     "name": "stderr",
     "output_type": "stream",
     "text": [
      "/home/rafli/anaconda3/envs/tf/lib/python3.11/site-packages/librosa/core/spectrum.py:257: UserWarning: n_fft=2048 is too large for input signal of length=326\n",
      "  warnings.warn(\n",
      "/home/rafli/anaconda3/envs/tf/lib/python3.11/site-packages/librosa/core/spectrum.py:257: UserWarning: n_fft=512 is too large for input signal of length=326\n",
      "  warnings.warn(\n",
      "/home/rafli/anaconda3/envs/tf/lib/python3.11/site-packages/librosa/core/spectrum.py:257: UserWarning: n_fft=512 is too large for input signal of length=163\n",
      "  warnings.warn(\n",
      "/home/rafli/anaconda3/envs/tf/lib/python3.11/site-packages/librosa/core/spectrum.py:257: UserWarning: n_fft=512 is too large for input signal of length=82\n",
      "  warnings.warn(\n",
      "/home/rafli/anaconda3/envs/tf/lib/python3.11/site-packages/librosa/core/spectrum.py:257: UserWarning: n_fft=512 is too large for input signal of length=41\n",
      "  warnings.warn(\n",
      "/home/rafli/anaconda3/envs/tf/lib/python3.11/site-packages/librosa/core/spectrum.py:257: UserWarning: n_fft=512 is too large for input signal of length=21\n",
      "  warnings.warn(\n"
     ]
    },
    {
     "name": "stdout",
     "output_type": "stream",
     "text": [
      "=====\n",
      "../data/testing_10/N/New_N_108.wav\n",
      "Predicted class: N\n",
      "=====\n",
      "1/1 [==============================] - 0s 96ms/step\n"
     ]
    },
    {
     "name": "stderr",
     "output_type": "stream",
     "text": [
      "/home/rafli/anaconda3/envs/tf/lib/python3.11/site-packages/librosa/core/spectrum.py:257: UserWarning: n_fft=2048 is too large for input signal of length=335\n",
      "  warnings.warn(\n",
      "/home/rafli/anaconda3/envs/tf/lib/python3.11/site-packages/librosa/core/spectrum.py:257: UserWarning: n_fft=512 is too large for input signal of length=335\n",
      "  warnings.warn(\n",
      "/home/rafli/anaconda3/envs/tf/lib/python3.11/site-packages/librosa/core/spectrum.py:257: UserWarning: n_fft=512 is too large for input signal of length=168\n",
      "  warnings.warn(\n",
      "/home/rafli/anaconda3/envs/tf/lib/python3.11/site-packages/librosa/core/spectrum.py:257: UserWarning: n_fft=512 is too large for input signal of length=84\n",
      "  warnings.warn(\n",
      "/home/rafli/anaconda3/envs/tf/lib/python3.11/site-packages/librosa/core/spectrum.py:257: UserWarning: n_fft=512 is too large for input signal of length=42\n",
      "  warnings.warn(\n",
      "/home/rafli/anaconda3/envs/tf/lib/python3.11/site-packages/librosa/core/spectrum.py:257: UserWarning: n_fft=512 is too large for input signal of length=21\n",
      "  warnings.warn(\n"
     ]
    },
    {
     "name": "stdout",
     "output_type": "stream",
     "text": [
      "=====\n",
      "../data/testing_10/N/New_N_061.wav\n",
      "Predicted class: N\n",
      "=====\n",
      "1/1 [==============================] - 0s 90ms/step\n"
     ]
    },
    {
     "name": "stderr",
     "output_type": "stream",
     "text": [
      "/home/rafli/anaconda3/envs/tf/lib/python3.11/site-packages/librosa/core/spectrum.py:257: UserWarning: n_fft=2048 is too large for input signal of length=346\n",
      "  warnings.warn(\n",
      "/home/rafli/anaconda3/envs/tf/lib/python3.11/site-packages/librosa/core/spectrum.py:257: UserWarning: n_fft=512 is too large for input signal of length=346\n",
      "  warnings.warn(\n",
      "/home/rafli/anaconda3/envs/tf/lib/python3.11/site-packages/librosa/core/spectrum.py:257: UserWarning: n_fft=512 is too large for input signal of length=173\n",
      "  warnings.warn(\n",
      "/home/rafli/anaconda3/envs/tf/lib/python3.11/site-packages/librosa/core/spectrum.py:257: UserWarning: n_fft=512 is too large for input signal of length=87\n",
      "  warnings.warn(\n",
      "/home/rafli/anaconda3/envs/tf/lib/python3.11/site-packages/librosa/core/spectrum.py:257: UserWarning: n_fft=512 is too large for input signal of length=44\n",
      "  warnings.warn(\n",
      "/home/rafli/anaconda3/envs/tf/lib/python3.11/site-packages/librosa/core/spectrum.py:257: UserWarning: n_fft=512 is too large for input signal of length=22\n",
      "  warnings.warn(\n"
     ]
    },
    {
     "name": "stdout",
     "output_type": "stream",
     "text": [
      "=====\n",
      "../data/testing_10/N/New_N_123.wav\n",
      "Predicted class: N\n",
      "=====\n",
      "\n",
      "Processing: MR\n",
      "1/1 [==============================] - 0s 81ms/step\n"
     ]
    },
    {
     "name": "stderr",
     "output_type": "stream",
     "text": [
      "/home/rafli/anaconda3/envs/tf/lib/python3.11/site-packages/librosa/core/spectrum.py:257: UserWarning: n_fft=2048 is too large for input signal of length=298\n",
      "  warnings.warn(\n",
      "/home/rafli/anaconda3/envs/tf/lib/python3.11/site-packages/librosa/core/spectrum.py:257: UserWarning: n_fft=512 is too large for input signal of length=298\n",
      "  warnings.warn(\n",
      "/home/rafli/anaconda3/envs/tf/lib/python3.11/site-packages/librosa/core/spectrum.py:257: UserWarning: n_fft=512 is too large for input signal of length=149\n",
      "  warnings.warn(\n",
      "/home/rafli/anaconda3/envs/tf/lib/python3.11/site-packages/librosa/core/spectrum.py:257: UserWarning: n_fft=512 is too large for input signal of length=75\n",
      "  warnings.warn(\n",
      "/home/rafli/anaconda3/envs/tf/lib/python3.11/site-packages/librosa/core/spectrum.py:257: UserWarning: n_fft=512 is too large for input signal of length=38\n",
      "  warnings.warn(\n",
      "/home/rafli/anaconda3/envs/tf/lib/python3.11/site-packages/librosa/core/spectrum.py:257: UserWarning: n_fft=512 is too large for input signal of length=19\n",
      "  warnings.warn(\n"
     ]
    },
    {
     "name": "stdout",
     "output_type": "stream",
     "text": [
      "=====\n",
      "../data/testing_10/MR/New_MR_036.wav\n",
      "Predicted class: MR\n",
      "=====\n"
     ]
    },
    {
     "name": "stderr",
     "output_type": "stream",
     "text": [
      "/home/rafli/anaconda3/envs/tf/lib/python3.11/site-packages/librosa/core/spectrum.py:257: UserWarning: n_fft=2048 is too large for input signal of length=254\n",
      "  warnings.warn(\n",
      "/home/rafli/anaconda3/envs/tf/lib/python3.11/site-packages/librosa/core/spectrum.py:257: UserWarning: n_fft=512 is too large for input signal of length=254\n",
      "  warnings.warn(\n",
      "/home/rafli/anaconda3/envs/tf/lib/python3.11/site-packages/librosa/core/spectrum.py:257: UserWarning: n_fft=512 is too large for input signal of length=127\n",
      "  warnings.warn(\n",
      "/home/rafli/anaconda3/envs/tf/lib/python3.11/site-packages/librosa/core/spectrum.py:257: UserWarning: n_fft=512 is too large for input signal of length=64\n",
      "  warnings.warn(\n",
      "/home/rafli/anaconda3/envs/tf/lib/python3.11/site-packages/librosa/core/spectrum.py:257: UserWarning: n_fft=512 is too large for input signal of length=32\n",
      "  warnings.warn(\n",
      "/home/rafli/anaconda3/envs/tf/lib/python3.11/site-packages/librosa/core/spectrum.py:257: UserWarning: n_fft=512 is too large for input signal of length=16\n",
      "  warnings.warn(\n"
     ]
    },
    {
     "name": "stdout",
     "output_type": "stream",
     "text": [
      "1/1 [==============================] - 0s 115ms/step\n",
      "=====\n",
      "../data/testing_10/MR/New_MR_019.wav\n",
      "Predicted class: MR\n",
      "=====\n",
      "1/1 [==============================] - 0s 81ms/step\n"
     ]
    },
    {
     "name": "stderr",
     "output_type": "stream",
     "text": [
      "/home/rafli/anaconda3/envs/tf/lib/python3.11/site-packages/librosa/core/spectrum.py:257: UserWarning: n_fft=2048 is too large for input signal of length=286\n",
      "  warnings.warn(\n",
      "/home/rafli/anaconda3/envs/tf/lib/python3.11/site-packages/librosa/core/spectrum.py:257: UserWarning: n_fft=512 is too large for input signal of length=286\n",
      "  warnings.warn(\n",
      "/home/rafli/anaconda3/envs/tf/lib/python3.11/site-packages/librosa/core/spectrum.py:257: UserWarning: n_fft=512 is too large for input signal of length=143\n",
      "  warnings.warn(\n",
      "/home/rafli/anaconda3/envs/tf/lib/python3.11/site-packages/librosa/core/spectrum.py:257: UserWarning: n_fft=512 is too large for input signal of length=72\n",
      "  warnings.warn(\n",
      "/home/rafli/anaconda3/envs/tf/lib/python3.11/site-packages/librosa/core/spectrum.py:257: UserWarning: n_fft=512 is too large for input signal of length=36\n",
      "  warnings.warn(\n",
      "/home/rafli/anaconda3/envs/tf/lib/python3.11/site-packages/librosa/core/spectrum.py:257: UserWarning: n_fft=512 is too large for input signal of length=18\n",
      "  warnings.warn(\n"
     ]
    },
    {
     "name": "stdout",
     "output_type": "stream",
     "text": [
      "=====\n",
      "../data/testing_10/MR/New_MR_061.wav\n",
      "Predicted class: MR\n",
      "=====\n",
      "1/1 [==============================] - 0s 85ms/step\n"
     ]
    },
    {
     "name": "stderr",
     "output_type": "stream",
     "text": [
      "/home/rafli/anaconda3/envs/tf/lib/python3.11/site-packages/librosa/core/spectrum.py:257: UserWarning: n_fft=2048 is too large for input signal of length=291\n",
      "  warnings.warn(\n",
      "/home/rafli/anaconda3/envs/tf/lib/python3.11/site-packages/librosa/core/spectrum.py:257: UserWarning: n_fft=512 is too large for input signal of length=291\n",
      "  warnings.warn(\n",
      "/home/rafli/anaconda3/envs/tf/lib/python3.11/site-packages/librosa/core/spectrum.py:257: UserWarning: n_fft=512 is too large for input signal of length=146\n",
      "  warnings.warn(\n",
      "/home/rafli/anaconda3/envs/tf/lib/python3.11/site-packages/librosa/core/spectrum.py:257: UserWarning: n_fft=512 is too large for input signal of length=73\n",
      "  warnings.warn(\n",
      "/home/rafli/anaconda3/envs/tf/lib/python3.11/site-packages/librosa/core/spectrum.py:257: UserWarning: n_fft=512 is too large for input signal of length=37\n",
      "  warnings.warn(\n",
      "/home/rafli/anaconda3/envs/tf/lib/python3.11/site-packages/librosa/core/spectrum.py:257: UserWarning: n_fft=512 is too large for input signal of length=19\n",
      "  warnings.warn(\n"
     ]
    },
    {
     "name": "stdout",
     "output_type": "stream",
     "text": [
      "=====\n",
      "../data/testing_10/MR/New_MR_083.wav\n",
      "Predicted class: MR\n",
      "=====\n"
     ]
    },
    {
     "name": "stderr",
     "output_type": "stream",
     "text": [
      "/home/rafli/anaconda3/envs/tf/lib/python3.11/site-packages/librosa/core/spectrum.py:257: UserWarning: n_fft=2048 is too large for input signal of length=285\n",
      "  warnings.warn(\n",
      "/home/rafli/anaconda3/envs/tf/lib/python3.11/site-packages/librosa/core/spectrum.py:257: UserWarning: n_fft=512 is too large for input signal of length=285\n",
      "  warnings.warn(\n",
      "/home/rafli/anaconda3/envs/tf/lib/python3.11/site-packages/librosa/core/spectrum.py:257: UserWarning: n_fft=512 is too large for input signal of length=143\n",
      "  warnings.warn(\n",
      "/home/rafli/anaconda3/envs/tf/lib/python3.11/site-packages/librosa/core/spectrum.py:257: UserWarning: n_fft=512 is too large for input signal of length=72\n",
      "  warnings.warn(\n",
      "/home/rafli/anaconda3/envs/tf/lib/python3.11/site-packages/librosa/core/spectrum.py:257: UserWarning: n_fft=512 is too large for input signal of length=36\n",
      "  warnings.warn(\n",
      "/home/rafli/anaconda3/envs/tf/lib/python3.11/site-packages/librosa/core/spectrum.py:257: UserWarning: n_fft=512 is too large for input signal of length=18\n",
      "  warnings.warn(\n"
     ]
    },
    {
     "name": "stdout",
     "output_type": "stream",
     "text": [
      "1/1 [==============================] - 0s 106ms/step\n",
      "=====\n",
      "../data/testing_10/MR/New_MR_145.wav\n",
      "Predicted class: MR\n",
      "=====\n",
      "1/1 [==============================] - 0s 79ms/step\n"
     ]
    },
    {
     "name": "stderr",
     "output_type": "stream",
     "text": [
      "/home/rafli/anaconda3/envs/tf/lib/python3.11/site-packages/librosa/core/spectrum.py:257: UserWarning: n_fft=2048 is too large for input signal of length=286\n",
      "  warnings.warn(\n",
      "/home/rafli/anaconda3/envs/tf/lib/python3.11/site-packages/librosa/core/spectrum.py:257: UserWarning: n_fft=512 is too large for input signal of length=286\n",
      "  warnings.warn(\n",
      "/home/rafli/anaconda3/envs/tf/lib/python3.11/site-packages/librosa/core/spectrum.py:257: UserWarning: n_fft=512 is too large for input signal of length=143\n",
      "  warnings.warn(\n",
      "/home/rafli/anaconda3/envs/tf/lib/python3.11/site-packages/librosa/core/spectrum.py:257: UserWarning: n_fft=512 is too large for input signal of length=72\n",
      "  warnings.warn(\n",
      "/home/rafli/anaconda3/envs/tf/lib/python3.11/site-packages/librosa/core/spectrum.py:257: UserWarning: n_fft=512 is too large for input signal of length=36\n",
      "  warnings.warn(\n",
      "/home/rafli/anaconda3/envs/tf/lib/python3.11/site-packages/librosa/core/spectrum.py:257: UserWarning: n_fft=512 is too large for input signal of length=18\n",
      "  warnings.warn(\n"
     ]
    },
    {
     "name": "stdout",
     "output_type": "stream",
     "text": [
      "=====\n",
      "../data/testing_10/MR/New_MR_110.wav\n",
      "Predicted class: MR\n",
      "=====\n",
      "1/1 [==============================] - 0s 81ms/step\n"
     ]
    },
    {
     "name": "stderr",
     "output_type": "stream",
     "text": [
      "/home/rafli/anaconda3/envs/tf/lib/python3.11/site-packages/librosa/core/spectrum.py:257: UserWarning: n_fft=2048 is too large for input signal of length=289\n",
      "  warnings.warn(\n",
      "/home/rafli/anaconda3/envs/tf/lib/python3.11/site-packages/librosa/core/spectrum.py:257: UserWarning: n_fft=512 is too large for input signal of length=289\n",
      "  warnings.warn(\n",
      "/home/rafli/anaconda3/envs/tf/lib/python3.11/site-packages/librosa/core/spectrum.py:257: UserWarning: n_fft=512 is too large for input signal of length=145\n",
      "  warnings.warn(\n",
      "/home/rafli/anaconda3/envs/tf/lib/python3.11/site-packages/librosa/core/spectrum.py:257: UserWarning: n_fft=512 is too large for input signal of length=73\n",
      "  warnings.warn(\n",
      "/home/rafli/anaconda3/envs/tf/lib/python3.11/site-packages/librosa/core/spectrum.py:257: UserWarning: n_fft=512 is too large for input signal of length=37\n",
      "  warnings.warn(\n",
      "/home/rafli/anaconda3/envs/tf/lib/python3.11/site-packages/librosa/core/spectrum.py:257: UserWarning: n_fft=512 is too large for input signal of length=19\n",
      "  warnings.warn(\n"
     ]
    },
    {
     "name": "stdout",
     "output_type": "stream",
     "text": [
      "=====\n",
      "../data/testing_10/MR/New_MR_067.wav\n",
      "Predicted class: MR\n",
      "=====\n",
      "1/1 [==============================] - 0s 91ms/step\n"
     ]
    },
    {
     "name": "stderr",
     "output_type": "stream",
     "text": [
      "/home/rafli/anaconda3/envs/tf/lib/python3.11/site-packages/librosa/core/spectrum.py:257: UserWarning: n_fft=2048 is too large for input signal of length=279\n",
      "  warnings.warn(\n",
      "/home/rafli/anaconda3/envs/tf/lib/python3.11/site-packages/librosa/core/spectrum.py:257: UserWarning: n_fft=512 is too large for input signal of length=279\n",
      "  warnings.warn(\n",
      "/home/rafli/anaconda3/envs/tf/lib/python3.11/site-packages/librosa/core/spectrum.py:257: UserWarning: n_fft=512 is too large for input signal of length=140\n",
      "  warnings.warn(\n",
      "/home/rafli/anaconda3/envs/tf/lib/python3.11/site-packages/librosa/core/spectrum.py:257: UserWarning: n_fft=512 is too large for input signal of length=70\n",
      "  warnings.warn(\n",
      "/home/rafli/anaconda3/envs/tf/lib/python3.11/site-packages/librosa/core/spectrum.py:257: UserWarning: n_fft=512 is too large for input signal of length=35\n",
      "  warnings.warn(\n",
      "/home/rafli/anaconda3/envs/tf/lib/python3.11/site-packages/librosa/core/spectrum.py:257: UserWarning: n_fft=512 is too large for input signal of length=18\n",
      "  warnings.warn(\n"
     ]
    },
    {
     "name": "stdout",
     "output_type": "stream",
     "text": [
      "=====\n",
      "../data/testing_10/MR/New_MR_157.wav\n",
      "Predicted class: MR\n",
      "=====\n",
      "1/1 [==============================] - 0s 80ms/step\n"
     ]
    },
    {
     "name": "stderr",
     "output_type": "stream",
     "text": [
      "/home/rafli/anaconda3/envs/tf/lib/python3.11/site-packages/librosa/core/spectrum.py:257: UserWarning: n_fft=2048 is too large for input signal of length=286\n",
      "  warnings.warn(\n",
      "/home/rafli/anaconda3/envs/tf/lib/python3.11/site-packages/librosa/core/spectrum.py:257: UserWarning: n_fft=512 is too large for input signal of length=286\n",
      "  warnings.warn(\n",
      "/home/rafli/anaconda3/envs/tf/lib/python3.11/site-packages/librosa/core/spectrum.py:257: UserWarning: n_fft=512 is too large for input signal of length=143\n",
      "  warnings.warn(\n",
      "/home/rafli/anaconda3/envs/tf/lib/python3.11/site-packages/librosa/core/spectrum.py:257: UserWarning: n_fft=512 is too large for input signal of length=72\n",
      "  warnings.warn(\n",
      "/home/rafli/anaconda3/envs/tf/lib/python3.11/site-packages/librosa/core/spectrum.py:257: UserWarning: n_fft=512 is too large for input signal of length=36\n",
      "  warnings.warn(\n",
      "/home/rafli/anaconda3/envs/tf/lib/python3.11/site-packages/librosa/core/spectrum.py:257: UserWarning: n_fft=512 is too large for input signal of length=18\n",
      "  warnings.warn(\n"
     ]
    },
    {
     "name": "stdout",
     "output_type": "stream",
     "text": [
      "=====\n",
      "../data/testing_10/MR/New_MR_180.wav\n",
      "Predicted class: MR\n",
      "=====\n",
      "1/1 [==============================] - 0s 96ms/step\n"
     ]
    },
    {
     "name": "stderr",
     "output_type": "stream",
     "text": [
      "/home/rafli/anaconda3/envs/tf/lib/python3.11/site-packages/librosa/core/spectrum.py:257: UserWarning: n_fft=2048 is too large for input signal of length=301\n",
      "  warnings.warn(\n",
      "/home/rafli/anaconda3/envs/tf/lib/python3.11/site-packages/librosa/core/spectrum.py:257: UserWarning: n_fft=512 is too large for input signal of length=301\n",
      "  warnings.warn(\n",
      "/home/rafli/anaconda3/envs/tf/lib/python3.11/site-packages/librosa/core/spectrum.py:257: UserWarning: n_fft=512 is too large for input signal of length=151\n",
      "  warnings.warn(\n",
      "/home/rafli/anaconda3/envs/tf/lib/python3.11/site-packages/librosa/core/spectrum.py:257: UserWarning: n_fft=512 is too large for input signal of length=76\n",
      "  warnings.warn(\n",
      "/home/rafli/anaconda3/envs/tf/lib/python3.11/site-packages/librosa/core/spectrum.py:257: UserWarning: n_fft=512 is too large for input signal of length=38\n",
      "  warnings.warn(\n",
      "/home/rafli/anaconda3/envs/tf/lib/python3.11/site-packages/librosa/core/spectrum.py:257: UserWarning: n_fft=512 is too large for input signal of length=19\n",
      "  warnings.warn(\n"
     ]
    },
    {
     "name": "stdout",
     "output_type": "stream",
     "text": [
      "=====\n",
      "../data/testing_10/MR/New_MR_085.wav\n",
      "Predicted class: MR\n",
      "=====\n",
      "1/1 [==============================] - 0s 89ms/step\n"
     ]
    },
    {
     "name": "stderr",
     "output_type": "stream",
     "text": [
      "/home/rafli/anaconda3/envs/tf/lib/python3.11/site-packages/librosa/core/spectrum.py:257: UserWarning: n_fft=2048 is too large for input signal of length=305\n",
      "  warnings.warn(\n",
      "/home/rafli/anaconda3/envs/tf/lib/python3.11/site-packages/librosa/core/spectrum.py:257: UserWarning: n_fft=512 is too large for input signal of length=305\n",
      "  warnings.warn(\n",
      "/home/rafli/anaconda3/envs/tf/lib/python3.11/site-packages/librosa/core/spectrum.py:257: UserWarning: n_fft=512 is too large for input signal of length=153\n",
      "  warnings.warn(\n",
      "/home/rafli/anaconda3/envs/tf/lib/python3.11/site-packages/librosa/core/spectrum.py:257: UserWarning: n_fft=512 is too large for input signal of length=77\n",
      "  warnings.warn(\n",
      "/home/rafli/anaconda3/envs/tf/lib/python3.11/site-packages/librosa/core/spectrum.py:257: UserWarning: n_fft=512 is too large for input signal of length=39\n",
      "  warnings.warn(\n",
      "/home/rafli/anaconda3/envs/tf/lib/python3.11/site-packages/librosa/core/spectrum.py:257: UserWarning: n_fft=512 is too large for input signal of length=20\n",
      "  warnings.warn(\n"
     ]
    },
    {
     "name": "stdout",
     "output_type": "stream",
     "text": [
      "=====\n",
      "../data/testing_10/MR/New_MR_051.wav\n",
      "Predicted class: MR\n",
      "=====\n",
      "1/1 [==============================] - 0s 81ms/step\n"
     ]
    },
    {
     "name": "stderr",
     "output_type": "stream",
     "text": [
      "/home/rafli/anaconda3/envs/tf/lib/python3.11/site-packages/librosa/core/spectrum.py:257: UserWarning: n_fft=2048 is too large for input signal of length=294\n",
      "  warnings.warn(\n",
      "/home/rafli/anaconda3/envs/tf/lib/python3.11/site-packages/librosa/core/spectrum.py:257: UserWarning: n_fft=512 is too large for input signal of length=294\n",
      "  warnings.warn(\n",
      "/home/rafli/anaconda3/envs/tf/lib/python3.11/site-packages/librosa/core/spectrum.py:257: UserWarning: n_fft=512 is too large for input signal of length=147\n",
      "  warnings.warn(\n",
      "/home/rafli/anaconda3/envs/tf/lib/python3.11/site-packages/librosa/core/spectrum.py:257: UserWarning: n_fft=512 is too large for input signal of length=74\n",
      "  warnings.warn(\n",
      "/home/rafli/anaconda3/envs/tf/lib/python3.11/site-packages/librosa/core/spectrum.py:257: UserWarning: n_fft=512 is too large for input signal of length=37\n",
      "  warnings.warn(\n",
      "/home/rafli/anaconda3/envs/tf/lib/python3.11/site-packages/librosa/core/spectrum.py:257: UserWarning: n_fft=512 is too large for input signal of length=19\n",
      "  warnings.warn(\n"
     ]
    },
    {
     "name": "stdout",
     "output_type": "stream",
     "text": [
      "=====\n",
      "../data/testing_10/MR/New_MR_165.wav\n",
      "Predicted class: MR\n",
      "=====\n",
      "1/1 [==============================] - 0s 98ms/step\n"
     ]
    },
    {
     "name": "stderr",
     "output_type": "stream",
     "text": [
      "/home/rafli/anaconda3/envs/tf/lib/python3.11/site-packages/librosa/core/spectrum.py:257: UserWarning: n_fft=2048 is too large for input signal of length=385\n",
      "  warnings.warn(\n",
      "/home/rafli/anaconda3/envs/tf/lib/python3.11/site-packages/librosa/core/spectrum.py:257: UserWarning: n_fft=512 is too large for input signal of length=385\n",
      "  warnings.warn(\n",
      "/home/rafli/anaconda3/envs/tf/lib/python3.11/site-packages/librosa/core/spectrum.py:257: UserWarning: n_fft=512 is too large for input signal of length=193\n",
      "  warnings.warn(\n",
      "/home/rafli/anaconda3/envs/tf/lib/python3.11/site-packages/librosa/core/spectrum.py:257: UserWarning: n_fft=512 is too large for input signal of length=97\n",
      "  warnings.warn(\n",
      "/home/rafli/anaconda3/envs/tf/lib/python3.11/site-packages/librosa/core/spectrum.py:257: UserWarning: n_fft=512 is too large for input signal of length=49\n",
      "  warnings.warn(\n",
      "/home/rafli/anaconda3/envs/tf/lib/python3.11/site-packages/librosa/core/spectrum.py:257: UserWarning: n_fft=512 is too large for input signal of length=25\n",
      "  warnings.warn(\n"
     ]
    },
    {
     "name": "stdout",
     "output_type": "stream",
     "text": [
      "=====\n",
      "../data/testing_10/MR/New_MR_088.wav\n",
      "Predicted class: MVP\n",
      "=====\n",
      "1/1 [==============================] - 0s 92ms/step\n"
     ]
    },
    {
     "name": "stderr",
     "output_type": "stream",
     "text": [
      "/home/rafli/anaconda3/envs/tf/lib/python3.11/site-packages/librosa/core/spectrum.py:257: UserWarning: n_fft=2048 is too large for input signal of length=291\n",
      "  warnings.warn(\n",
      "/home/rafli/anaconda3/envs/tf/lib/python3.11/site-packages/librosa/core/spectrum.py:257: UserWarning: n_fft=512 is too large for input signal of length=291\n",
      "  warnings.warn(\n",
      "/home/rafli/anaconda3/envs/tf/lib/python3.11/site-packages/librosa/core/spectrum.py:257: UserWarning: n_fft=512 is too large for input signal of length=146\n",
      "  warnings.warn(\n",
      "/home/rafli/anaconda3/envs/tf/lib/python3.11/site-packages/librosa/core/spectrum.py:257: UserWarning: n_fft=512 is too large for input signal of length=73\n",
      "  warnings.warn(\n",
      "/home/rafli/anaconda3/envs/tf/lib/python3.11/site-packages/librosa/core/spectrum.py:257: UserWarning: n_fft=512 is too large for input signal of length=37\n",
      "  warnings.warn(\n",
      "/home/rafli/anaconda3/envs/tf/lib/python3.11/site-packages/librosa/core/spectrum.py:257: UserWarning: n_fft=512 is too large for input signal of length=19\n",
      "  warnings.warn(\n"
     ]
    },
    {
     "name": "stdout",
     "output_type": "stream",
     "text": [
      "=====\n",
      "../data/testing_10/MR/New_MR_132.wav\n",
      "Predicted class: MR\n",
      "=====\n",
      "1/1 [==============================] - 0s 90ms/step\n"
     ]
    },
    {
     "name": "stderr",
     "output_type": "stream",
     "text": [
      "/home/rafli/anaconda3/envs/tf/lib/python3.11/site-packages/librosa/core/spectrum.py:257: UserWarning: n_fft=2048 is too large for input signal of length=285\n",
      "  warnings.warn(\n",
      "/home/rafli/anaconda3/envs/tf/lib/python3.11/site-packages/librosa/core/spectrum.py:257: UserWarning: n_fft=512 is too large for input signal of length=285\n",
      "  warnings.warn(\n",
      "/home/rafli/anaconda3/envs/tf/lib/python3.11/site-packages/librosa/core/spectrum.py:257: UserWarning: n_fft=512 is too large for input signal of length=143\n",
      "  warnings.warn(\n",
      "/home/rafli/anaconda3/envs/tf/lib/python3.11/site-packages/librosa/core/spectrum.py:257: UserWarning: n_fft=512 is too large for input signal of length=72\n",
      "  warnings.warn(\n",
      "/home/rafli/anaconda3/envs/tf/lib/python3.11/site-packages/librosa/core/spectrum.py:257: UserWarning: n_fft=512 is too large for input signal of length=36\n",
      "  warnings.warn(\n",
      "/home/rafli/anaconda3/envs/tf/lib/python3.11/site-packages/librosa/core/spectrum.py:257: UserWarning: n_fft=512 is too large for input signal of length=18\n",
      "  warnings.warn(\n"
     ]
    },
    {
     "name": "stdout",
     "output_type": "stream",
     "text": [
      "=====\n",
      "../data/testing_10/MR/New_MR_185.wav\n",
      "Predicted class: MR\n",
      "=====\n",
      "1/1 [==============================] - 0s 90ms/step\n"
     ]
    },
    {
     "name": "stderr",
     "output_type": "stream",
     "text": [
      "/home/rafli/anaconda3/envs/tf/lib/python3.11/site-packages/librosa/core/spectrum.py:257: UserWarning: n_fft=2048 is too large for input signal of length=282\n",
      "  warnings.warn(\n",
      "/home/rafli/anaconda3/envs/tf/lib/python3.11/site-packages/librosa/core/spectrum.py:257: UserWarning: n_fft=512 is too large for input signal of length=282\n",
      "  warnings.warn(\n",
      "/home/rafli/anaconda3/envs/tf/lib/python3.11/site-packages/librosa/core/spectrum.py:257: UserWarning: n_fft=512 is too large for input signal of length=141\n",
      "  warnings.warn(\n",
      "/home/rafli/anaconda3/envs/tf/lib/python3.11/site-packages/librosa/core/spectrum.py:257: UserWarning: n_fft=512 is too large for input signal of length=71\n",
      "  warnings.warn(\n",
      "/home/rafli/anaconda3/envs/tf/lib/python3.11/site-packages/librosa/core/spectrum.py:257: UserWarning: n_fft=512 is too large for input signal of length=36\n",
      "  warnings.warn(\n",
      "/home/rafli/anaconda3/envs/tf/lib/python3.11/site-packages/librosa/core/spectrum.py:257: UserWarning: n_fft=512 is too large for input signal of length=18\n",
      "  warnings.warn(\n"
     ]
    },
    {
     "name": "stdout",
     "output_type": "stream",
     "text": [
      "=====\n",
      "../data/testing_10/MR/New_MR_137.wav\n",
      "Predicted class: MR\n",
      "=====\n",
      "1/1 [==============================] - 0s 77ms/step\n"
     ]
    },
    {
     "name": "stderr",
     "output_type": "stream",
     "text": [
      "/home/rafli/anaconda3/envs/tf/lib/python3.11/site-packages/librosa/core/spectrum.py:257: UserWarning: n_fft=2048 is too large for input signal of length=266\n",
      "  warnings.warn(\n",
      "/home/rafli/anaconda3/envs/tf/lib/python3.11/site-packages/librosa/core/spectrum.py:257: UserWarning: n_fft=512 is too large for input signal of length=266\n",
      "  warnings.warn(\n",
      "/home/rafli/anaconda3/envs/tf/lib/python3.11/site-packages/librosa/core/spectrum.py:257: UserWarning: n_fft=512 is too large for input signal of length=133\n",
      "  warnings.warn(\n",
      "/home/rafli/anaconda3/envs/tf/lib/python3.11/site-packages/librosa/core/spectrum.py:257: UserWarning: n_fft=512 is too large for input signal of length=67\n",
      "  warnings.warn(\n",
      "/home/rafli/anaconda3/envs/tf/lib/python3.11/site-packages/librosa/core/spectrum.py:257: UserWarning: n_fft=512 is too large for input signal of length=34\n",
      "  warnings.warn(\n",
      "/home/rafli/anaconda3/envs/tf/lib/python3.11/site-packages/librosa/core/spectrum.py:257: UserWarning: n_fft=512 is too large for input signal of length=17\n",
      "  warnings.warn(\n"
     ]
    },
    {
     "name": "stdout",
     "output_type": "stream",
     "text": [
      "=====\n",
      "../data/testing_10/MR/New_MR_017.wav\n",
      "Predicted class: MVP\n",
      "=====\n",
      "1/1 [==============================] - 0s 96ms/step\n"
     ]
    },
    {
     "name": "stderr",
     "output_type": "stream",
     "text": [
      "/home/rafli/anaconda3/envs/tf/lib/python3.11/site-packages/librosa/core/spectrum.py:257: UserWarning: n_fft=2048 is too large for input signal of length=309\n",
      "  warnings.warn(\n",
      "/home/rafli/anaconda3/envs/tf/lib/python3.11/site-packages/librosa/core/spectrum.py:257: UserWarning: n_fft=512 is too large for input signal of length=309\n",
      "  warnings.warn(\n",
      "/home/rafli/anaconda3/envs/tf/lib/python3.11/site-packages/librosa/core/spectrum.py:257: UserWarning: n_fft=512 is too large for input signal of length=155\n",
      "  warnings.warn(\n",
      "/home/rafli/anaconda3/envs/tf/lib/python3.11/site-packages/librosa/core/spectrum.py:257: UserWarning: n_fft=512 is too large for input signal of length=78\n",
      "  warnings.warn(\n",
      "/home/rafli/anaconda3/envs/tf/lib/python3.11/site-packages/librosa/core/spectrum.py:257: UserWarning: n_fft=512 is too large for input signal of length=39\n",
      "  warnings.warn(\n",
      "/home/rafli/anaconda3/envs/tf/lib/python3.11/site-packages/librosa/core/spectrum.py:257: UserWarning: n_fft=512 is too large for input signal of length=20\n",
      "  warnings.warn(\n"
     ]
    },
    {
     "name": "stdout",
     "output_type": "stream",
     "text": [
      "=====\n",
      "../data/testing_10/MR/New_MR_038.wav\n",
      "Predicted class: MS\n",
      "=====\n",
      "1/1 [==============================] - 0s 82ms/step\n"
     ]
    },
    {
     "name": "stderr",
     "output_type": "stream",
     "text": [
      "/home/rafli/anaconda3/envs/tf/lib/python3.11/site-packages/librosa/core/spectrum.py:257: UserWarning: n_fft=2048 is too large for input signal of length=287\n",
      "  warnings.warn(\n",
      "/home/rafli/anaconda3/envs/tf/lib/python3.11/site-packages/librosa/core/spectrum.py:257: UserWarning: n_fft=512 is too large for input signal of length=287\n",
      "  warnings.warn(\n",
      "/home/rafli/anaconda3/envs/tf/lib/python3.11/site-packages/librosa/core/spectrum.py:257: UserWarning: n_fft=512 is too large for input signal of length=144\n",
      "  warnings.warn(\n",
      "/home/rafli/anaconda3/envs/tf/lib/python3.11/site-packages/librosa/core/spectrum.py:257: UserWarning: n_fft=512 is too large for input signal of length=72\n",
      "  warnings.warn(\n",
      "/home/rafli/anaconda3/envs/tf/lib/python3.11/site-packages/librosa/core/spectrum.py:257: UserWarning: n_fft=512 is too large for input signal of length=36\n",
      "  warnings.warn(\n",
      "/home/rafli/anaconda3/envs/tf/lib/python3.11/site-packages/librosa/core/spectrum.py:257: UserWarning: n_fft=512 is too large for input signal of length=18\n",
      "  warnings.warn(\n"
     ]
    },
    {
     "name": "stdout",
     "output_type": "stream",
     "text": [
      "=====\n",
      "../data/testing_10/MR/New_MR_121.wav\n",
      "Predicted class: MR\n",
      "=====\n",
      "1/1 [==============================] - 0s 90ms/step\n"
     ]
    },
    {
     "name": "stderr",
     "output_type": "stream",
     "text": [
      "/home/rafli/anaconda3/envs/tf/lib/python3.11/site-packages/librosa/core/spectrum.py:257: UserWarning: n_fft=2048 is too large for input signal of length=385\n",
      "  warnings.warn(\n",
      "/home/rafli/anaconda3/envs/tf/lib/python3.11/site-packages/librosa/core/spectrum.py:257: UserWarning: n_fft=512 is too large for input signal of length=385\n",
      "  warnings.warn(\n",
      "/home/rafli/anaconda3/envs/tf/lib/python3.11/site-packages/librosa/core/spectrum.py:257: UserWarning: n_fft=512 is too large for input signal of length=193\n",
      "  warnings.warn(\n",
      "/home/rafli/anaconda3/envs/tf/lib/python3.11/site-packages/librosa/core/spectrum.py:257: UserWarning: n_fft=512 is too large for input signal of length=97\n",
      "  warnings.warn(\n",
      "/home/rafli/anaconda3/envs/tf/lib/python3.11/site-packages/librosa/core/spectrum.py:257: UserWarning: n_fft=512 is too large for input signal of length=49\n",
      "  warnings.warn(\n",
      "/home/rafli/anaconda3/envs/tf/lib/python3.11/site-packages/librosa/core/spectrum.py:257: UserWarning: n_fft=512 is too large for input signal of length=25\n",
      "  warnings.warn(\n"
     ]
    },
    {
     "name": "stdout",
     "output_type": "stream",
     "text": [
      "=====\n",
      "../data/testing_10/MR/New_MR_094.wav\n",
      "Predicted class: MVP\n",
      "=====\n",
      "\n",
      "Processing: AS\n",
      "1/1 [==============================] - 0s 78ms/step\n"
     ]
    },
    {
     "name": "stderr",
     "output_type": "stream",
     "text": [
      "/home/rafli/anaconda3/envs/tf/lib/python3.11/site-packages/librosa/core/spectrum.py:257: UserWarning: n_fft=2048 is too large for input signal of length=307\n",
      "  warnings.warn(\n",
      "/home/rafli/anaconda3/envs/tf/lib/python3.11/site-packages/librosa/core/spectrum.py:257: UserWarning: n_fft=512 is too large for input signal of length=307\n",
      "  warnings.warn(\n",
      "/home/rafli/anaconda3/envs/tf/lib/python3.11/site-packages/librosa/core/spectrum.py:257: UserWarning: n_fft=512 is too large for input signal of length=154\n",
      "  warnings.warn(\n",
      "/home/rafli/anaconda3/envs/tf/lib/python3.11/site-packages/librosa/core/spectrum.py:257: UserWarning: n_fft=512 is too large for input signal of length=77\n",
      "  warnings.warn(\n",
      "/home/rafli/anaconda3/envs/tf/lib/python3.11/site-packages/librosa/core/spectrum.py:257: UserWarning: n_fft=512 is too large for input signal of length=39\n",
      "  warnings.warn(\n",
      "/home/rafli/anaconda3/envs/tf/lib/python3.11/site-packages/librosa/core/spectrum.py:257: UserWarning: n_fft=512 is too large for input signal of length=20\n",
      "  warnings.warn(\n"
     ]
    },
    {
     "name": "stdout",
     "output_type": "stream",
     "text": [
      "=====\n",
      "../data/testing_10/AS/New_AS_160.wav\n",
      "Predicted class: AS\n",
      "=====\n",
      "1/1 [==============================] - 0s 92ms/step\n"
     ]
    },
    {
     "name": "stderr",
     "output_type": "stream",
     "text": [
      "/home/rafli/anaconda3/envs/tf/lib/python3.11/site-packages/librosa/core/spectrum.py:257: UserWarning: n_fft=2048 is too large for input signal of length=337\n",
      "  warnings.warn(\n",
      "/home/rafli/anaconda3/envs/tf/lib/python3.11/site-packages/librosa/core/spectrum.py:257: UserWarning: n_fft=512 is too large for input signal of length=337\n",
      "  warnings.warn(\n",
      "/home/rafli/anaconda3/envs/tf/lib/python3.11/site-packages/librosa/core/spectrum.py:257: UserWarning: n_fft=512 is too large for input signal of length=169\n",
      "  warnings.warn(\n",
      "/home/rafli/anaconda3/envs/tf/lib/python3.11/site-packages/librosa/core/spectrum.py:257: UserWarning: n_fft=512 is too large for input signal of length=85\n",
      "  warnings.warn(\n",
      "/home/rafli/anaconda3/envs/tf/lib/python3.11/site-packages/librosa/core/spectrum.py:257: UserWarning: n_fft=512 is too large for input signal of length=43\n",
      "  warnings.warn(\n",
      "/home/rafli/anaconda3/envs/tf/lib/python3.11/site-packages/librosa/core/spectrum.py:257: UserWarning: n_fft=512 is too large for input signal of length=22\n",
      "  warnings.warn(\n"
     ]
    },
    {
     "name": "stdout",
     "output_type": "stream",
     "text": [
      "=====\n",
      "../data/testing_10/AS/New_AS_082.wav\n",
      "Predicted class: AS\n",
      "=====\n",
      "1/1 [==============================] - 0s 87ms/step\n"
     ]
    },
    {
     "name": "stderr",
     "output_type": "stream",
     "text": [
      "/home/rafli/anaconda3/envs/tf/lib/python3.11/site-packages/librosa/core/spectrum.py:257: UserWarning: n_fft=2048 is too large for input signal of length=336\n",
      "  warnings.warn(\n",
      "/home/rafli/anaconda3/envs/tf/lib/python3.11/site-packages/librosa/core/spectrum.py:257: UserWarning: n_fft=512 is too large for input signal of length=336\n",
      "  warnings.warn(\n",
      "/home/rafli/anaconda3/envs/tf/lib/python3.11/site-packages/librosa/core/spectrum.py:257: UserWarning: n_fft=512 is too large for input signal of length=168\n",
      "  warnings.warn(\n",
      "/home/rafli/anaconda3/envs/tf/lib/python3.11/site-packages/librosa/core/spectrum.py:257: UserWarning: n_fft=512 is too large for input signal of length=84\n",
      "  warnings.warn(\n",
      "/home/rafli/anaconda3/envs/tf/lib/python3.11/site-packages/librosa/core/spectrum.py:257: UserWarning: n_fft=512 is too large for input signal of length=42\n",
      "  warnings.warn(\n",
      "/home/rafli/anaconda3/envs/tf/lib/python3.11/site-packages/librosa/core/spectrum.py:257: UserWarning: n_fft=512 is too large for input signal of length=21\n",
      "  warnings.warn(\n"
     ]
    },
    {
     "name": "stdout",
     "output_type": "stream",
     "text": [
      "=====\n",
      "../data/testing_10/AS/New_AS_086.wav\n",
      "Predicted class: AS\n",
      "=====\n",
      "1/1 [==============================] - 0s 87ms/step\n"
     ]
    },
    {
     "name": "stderr",
     "output_type": "stream",
     "text": [
      "/home/rafli/anaconda3/envs/tf/lib/python3.11/site-packages/librosa/core/spectrum.py:257: UserWarning: n_fft=2048 is too large for input signal of length=363\n",
      "  warnings.warn(\n",
      "/home/rafli/anaconda3/envs/tf/lib/python3.11/site-packages/librosa/core/spectrum.py:257: UserWarning: n_fft=512 is too large for input signal of length=363\n",
      "  warnings.warn(\n",
      "/home/rafli/anaconda3/envs/tf/lib/python3.11/site-packages/librosa/core/spectrum.py:257: UserWarning: n_fft=512 is too large for input signal of length=182\n",
      "  warnings.warn(\n",
      "/home/rafli/anaconda3/envs/tf/lib/python3.11/site-packages/librosa/core/spectrum.py:257: UserWarning: n_fft=512 is too large for input signal of length=91\n",
      "  warnings.warn(\n",
      "/home/rafli/anaconda3/envs/tf/lib/python3.11/site-packages/librosa/core/spectrum.py:257: UserWarning: n_fft=512 is too large for input signal of length=46\n",
      "  warnings.warn(\n",
      "/home/rafli/anaconda3/envs/tf/lib/python3.11/site-packages/librosa/core/spectrum.py:257: UserWarning: n_fft=512 is too large for input signal of length=23\n",
      "  warnings.warn(\n"
     ]
    },
    {
     "name": "stdout",
     "output_type": "stream",
     "text": [
      "=====\n",
      "../data/testing_10/AS/New_AS_024.wav\n",
      "Predicted class: AS\n",
      "=====\n",
      "1/1 [==============================] - 0s 107ms/step\n"
     ]
    },
    {
     "name": "stderr",
     "output_type": "stream",
     "text": [
      "/home/rafli/anaconda3/envs/tf/lib/python3.11/site-packages/librosa/core/spectrum.py:257: UserWarning: n_fft=2048 is too large for input signal of length=339\n",
      "  warnings.warn(\n",
      "/home/rafli/anaconda3/envs/tf/lib/python3.11/site-packages/librosa/core/spectrum.py:257: UserWarning: n_fft=512 is too large for input signal of length=339\n",
      "  warnings.warn(\n",
      "/home/rafli/anaconda3/envs/tf/lib/python3.11/site-packages/librosa/core/spectrum.py:257: UserWarning: n_fft=512 is too large for input signal of length=170\n",
      "  warnings.warn(\n",
      "/home/rafli/anaconda3/envs/tf/lib/python3.11/site-packages/librosa/core/spectrum.py:257: UserWarning: n_fft=512 is too large for input signal of length=85\n",
      "  warnings.warn(\n",
      "/home/rafli/anaconda3/envs/tf/lib/python3.11/site-packages/librosa/core/spectrum.py:257: UserWarning: n_fft=512 is too large for input signal of length=43\n",
      "  warnings.warn(\n",
      "/home/rafli/anaconda3/envs/tf/lib/python3.11/site-packages/librosa/core/spectrum.py:257: UserWarning: n_fft=512 is too large for input signal of length=22\n",
      "  warnings.warn(\n"
     ]
    },
    {
     "name": "stdout",
     "output_type": "stream",
     "text": [
      "=====\n",
      "../data/testing_10/AS/New_AS_110.wav\n",
      "Predicted class: AS\n",
      "=====\n",
      "1/1 [==============================] - 0s 91ms/step\n"
     ]
    },
    {
     "name": "stderr",
     "output_type": "stream",
     "text": [
      "/home/rafli/anaconda3/envs/tf/lib/python3.11/site-packages/librosa/core/spectrum.py:257: UserWarning: n_fft=2048 is too large for input signal of length=338\n",
      "  warnings.warn(\n",
      "/home/rafli/anaconda3/envs/tf/lib/python3.11/site-packages/librosa/core/spectrum.py:257: UserWarning: n_fft=512 is too large for input signal of length=338\n",
      "  warnings.warn(\n",
      "/home/rafli/anaconda3/envs/tf/lib/python3.11/site-packages/librosa/core/spectrum.py:257: UserWarning: n_fft=512 is too large for input signal of length=169\n",
      "  warnings.warn(\n",
      "/home/rafli/anaconda3/envs/tf/lib/python3.11/site-packages/librosa/core/spectrum.py:257: UserWarning: n_fft=512 is too large for input signal of length=85\n",
      "  warnings.warn(\n",
      "/home/rafli/anaconda3/envs/tf/lib/python3.11/site-packages/librosa/core/spectrum.py:257: UserWarning: n_fft=512 is too large for input signal of length=43\n",
      "  warnings.warn(\n",
      "/home/rafli/anaconda3/envs/tf/lib/python3.11/site-packages/librosa/core/spectrum.py:257: UserWarning: n_fft=512 is too large for input signal of length=22\n",
      "  warnings.warn(\n"
     ]
    },
    {
     "name": "stdout",
     "output_type": "stream",
     "text": [
      "=====\n",
      "../data/testing_10/AS/New_AS_033.wav\n",
      "Predicted class: AS\n",
      "=====\n",
      "1/1 [==============================] - 0s 87ms/step\n"
     ]
    },
    {
     "name": "stderr",
     "output_type": "stream",
     "text": [
      "/home/rafli/anaconda3/envs/tf/lib/python3.11/site-packages/librosa/core/spectrum.py:257: UserWarning: n_fft=2048 is too large for input signal of length=337\n",
      "  warnings.warn(\n",
      "/home/rafli/anaconda3/envs/tf/lib/python3.11/site-packages/librosa/core/spectrum.py:257: UserWarning: n_fft=512 is too large for input signal of length=337\n",
      "  warnings.warn(\n",
      "/home/rafli/anaconda3/envs/tf/lib/python3.11/site-packages/librosa/core/spectrum.py:257: UserWarning: n_fft=512 is too large for input signal of length=169\n",
      "  warnings.warn(\n",
      "/home/rafli/anaconda3/envs/tf/lib/python3.11/site-packages/librosa/core/spectrum.py:257: UserWarning: n_fft=512 is too large for input signal of length=85\n",
      "  warnings.warn(\n",
      "/home/rafli/anaconda3/envs/tf/lib/python3.11/site-packages/librosa/core/spectrum.py:257: UserWarning: n_fft=512 is too large for input signal of length=43\n",
      "  warnings.warn(\n",
      "/home/rafli/anaconda3/envs/tf/lib/python3.11/site-packages/librosa/core/spectrum.py:257: UserWarning: n_fft=512 is too large for input signal of length=22\n",
      "  warnings.warn(\n"
     ]
    },
    {
     "name": "stdout",
     "output_type": "stream",
     "text": [
      "=====\n",
      "../data/testing_10/AS/New_AS_019.wav\n",
      "Predicted class: AS\n",
      "=====\n",
      "1/1 [==============================] - 0s 85ms/step\n"
     ]
    },
    {
     "name": "stderr",
     "output_type": "stream",
     "text": [
      "/home/rafli/anaconda3/envs/tf/lib/python3.11/site-packages/librosa/core/spectrum.py:257: UserWarning: n_fft=2048 is too large for input signal of length=385\n",
      "  warnings.warn(\n",
      "/home/rafli/anaconda3/envs/tf/lib/python3.11/site-packages/librosa/core/spectrum.py:257: UserWarning: n_fft=512 is too large for input signal of length=385\n",
      "  warnings.warn(\n",
      "/home/rafli/anaconda3/envs/tf/lib/python3.11/site-packages/librosa/core/spectrum.py:257: UserWarning: n_fft=512 is too large for input signal of length=193\n",
      "  warnings.warn(\n",
      "/home/rafli/anaconda3/envs/tf/lib/python3.11/site-packages/librosa/core/spectrum.py:257: UserWarning: n_fft=512 is too large for input signal of length=97\n",
      "  warnings.warn(\n",
      "/home/rafli/anaconda3/envs/tf/lib/python3.11/site-packages/librosa/core/spectrum.py:257: UserWarning: n_fft=512 is too large for input signal of length=49\n",
      "  warnings.warn(\n",
      "/home/rafli/anaconda3/envs/tf/lib/python3.11/site-packages/librosa/core/spectrum.py:257: UserWarning: n_fft=512 is too large for input signal of length=25\n",
      "  warnings.warn(\n"
     ]
    },
    {
     "name": "stdout",
     "output_type": "stream",
     "text": [
      "=====\n",
      "../data/testing_10/AS/New_AS_147.wav\n",
      "Predicted class: AS\n",
      "=====\n",
      "1/1 [==============================] - 0s 95ms/step\n"
     ]
    },
    {
     "name": "stderr",
     "output_type": "stream",
     "text": [
      "/home/rafli/anaconda3/envs/tf/lib/python3.11/site-packages/librosa/core/spectrum.py:257: UserWarning: n_fft=2048 is too large for input signal of length=385\n",
      "  warnings.warn(\n",
      "/home/rafli/anaconda3/envs/tf/lib/python3.11/site-packages/librosa/core/spectrum.py:257: UserWarning: n_fft=512 is too large for input signal of length=385\n",
      "  warnings.warn(\n",
      "/home/rafli/anaconda3/envs/tf/lib/python3.11/site-packages/librosa/core/spectrum.py:257: UserWarning: n_fft=512 is too large for input signal of length=193\n",
      "  warnings.warn(\n",
      "/home/rafli/anaconda3/envs/tf/lib/python3.11/site-packages/librosa/core/spectrum.py:257: UserWarning: n_fft=512 is too large for input signal of length=97\n",
      "  warnings.warn(\n",
      "/home/rafli/anaconda3/envs/tf/lib/python3.11/site-packages/librosa/core/spectrum.py:257: UserWarning: n_fft=512 is too large for input signal of length=49\n",
      "  warnings.warn(\n",
      "/home/rafli/anaconda3/envs/tf/lib/python3.11/site-packages/librosa/core/spectrum.py:257: UserWarning: n_fft=512 is too large for input signal of length=25\n",
      "  warnings.warn(\n"
     ]
    },
    {
     "name": "stdout",
     "output_type": "stream",
     "text": [
      "=====\n",
      "../data/testing_10/AS/New_AS_150.wav\n",
      "Predicted class: AS\n",
      "=====\n",
      "1/1 [==============================] - 0s 82ms/step\n"
     ]
    },
    {
     "name": "stderr",
     "output_type": "stream",
     "text": [
      "/home/rafli/anaconda3/envs/tf/lib/python3.11/site-packages/librosa/core/spectrum.py:257: UserWarning: n_fft=2048 is too large for input signal of length=375\n",
      "  warnings.warn(\n",
      "/home/rafli/anaconda3/envs/tf/lib/python3.11/site-packages/librosa/core/spectrum.py:257: UserWarning: n_fft=512 is too large for input signal of length=375\n",
      "  warnings.warn(\n",
      "/home/rafli/anaconda3/envs/tf/lib/python3.11/site-packages/librosa/core/spectrum.py:257: UserWarning: n_fft=512 is too large for input signal of length=188\n",
      "  warnings.warn(\n",
      "/home/rafli/anaconda3/envs/tf/lib/python3.11/site-packages/librosa/core/spectrum.py:257: UserWarning: n_fft=512 is too large for input signal of length=94\n",
      "  warnings.warn(\n",
      "/home/rafli/anaconda3/envs/tf/lib/python3.11/site-packages/librosa/core/spectrum.py:257: UserWarning: n_fft=512 is too large for input signal of length=47\n",
      "  warnings.warn(\n",
      "/home/rafli/anaconda3/envs/tf/lib/python3.11/site-packages/librosa/core/spectrum.py:257: UserWarning: n_fft=512 is too large for input signal of length=24\n",
      "  warnings.warn(\n"
     ]
    },
    {
     "name": "stdout",
     "output_type": "stream",
     "text": [
      "=====\n",
      "../data/testing_10/AS/New_AS_062.wav\n",
      "Predicted class: AS\n",
      "=====\n",
      "1/1 [==============================] - 0s 98ms/step\n"
     ]
    },
    {
     "name": "stderr",
     "output_type": "stream",
     "text": [
      "/home/rafli/anaconda3/envs/tf/lib/python3.11/site-packages/librosa/core/spectrum.py:257: UserWarning: n_fft=2048 is too large for input signal of length=306\n",
      "  warnings.warn(\n",
      "/home/rafli/anaconda3/envs/tf/lib/python3.11/site-packages/librosa/core/spectrum.py:257: UserWarning: n_fft=512 is too large for input signal of length=306\n",
      "  warnings.warn(\n",
      "/home/rafli/anaconda3/envs/tf/lib/python3.11/site-packages/librosa/core/spectrum.py:257: UserWarning: n_fft=512 is too large for input signal of length=153\n",
      "  warnings.warn(\n",
      "/home/rafli/anaconda3/envs/tf/lib/python3.11/site-packages/librosa/core/spectrum.py:257: UserWarning: n_fft=512 is too large for input signal of length=77\n",
      "  warnings.warn(\n",
      "/home/rafli/anaconda3/envs/tf/lib/python3.11/site-packages/librosa/core/spectrum.py:257: UserWarning: n_fft=512 is too large for input signal of length=39\n",
      "  warnings.warn(\n",
      "/home/rafli/anaconda3/envs/tf/lib/python3.11/site-packages/librosa/core/spectrum.py:257: UserWarning: n_fft=512 is too large for input signal of length=20\n",
      "  warnings.warn(\n"
     ]
    },
    {
     "name": "stdout",
     "output_type": "stream",
     "text": [
      "=====\n",
      "../data/testing_10/AS/New_AS_137.wav\n",
      "Predicted class: AS\n",
      "=====\n",
      "1/1 [==============================] - 0s 77ms/step\n"
     ]
    },
    {
     "name": "stderr",
     "output_type": "stream",
     "text": [
      "/home/rafli/anaconda3/envs/tf/lib/python3.11/site-packages/librosa/core/spectrum.py:257: UserWarning: n_fft=2048 is too large for input signal of length=376\n",
      "  warnings.warn(\n",
      "/home/rafli/anaconda3/envs/tf/lib/python3.11/site-packages/librosa/core/spectrum.py:257: UserWarning: n_fft=512 is too large for input signal of length=376\n",
      "  warnings.warn(\n",
      "/home/rafli/anaconda3/envs/tf/lib/python3.11/site-packages/librosa/core/spectrum.py:257: UserWarning: n_fft=512 is too large for input signal of length=188\n",
      "  warnings.warn(\n",
      "/home/rafli/anaconda3/envs/tf/lib/python3.11/site-packages/librosa/core/spectrum.py:257: UserWarning: n_fft=512 is too large for input signal of length=94\n",
      "  warnings.warn(\n",
      "/home/rafli/anaconda3/envs/tf/lib/python3.11/site-packages/librosa/core/spectrum.py:257: UserWarning: n_fft=512 is too large for input signal of length=47\n",
      "  warnings.warn(\n",
      "/home/rafli/anaconda3/envs/tf/lib/python3.11/site-packages/librosa/core/spectrum.py:257: UserWarning: n_fft=512 is too large for input signal of length=24\n",
      "  warnings.warn(\n"
     ]
    },
    {
     "name": "stdout",
     "output_type": "stream",
     "text": [
      "=====\n",
      "../data/testing_10/AS/New_AS_049.wav\n",
      "Predicted class: AS\n",
      "=====\n",
      "1/1 [==============================] - 0s 95ms/step\n"
     ]
    },
    {
     "name": "stderr",
     "output_type": "stream",
     "text": [
      "/home/rafli/anaconda3/envs/tf/lib/python3.11/site-packages/librosa/core/spectrum.py:257: UserWarning: n_fft=2048 is too large for input signal of length=378\n",
      "  warnings.warn(\n",
      "/home/rafli/anaconda3/envs/tf/lib/python3.11/site-packages/librosa/core/spectrum.py:257: UserWarning: n_fft=512 is too large for input signal of length=378\n",
      "  warnings.warn(\n",
      "/home/rafli/anaconda3/envs/tf/lib/python3.11/site-packages/librosa/core/spectrum.py:257: UserWarning: n_fft=512 is too large for input signal of length=189\n",
      "  warnings.warn(\n",
      "/home/rafli/anaconda3/envs/tf/lib/python3.11/site-packages/librosa/core/spectrum.py:257: UserWarning: n_fft=512 is too large for input signal of length=95\n",
      "  warnings.warn(\n",
      "/home/rafli/anaconda3/envs/tf/lib/python3.11/site-packages/librosa/core/spectrum.py:257: UserWarning: n_fft=512 is too large for input signal of length=48\n",
      "  warnings.warn(\n",
      "/home/rafli/anaconda3/envs/tf/lib/python3.11/site-packages/librosa/core/spectrum.py:257: UserWarning: n_fft=512 is too large for input signal of length=24\n",
      "  warnings.warn(\n"
     ]
    },
    {
     "name": "stdout",
     "output_type": "stream",
     "text": [
      "=====\n",
      "../data/testing_10/AS/New_AS_053.wav\n",
      "Predicted class: AS\n",
      "=====\n",
      "1/1 [==============================] - 0s 88ms/step\n"
     ]
    },
    {
     "name": "stderr",
     "output_type": "stream",
     "text": [
      "/home/rafli/anaconda3/envs/tf/lib/python3.11/site-packages/librosa/core/spectrum.py:257: UserWarning: n_fft=2048 is too large for input signal of length=333\n",
      "  warnings.warn(\n",
      "/home/rafli/anaconda3/envs/tf/lib/python3.11/site-packages/librosa/core/spectrum.py:257: UserWarning: n_fft=512 is too large for input signal of length=333\n",
      "  warnings.warn(\n",
      "/home/rafli/anaconda3/envs/tf/lib/python3.11/site-packages/librosa/core/spectrum.py:257: UserWarning: n_fft=512 is too large for input signal of length=167\n",
      "  warnings.warn(\n",
      "/home/rafli/anaconda3/envs/tf/lib/python3.11/site-packages/librosa/core/spectrum.py:257: UserWarning: n_fft=512 is too large for input signal of length=84\n",
      "  warnings.warn(\n",
      "/home/rafli/anaconda3/envs/tf/lib/python3.11/site-packages/librosa/core/spectrum.py:257: UserWarning: n_fft=512 is too large for input signal of length=42\n",
      "  warnings.warn(\n",
      "/home/rafli/anaconda3/envs/tf/lib/python3.11/site-packages/librosa/core/spectrum.py:257: UserWarning: n_fft=512 is too large for input signal of length=21\n",
      "  warnings.warn(\n"
     ]
    },
    {
     "name": "stdout",
     "output_type": "stream",
     "text": [
      "=====\n",
      "../data/testing_10/AS/New_AS_093.wav\n",
      "Predicted class: AS\n",
      "=====\n",
      "1/1 [==============================] - 0s 88ms/step\n"
     ]
    },
    {
     "name": "stderr",
     "output_type": "stream",
     "text": [
      "/home/rafli/anaconda3/envs/tf/lib/python3.11/site-packages/librosa/core/spectrum.py:257: UserWarning: n_fft=2048 is too large for input signal of length=385\n",
      "  warnings.warn(\n",
      "/home/rafli/anaconda3/envs/tf/lib/python3.11/site-packages/librosa/core/spectrum.py:257: UserWarning: n_fft=512 is too large for input signal of length=385\n",
      "  warnings.warn(\n",
      "/home/rafli/anaconda3/envs/tf/lib/python3.11/site-packages/librosa/core/spectrum.py:257: UserWarning: n_fft=512 is too large for input signal of length=193\n",
      "  warnings.warn(\n",
      "/home/rafli/anaconda3/envs/tf/lib/python3.11/site-packages/librosa/core/spectrum.py:257: UserWarning: n_fft=512 is too large for input signal of length=97\n",
      "  warnings.warn(\n",
      "/home/rafli/anaconda3/envs/tf/lib/python3.11/site-packages/librosa/core/spectrum.py:257: UserWarning: n_fft=512 is too large for input signal of length=49\n",
      "  warnings.warn(\n",
      "/home/rafli/anaconda3/envs/tf/lib/python3.11/site-packages/librosa/core/spectrum.py:257: UserWarning: n_fft=512 is too large for input signal of length=25\n",
      "  warnings.warn(\n"
     ]
    },
    {
     "name": "stdout",
     "output_type": "stream",
     "text": [
      "=====\n",
      "../data/testing_10/AS/New_AS_128.wav\n",
      "Predicted class: AS\n",
      "=====\n",
      "1/1 [==============================] - 0s 87ms/step\n"
     ]
    },
    {
     "name": "stderr",
     "output_type": "stream",
     "text": [
      "/home/rafli/anaconda3/envs/tf/lib/python3.11/site-packages/librosa/core/spectrum.py:257: UserWarning: n_fft=2048 is too large for input signal of length=380\n",
      "  warnings.warn(\n",
      "/home/rafli/anaconda3/envs/tf/lib/python3.11/site-packages/librosa/core/spectrum.py:257: UserWarning: n_fft=512 is too large for input signal of length=380\n",
      "  warnings.warn(\n",
      "/home/rafli/anaconda3/envs/tf/lib/python3.11/site-packages/librosa/core/spectrum.py:257: UserWarning: n_fft=512 is too large for input signal of length=190\n",
      "  warnings.warn(\n",
      "/home/rafli/anaconda3/envs/tf/lib/python3.11/site-packages/librosa/core/spectrum.py:257: UserWarning: n_fft=512 is too large for input signal of length=95\n",
      "  warnings.warn(\n",
      "/home/rafli/anaconda3/envs/tf/lib/python3.11/site-packages/librosa/core/spectrum.py:257: UserWarning: n_fft=512 is too large for input signal of length=48\n",
      "  warnings.warn(\n",
      "/home/rafli/anaconda3/envs/tf/lib/python3.11/site-packages/librosa/core/spectrum.py:257: UserWarning: n_fft=512 is too large for input signal of length=24\n",
      "  warnings.warn(\n"
     ]
    },
    {
     "name": "stdout",
     "output_type": "stream",
     "text": [
      "=====\n",
      "../data/testing_10/AS/New_AS_065.wav\n",
      "Predicted class: AS\n",
      "=====\n",
      "1/1 [==============================] - 0s 103ms/step\n"
     ]
    },
    {
     "name": "stderr",
     "output_type": "stream",
     "text": [
      "/home/rafli/anaconda3/envs/tf/lib/python3.11/site-packages/librosa/core/spectrum.py:257: UserWarning: n_fft=2048 is too large for input signal of length=335\n",
      "  warnings.warn(\n",
      "/home/rafli/anaconda3/envs/tf/lib/python3.11/site-packages/librosa/core/spectrum.py:257: UserWarning: n_fft=512 is too large for input signal of length=335\n",
      "  warnings.warn(\n",
      "/home/rafli/anaconda3/envs/tf/lib/python3.11/site-packages/librosa/core/spectrum.py:257: UserWarning: n_fft=512 is too large for input signal of length=168\n",
      "  warnings.warn(\n",
      "/home/rafli/anaconda3/envs/tf/lib/python3.11/site-packages/librosa/core/spectrum.py:257: UserWarning: n_fft=512 is too large for input signal of length=84\n",
      "  warnings.warn(\n",
      "/home/rafli/anaconda3/envs/tf/lib/python3.11/site-packages/librosa/core/spectrum.py:257: UserWarning: n_fft=512 is too large for input signal of length=42\n",
      "  warnings.warn(\n",
      "/home/rafli/anaconda3/envs/tf/lib/python3.11/site-packages/librosa/core/spectrum.py:257: UserWarning: n_fft=512 is too large for input signal of length=21\n",
      "  warnings.warn(\n"
     ]
    },
    {
     "name": "stdout",
     "output_type": "stream",
     "text": [
      "=====\n",
      "../data/testing_10/AS/New_AS_106.wav\n",
      "Predicted class: AS\n",
      "=====\n",
      "1/1 [==============================] - 0s 85ms/step\n"
     ]
    },
    {
     "name": "stderr",
     "output_type": "stream",
     "text": [
      "/home/rafli/anaconda3/envs/tf/lib/python3.11/site-packages/librosa/core/spectrum.py:257: UserWarning: n_fft=2048 is too large for input signal of length=338\n",
      "  warnings.warn(\n",
      "/home/rafli/anaconda3/envs/tf/lib/python3.11/site-packages/librosa/core/spectrum.py:257: UserWarning: n_fft=512 is too large for input signal of length=338\n",
      "  warnings.warn(\n",
      "/home/rafli/anaconda3/envs/tf/lib/python3.11/site-packages/librosa/core/spectrum.py:257: UserWarning: n_fft=512 is too large for input signal of length=169\n",
      "  warnings.warn(\n",
      "/home/rafli/anaconda3/envs/tf/lib/python3.11/site-packages/librosa/core/spectrum.py:257: UserWarning: n_fft=512 is too large for input signal of length=85\n",
      "  warnings.warn(\n",
      "/home/rafli/anaconda3/envs/tf/lib/python3.11/site-packages/librosa/core/spectrum.py:257: UserWarning: n_fft=512 is too large for input signal of length=43\n",
      "  warnings.warn(\n",
      "/home/rafli/anaconda3/envs/tf/lib/python3.11/site-packages/librosa/core/spectrum.py:257: UserWarning: n_fft=512 is too large for input signal of length=22\n",
      "  warnings.warn(\n"
     ]
    },
    {
     "name": "stdout",
     "output_type": "stream",
     "text": [
      "=====\n",
      "../data/testing_10/AS/New_AS_123.wav\n",
      "Predicted class: AS\n",
      "=====\n",
      "1/1 [==============================] - 0s 83ms/step\n"
     ]
    },
    {
     "name": "stderr",
     "output_type": "stream",
     "text": [
      "/home/rafli/anaconda3/envs/tf/lib/python3.11/site-packages/librosa/core/spectrum.py:257: UserWarning: n_fft=2048 is too large for input signal of length=306\n",
      "  warnings.warn(\n",
      "/home/rafli/anaconda3/envs/tf/lib/python3.11/site-packages/librosa/core/spectrum.py:257: UserWarning: n_fft=512 is too large for input signal of length=306\n",
      "  warnings.warn(\n",
      "/home/rafli/anaconda3/envs/tf/lib/python3.11/site-packages/librosa/core/spectrum.py:257: UserWarning: n_fft=512 is too large for input signal of length=153\n",
      "  warnings.warn(\n",
      "/home/rafli/anaconda3/envs/tf/lib/python3.11/site-packages/librosa/core/spectrum.py:257: UserWarning: n_fft=512 is too large for input signal of length=77\n",
      "  warnings.warn(\n",
      "/home/rafli/anaconda3/envs/tf/lib/python3.11/site-packages/librosa/core/spectrum.py:257: UserWarning: n_fft=512 is too large for input signal of length=39\n",
      "  warnings.warn(\n",
      "/home/rafli/anaconda3/envs/tf/lib/python3.11/site-packages/librosa/core/spectrum.py:257: UserWarning: n_fft=512 is too large for input signal of length=20\n",
      "  warnings.warn(\n"
     ]
    },
    {
     "name": "stdout",
     "output_type": "stream",
     "text": [
      "=====\n",
      "../data/testing_10/AS/New_AS_139.wav\n",
      "Predicted class: MR\n",
      "=====\n",
      "1/1 [==============================] - 0s 86ms/step\n",
      "=====\n",
      "../data/testing_10/AS/New_AS_009.wav\n",
      "Predicted class: AS\n",
      "=====\n"
     ]
    },
    {
     "name": "stderr",
     "output_type": "stream",
     "text": [
      "/home/rafli/anaconda3/envs/tf/lib/python3.11/site-packages/librosa/core/spectrum.py:257: UserWarning: n_fft=2048 is too large for input signal of length=337\n",
      "  warnings.warn(\n",
      "/home/rafli/anaconda3/envs/tf/lib/python3.11/site-packages/librosa/core/spectrum.py:257: UserWarning: n_fft=512 is too large for input signal of length=337\n",
      "  warnings.warn(\n",
      "/home/rafli/anaconda3/envs/tf/lib/python3.11/site-packages/librosa/core/spectrum.py:257: UserWarning: n_fft=512 is too large for input signal of length=169\n",
      "  warnings.warn(\n",
      "/home/rafli/anaconda3/envs/tf/lib/python3.11/site-packages/librosa/core/spectrum.py:257: UserWarning: n_fft=512 is too large for input signal of length=85\n",
      "  warnings.warn(\n",
      "/home/rafli/anaconda3/envs/tf/lib/python3.11/site-packages/librosa/core/spectrum.py:257: UserWarning: n_fft=512 is too large for input signal of length=43\n",
      "  warnings.warn(\n",
      "/home/rafli/anaconda3/envs/tf/lib/python3.11/site-packages/librosa/core/spectrum.py:257: UserWarning: n_fft=512 is too large for input signal of length=22\n",
      "  warnings.warn(\n"
     ]
    }
   ],
   "source": [
    "dataset_path = '../data/testing_10/'\n",
    "for i, (dirpath, dirnames, filenames) in enumerate(os.walk(dataset_path)):\n",
    "        # ensure we're processing a genre sub-folder level\n",
    "        if dirpath is not dataset_path:\n",
    "            semantic_label = dirpath.split(\"/\")[-1]\n",
    "            print(\"\\nProcessing: {}\".format(semantic_label))\n",
    "            for f in filenames:\n",
    "                file_path = os.path.join(dirpath, f)\n",
    "                predict(file_path)"
   ]
  }
 ],
 "metadata": {
  "kernelspec": {
   "display_name": "tf",
   "language": "python",
   "name": "python3"
  },
  "language_info": {
   "codemirror_mode": {
    "name": "ipython",
    "version": 3
   },
   "file_extension": ".py",
   "mimetype": "text/x-python",
   "name": "python",
   "nbconvert_exporter": "python",
   "pygments_lexer": "ipython3",
   "version": "3.11.5"
  },
  "orig_nbformat": 4
 },
 "nbformat": 4,
 "nbformat_minor": 2
}
