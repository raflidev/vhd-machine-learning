{
  "cells": [
    {
      "cell_type": "code",
      "execution_count": null,
      "metadata": {
        "id": "bL4yedFM7ZWw"
      },
      "outputs": [],
      "source": [
        "import librosa\n",
        "import pandas as pd\n",
        "import numpy as np\n",
        "import matplotlib.pyplot as plt\n",
        "import itertools\n",
        "import librosa.display\n",
        "%matplotlib inline\n",
        "import os\n",
        "import csv\n",
        "from sklearn.model_selection import train_test_split\n",
        "from sklearn.preprocessing import LabelEncoder, StandardScaler\n",
        "import keras\n",
        "import wave\n",
        "import tensorflow as tf"
      ]
    },
    {
      "cell_type": "code",
      "execution_count": null,
      "metadata": {
        "id": "jseDtA7u72Nl",
        "colab": {
          "base_uri": "https://localhost:8080/"
        },
        "outputId": "c6274358-dcb9-4231-ed8c-ec2efd576ed9"
      },
      "outputs": [
        {
          "output_type": "stream",
          "name": "stdout",
          "text": [
            "Drive already mounted at /content/gdrive/; to attempt to forcibly remount, call drive.mount(\"/content/gdrive/\", force_remount=True).\n"
          ]
        }
      ],
      "source": [
        "from google.colab import drive\n",
        "drive.mount('/content/gdrive/')"
      ]
    },
    {
      "cell_type": "code",
      "execution_count": null,
      "metadata": {
        "id": "ZeWpE8R78TZ6"
      },
      "outputs": [],
      "source": [
        "# header = 'filename'\n",
        "# for i in range(1, 41):\n",
        "#   header += f' mfcc{i}'\n",
        "# header += ' label'\n",
        "# header = header.split()"
      ]
    },
    {
      "cell_type": "code",
      "execution_count": null,
      "metadata": {
        "id": "-phRDZOd83U4"
      },
      "outputs": [],
      "source": [
        "# file = open('data.csv', 'w', newline='')\n",
        "# with file:\n",
        "#   writer = csv.writer(file)\n",
        "#   writer.writerow(header)\n",
        "# songname = f'/content/heartbeat-01a.wav'\n",
        "# y, sr = librosa.load(songname, mono=True, duration=3, sr=8000)\n",
        "# mfcc = librosa.feature.mfcc(y=y, sr=8000, n_mfcc=40, n_fft=2048, hop_length=512, n_mels=128)\n",
        "# to_append = f'Signal'\n",
        "# for e in mfcc:\n",
        "#   to_append += f' {np.mean(e.T, axis=0)}'\n",
        "# file = open('data.csv', 'a', newline='')\n",
        "# with file:\n",
        "#   writer = csv.writer(file)\n",
        "#   writer.writerow(to_append.split())"
      ]
    },
    {
      "cell_type": "code",
      "execution_count": null,
      "metadata": {
        "id": "JuhBaENY_Z3P",
        "colab": {
          "base_uri": "https://localhost:8080/"
        },
        "outputId": "5bc2ff3a-0c3c-4785-a698-ab0453c949f7"
      },
      "outputs": [
        {
          "output_type": "execute_result",
          "data": {
            "text/plain": [
              "48000"
            ]
          },
          "metadata": {},
          "execution_count": 35
        }
      ],
      "source": [
        "# wav1 = wave.open(songname)\n",
        "# wav1.getframerate()"
      ]
    },
    {
      "cell_type": "code",
      "execution_count": null,
      "metadata": {
        "id": "LCFmeINE_gbw"
      },
      "outputs": [],
      "source": [
        "# def preprocess(file_path, num_mfcc=20, n_fft=2048, hop_length=512):\n",
        "#   \"\"\"\n",
        "#   \"\"\"\n",
        "\n",
        "#   signal, sample_rate = librosa.load(file_path)\n",
        "#   mfccs = librosa.feature.mfcc(signal, sample_rate, n_mfcc=num_mfcc, n_fft=n_fft, hop_length=hop_length)\n",
        "#   return mfccs.T"
      ]
    },
    {
      "cell_type": "code",
      "execution_count": null,
      "metadata": {
        "id": "8JTtCYXmAqSI",
        "colab": {
          "base_uri": "https://localhost:8080/",
          "height": 110
        },
        "outputId": "1b744579-70c2-496a-98f6-e07782886bd0"
      },
      "outputs": [
        {
          "output_type": "execute_result",
          "data": {
            "text/plain": [
              "        mfcc1      mfcc2      mfcc3      mfcc4      mfcc5      mfcc6  \\\n",
              "0 -498.021362  66.468208  56.749767  43.715694  30.659632  20.085905   \n",
              "\n",
              "       mfcc7    mfcc8     mfcc9    mfcc10  ...    mfcc31    mfcc32    mfcc33  \\\n",
              "0  12.972437  8.84836  6.488301  4.739157  ... -1.937624 -1.916357 -2.041268   \n",
              "\n",
              "     mfcc34    mfcc35    mfcc36    mfcc37    mfcc38    mfcc39    mfcc40  \n",
              "0 -2.186869 -2.244253 -2.178258 -2.027719 -1.862408 -1.734782 -1.657939  \n",
              "\n",
              "[1 rows x 40 columns]"
            ],
            "text/html": [
              "\n",
              "  <div id=\"df-eb950ed5-aa44-4df2-b617-5e577e8bf205\">\n",
              "    <div class=\"colab-df-container\">\n",
              "      <div>\n",
              "<style scoped>\n",
              "    .dataframe tbody tr th:only-of-type {\n",
              "        vertical-align: middle;\n",
              "    }\n",
              "\n",
              "    .dataframe tbody tr th {\n",
              "        vertical-align: top;\n",
              "    }\n",
              "\n",
              "    .dataframe thead th {\n",
              "        text-align: right;\n",
              "    }\n",
              "</style>\n",
              "<table border=\"1\" class=\"dataframe\">\n",
              "  <thead>\n",
              "    <tr style=\"text-align: right;\">\n",
              "      <th></th>\n",
              "      <th>mfcc1</th>\n",
              "      <th>mfcc2</th>\n",
              "      <th>mfcc3</th>\n",
              "      <th>mfcc4</th>\n",
              "      <th>mfcc5</th>\n",
              "      <th>mfcc6</th>\n",
              "      <th>mfcc7</th>\n",
              "      <th>mfcc8</th>\n",
              "      <th>mfcc9</th>\n",
              "      <th>mfcc10</th>\n",
              "      <th>...</th>\n",
              "      <th>mfcc31</th>\n",
              "      <th>mfcc32</th>\n",
              "      <th>mfcc33</th>\n",
              "      <th>mfcc34</th>\n",
              "      <th>mfcc35</th>\n",
              "      <th>mfcc36</th>\n",
              "      <th>mfcc37</th>\n",
              "      <th>mfcc38</th>\n",
              "      <th>mfcc39</th>\n",
              "      <th>mfcc40</th>\n",
              "    </tr>\n",
              "  </thead>\n",
              "  <tbody>\n",
              "    <tr>\n",
              "      <th>0</th>\n",
              "      <td>-498.021362</td>\n",
              "      <td>66.468208</td>\n",
              "      <td>56.749767</td>\n",
              "      <td>43.715694</td>\n",
              "      <td>30.659632</td>\n",
              "      <td>20.085905</td>\n",
              "      <td>12.972437</td>\n",
              "      <td>8.84836</td>\n",
              "      <td>6.488301</td>\n",
              "      <td>4.739157</td>\n",
              "      <td>...</td>\n",
              "      <td>-1.937624</td>\n",
              "      <td>-1.916357</td>\n",
              "      <td>-2.041268</td>\n",
              "      <td>-2.186869</td>\n",
              "      <td>-2.244253</td>\n",
              "      <td>-2.178258</td>\n",
              "      <td>-2.027719</td>\n",
              "      <td>-1.862408</td>\n",
              "      <td>-1.734782</td>\n",
              "      <td>-1.657939</td>\n",
              "    </tr>\n",
              "  </tbody>\n",
              "</table>\n",
              "<p>1 rows × 40 columns</p>\n",
              "</div>\n",
              "      <button class=\"colab-df-convert\" onclick=\"convertToInteractive('df-eb950ed5-aa44-4df2-b617-5e577e8bf205')\"\n",
              "              title=\"Convert this dataframe to an interactive table.\"\n",
              "              style=\"display:none;\">\n",
              "        \n",
              "  <svg xmlns=\"http://www.w3.org/2000/svg\" height=\"24px\"viewBox=\"0 0 24 24\"\n",
              "       width=\"24px\">\n",
              "    <path d=\"M0 0h24v24H0V0z\" fill=\"none\"/>\n",
              "    <path d=\"M18.56 5.44l.94 2.06.94-2.06 2.06-.94-2.06-.94-.94-2.06-.94 2.06-2.06.94zm-11 1L8.5 8.5l.94-2.06 2.06-.94-2.06-.94L8.5 2.5l-.94 2.06-2.06.94zm10 10l.94 2.06.94-2.06 2.06-.94-2.06-.94-.94-2.06-.94 2.06-2.06.94z\"/><path d=\"M17.41 7.96l-1.37-1.37c-.4-.4-.92-.59-1.43-.59-.52 0-1.04.2-1.43.59L10.3 9.45l-7.72 7.72c-.78.78-.78 2.05 0 2.83L4 21.41c.39.39.9.59 1.41.59.51 0 1.02-.2 1.41-.59l7.78-7.78 2.81-2.81c.8-.78.8-2.07 0-2.86zM5.41 20L4 18.59l7.72-7.72 1.47 1.35L5.41 20z\"/>\n",
              "  </svg>\n",
              "      </button>\n",
              "      \n",
              "  <style>\n",
              "    .colab-df-container {\n",
              "      display:flex;\n",
              "      flex-wrap:wrap;\n",
              "      gap: 12px;\n",
              "    }\n",
              "\n",
              "    .colab-df-convert {\n",
              "      background-color: #E8F0FE;\n",
              "      border: none;\n",
              "      border-radius: 50%;\n",
              "      cursor: pointer;\n",
              "      display: none;\n",
              "      fill: #1967D2;\n",
              "      height: 32px;\n",
              "      padding: 0 0 0 0;\n",
              "      width: 32px;\n",
              "    }\n",
              "\n",
              "    .colab-df-convert:hover {\n",
              "      background-color: #E2EBFA;\n",
              "      box-shadow: 0px 1px 2px rgba(60, 64, 67, 0.3), 0px 1px 3px 1px rgba(60, 64, 67, 0.15);\n",
              "      fill: #174EA6;\n",
              "    }\n",
              "\n",
              "    [theme=dark] .colab-df-convert {\n",
              "      background-color: #3B4455;\n",
              "      fill: #D2E3FC;\n",
              "    }\n",
              "\n",
              "    [theme=dark] .colab-df-convert:hover {\n",
              "      background-color: #434B5C;\n",
              "      box-shadow: 0px 1px 3px 1px rgba(0, 0, 0, 0.15);\n",
              "      filter: drop-shadow(0px 1px 2px rgba(0, 0, 0, 0.3));\n",
              "      fill: #FFFFFF;\n",
              "    }\n",
              "  </style>\n",
              "\n",
              "      <script>\n",
              "        const buttonEl =\n",
              "          document.querySelector('#df-eb950ed5-aa44-4df2-b617-5e577e8bf205 button.colab-df-convert');\n",
              "        buttonEl.style.display =\n",
              "          google.colab.kernel.accessAllowed ? 'block' : 'none';\n",
              "\n",
              "        async function convertToInteractive(key) {\n",
              "          const element = document.querySelector('#df-eb950ed5-aa44-4df2-b617-5e577e8bf205');\n",
              "          const dataTable =\n",
              "            await google.colab.kernel.invokeFunction('convertToInteractive',\n",
              "                                                     [key], {});\n",
              "          if (!dataTable) return;\n",
              "\n",
              "          const docLinkHtml = 'Like what you see? Visit the ' +\n",
              "            '<a target=\"_blank\" href=https://colab.research.google.com/notebooks/data_table.ipynb>data table notebook</a>'\n",
              "            + ' to learn more about interactive tables.';\n",
              "          element.innerHTML = '';\n",
              "          dataTable['output_type'] = 'display_data';\n",
              "          await google.colab.output.renderOutput(dataTable, element);\n",
              "          const docLink = document.createElement('div');\n",
              "          docLink.innerHTML = docLinkHtml;\n",
              "          element.appendChild(docLink);\n",
              "        }\n",
              "      </script>\n",
              "    </div>\n",
              "  </div>\n",
              "  "
            ]
          },
          "metadata": {},
          "execution_count": 59
        }
      ],
      "source": [
        "# data = pd.read_csv('data.csv')\n",
        "# data = data.drop(['filename', 'label'], axis=1)\n",
        "# data.head()"
      ]
    },
    {
      "cell_type": "code",
      "execution_count": null,
      "metadata": {
        "id": "woO1kMjRA1qD",
        "colab": {
          "base_uri": "https://localhost:8080/"
        },
        "outputId": "10477d1c-eade-41e5-e376-a49b849e225b"
      },
      "outputs": [
        {
          "output_type": "execute_result",
          "data": {
            "text/plain": [
              "(1, 40, 1, 1)"
            ]
          },
          "metadata": {},
          "execution_count": 38
        }
      ],
      "source": [
        "scaler = StandardScaler()\n",
        "# X = np.array(data.iloc[:, :], dtype=float)\n",
        "# X = np.reshape(X, (X.shape[0], 40, 1, 1))\n",
        "# # print(X)\n",
        "# X.shape"
      ]
    },
    {
      "cell_type": "code",
      "execution_count": null,
      "metadata": {
        "id": "05mksQXBBcnj",
        "colab": {
          "base_uri": "https://localhost:8080/"
        },
        "outputId": "67be7860-60cd-406b-b987-2beebc868a18"
      },
      "outputs": [
        {
          "output_type": "stream",
          "name": "stdout",
          "text": [
            "[[1.2534349e-07 1.5231032e-02 1.3634328e-03 4.0865167e-08 9.8340535e-01]]\n"
          ]
        },
        {
          "output_type": "execute_result",
          "data": {
            "text/plain": [
              "(1, 5)"
            ]
          },
          "metadata": {},
          "execution_count": 39
        }
      ],
      "source": [
        "# interpreter = tf.lite.Interpreter(model_path=\"model.tflite\")\n",
        "# interpreter.allocate_tensors()\n",
        "\n",
        "# input_details = interpreter.get_input_details()\n",
        "# output_details = interpreter.get_output_details()\n",
        "\n",
        "# input_shape = input_details[0]['shape']\n",
        "# input_data = np.array(X, dtype=np.float32)\n",
        "# interpreter.set_tensor(input_details[0]['index'], input_data)\n",
        "\n",
        "# interpreter.invoke()\n",
        "\n",
        "# output_data = interpreter.get_tensor(output_details[0]['index'])\n",
        "# print(output_data)\n",
        "# output_data.shape"
      ]
    },
    {
      "cell_type": "code",
      "execution_count": null,
      "metadata": {
        "id": "w05Mc3Zzo40Q",
        "colab": {
          "base_uri": "https://localhost:8080/"
        },
        "outputId": "7b5d2d31-8853-4b91-8976-a56b4c4524cd"
      },
      "outputs": [
        {
          "output_type": "stream",
          "name": "stdout",
          "text": [
            "[{'name': 'conv2d_input', 'index': 0, 'shape': array([ 1, 40,  1,  1], dtype=int32), 'shape_signature': array([-1, 40,  1,  1], dtype=int32), 'dtype': <class 'numpy.float32'>, 'quantization': (0.0, 0), 'quantization_parameters': {'scales': array([], dtype=float32), 'zero_points': array([], dtype=int32), 'quantized_dimension': 0}, 'sparsity_parameters': {}}]\n",
            "[{'name': 'Identity', 'index': 20, 'shape': array([1, 5], dtype=int32), 'shape_signature': array([-1,  5], dtype=int32), 'dtype': <class 'numpy.float32'>, 'quantization': (0.0, 0), 'quantization_parameters': {'scales': array([], dtype=float32), 'zero_points': array([], dtype=int32), 'quantized_dimension': 0}, 'sparsity_parameters': {}}]\n"
          ]
        }
      ],
      "source": [
        "# print(input_details)\n",
        "# print(output_details)"
      ]
    },
    {
      "cell_type": "code",
      "execution_count": null,
      "metadata": {
        "id": "ZZVQERVkCes7",
        "colab": {
          "base_uri": "https://localhost:8080/"
        },
        "outputId": "2b80394e-69d7-4fa1-d3c5-4fb2f9d14303"
      },
      "outputs": [
        {
          "output_type": "execute_result",
          "data": {
            "text/plain": [
              "4"
            ]
          },
          "metadata": {},
          "execution_count": 41
        }
      ],
      "source": [
        "# np.argmax(output_data)"
      ]
    },
    {
      "cell_type": "code",
      "execution_count": null,
      "metadata": {
        "id": "VwANyydrFQV-",
        "colab": {
          "base_uri": "https://localhost:8080/"
        },
        "outputId": "7cc847a0-1efb-4d9b-c6da-d39bd41bdfd3"
      },
      "outputs": [
        {
          "output_type": "stream",
          "name": "stdout",
          "text": [
            "Prediksi Jantung: \n",
            "\n",
            "AS: 1.2534349025372649e-05%\n",
            "MR: 1.523103192448616%\n",
            "MS: 0.13634328497573733%\n",
            "MVP: 4.0865167250103696e-06%\n",
            "Normal: 98.3405351638794%\n"
          ]
        }
      ],
      "source": [
        "# print(\"Prediksi Jantung: \\n\")\n",
        "# print(\"AS: \"+str(output_data[0,0]*100)+\"%\")\n",
        "# print(\"MR: \"+str(output_data[0,1]*100)+\"%\")\n",
        "# print(\"MS: \"+str(output_data[0,2]*100)+\"%\")\n",
        "# print(\"MVP: \"+str(output_data[0,3]*100)+\"%\")\n",
        "# print(\"Normal: \"+str(output_data[0,4]*100)+\"%\")"
      ]
    },
    {
      "cell_type": "code",
      "execution_count": null,
      "metadata": {
        "id": "k6i4cCRGBvVW"
      },
      "outputs": [],
      "source": [
        "# plt.style.use('ggplot')\n",
        "\n",
        "# dic = {'Aortic Stenosis': output_data[0,0],\n",
        "#        'Mitral Regurgitation': output_data[0,1],\n",
        "#        'Mitral Stenosis': output_data[0,2],\n",
        "#        'Mitral Valve Prolapse': output_data[0,3],\n",
        "#        'Normal': output_data[0,4]}\n",
        "\n",
        "# # group together all elements in the dictionary whose value is less than 2\n",
        "# # name this group 'All the rest'\n",
        "# newdic={}\n",
        "# for key, group in itertools.groupby(dic, lambda k: 'Kategori Lain' if (dic[k]<0.01) else k):\n",
        "#      newdic[key] = sum([dic[k] for k in list(group)])   \n",
        "\n",
        "# labels = newdic.keys()\n",
        "# sizes = newdic.values()\n",
        "# fig, ax = plt.subplots(figsize=(12,8))\n",
        "# ax.pie(sizes, labels=labels, autopct='%1.2f%%', startangle=0)\n",
        "# ax.axis('equal')\n",
        "# plt.tight_layout()\n",
        "# plt.title(\"Prediksi Jantung\")\n",
        "# plt.show()"
      ]
    },
    {
      "cell_type": "code",
      "execution_count": null,
      "metadata": {
        "id": "M4Nv40uxRQLK"
      },
      "outputs": [],
      "source": [
        "from sklearn.svm import SVC  \n",
        "from sklearn.metrics import classification_report, confusion_matrix"
      ]
    },
    {
      "cell_type": "code",
      "execution_count": null,
      "metadata": {
        "id": "p30oRsLJIVEG",
        "colab": {
          "base_uri": "https://localhost:8080/",
          "height": 236
        },
        "outputId": "8eca48ab-f6df-44b1-9916-a33a17cbda6d"
      },
      "outputs": [
        {
          "output_type": "execute_result",
          "data": {
            "text/plain": [
              "         filename  chroma_stft      rmse  spectral_centroid  \\\n",
              "0  New_AS_001.wav     0.532519  0.158163         340.667541   \n",
              "1  New_AS_002.wav     0.534369  0.158338         339.195538   \n",
              "2  New_AS_003.wav     0.539327  0.158026         339.593619   \n",
              "3  New_AS_004.wav     0.532994  0.157684         334.603804   \n",
              "4  New_AS_005.wav     0.522509  0.155256         332.784894   \n",
              "\n",
              "   spectral_bandwidth     rolloff  zero_crossing_rate       mfcc1       mfcc2  \\\n",
              "0          436.372017  562.054713            0.027862 -395.073944  101.916969   \n",
              "1          449.269377  544.904375            0.027400 -392.596954  102.263245   \n",
              "2          445.402603  544.046858            0.026985 -395.947357  103.724045   \n",
              "3          443.271544  535.376409            0.028670 -395.410065  102.333733   \n",
              "4          433.666385  529.183231            0.027620 -398.008179  103.003098   \n",
              "\n",
              "       mfcc3  ...    mfcc12    mfcc13    mfcc14    mfcc15    mfcc16    mfcc17  \\\n",
              "0  60.079845  ...  0.301374  0.244905 -0.594042 -1.977559 -1.481203 -1.701962   \n",
              "1  55.993614  ...  1.115721  0.951022 -0.984761 -2.548201 -1.132616 -1.703537   \n",
              "2  56.769585  ...  0.366322  0.627108 -0.364678 -1.960979 -1.390954 -2.237176   \n",
              "3  57.058868  ...  0.046287  0.131367 -0.711598 -2.198510 -1.430536 -1.801373   \n",
              "4  57.432564  ... -0.250010 -0.241696 -0.561792 -2.151547 -1.528064 -1.446120   \n",
              "\n",
              "     mfcc18    mfcc19    mfcc20  label  \n",
              "0 -1.789857 -1.403314 -2.538552     AS  \n",
              "1 -1.859431 -0.697074 -2.358541     AS  \n",
              "2 -1.881434 -0.531128 -2.354584     AS  \n",
              "3 -1.563430 -0.394315 -1.946569     AS  \n",
              "4 -1.647285 -1.720251 -3.283127     AS  \n",
              "\n",
              "[5 rows x 28 columns]"
            ],
            "text/html": [
              "\n",
              "  <div id=\"df-6b23ce4b-d5a3-4773-9565-7fc41b819680\">\n",
              "    <div class=\"colab-df-container\">\n",
              "      <div>\n",
              "<style scoped>\n",
              "    .dataframe tbody tr th:only-of-type {\n",
              "        vertical-align: middle;\n",
              "    }\n",
              "\n",
              "    .dataframe tbody tr th {\n",
              "        vertical-align: top;\n",
              "    }\n",
              "\n",
              "    .dataframe thead th {\n",
              "        text-align: right;\n",
              "    }\n",
              "</style>\n",
              "<table border=\"1\" class=\"dataframe\">\n",
              "  <thead>\n",
              "    <tr style=\"text-align: right;\">\n",
              "      <th></th>\n",
              "      <th>filename</th>\n",
              "      <th>chroma_stft</th>\n",
              "      <th>rmse</th>\n",
              "      <th>spectral_centroid</th>\n",
              "      <th>spectral_bandwidth</th>\n",
              "      <th>rolloff</th>\n",
              "      <th>zero_crossing_rate</th>\n",
              "      <th>mfcc1</th>\n",
              "      <th>mfcc2</th>\n",
              "      <th>mfcc3</th>\n",
              "      <th>...</th>\n",
              "      <th>mfcc12</th>\n",
              "      <th>mfcc13</th>\n",
              "      <th>mfcc14</th>\n",
              "      <th>mfcc15</th>\n",
              "      <th>mfcc16</th>\n",
              "      <th>mfcc17</th>\n",
              "      <th>mfcc18</th>\n",
              "      <th>mfcc19</th>\n",
              "      <th>mfcc20</th>\n",
              "      <th>label</th>\n",
              "    </tr>\n",
              "  </thead>\n",
              "  <tbody>\n",
              "    <tr>\n",
              "      <th>0</th>\n",
              "      <td>New_AS_001.wav</td>\n",
              "      <td>0.532519</td>\n",
              "      <td>0.158163</td>\n",
              "      <td>340.667541</td>\n",
              "      <td>436.372017</td>\n",
              "      <td>562.054713</td>\n",
              "      <td>0.027862</td>\n",
              "      <td>-395.073944</td>\n",
              "      <td>101.916969</td>\n",
              "      <td>60.079845</td>\n",
              "      <td>...</td>\n",
              "      <td>0.301374</td>\n",
              "      <td>0.244905</td>\n",
              "      <td>-0.594042</td>\n",
              "      <td>-1.977559</td>\n",
              "      <td>-1.481203</td>\n",
              "      <td>-1.701962</td>\n",
              "      <td>-1.789857</td>\n",
              "      <td>-1.403314</td>\n",
              "      <td>-2.538552</td>\n",
              "      <td>AS</td>\n",
              "    </tr>\n",
              "    <tr>\n",
              "      <th>1</th>\n",
              "      <td>New_AS_002.wav</td>\n",
              "      <td>0.534369</td>\n",
              "      <td>0.158338</td>\n",
              "      <td>339.195538</td>\n",
              "      <td>449.269377</td>\n",
              "      <td>544.904375</td>\n",
              "      <td>0.027400</td>\n",
              "      <td>-392.596954</td>\n",
              "      <td>102.263245</td>\n",
              "      <td>55.993614</td>\n",
              "      <td>...</td>\n",
              "      <td>1.115721</td>\n",
              "      <td>0.951022</td>\n",
              "      <td>-0.984761</td>\n",
              "      <td>-2.548201</td>\n",
              "      <td>-1.132616</td>\n",
              "      <td>-1.703537</td>\n",
              "      <td>-1.859431</td>\n",
              "      <td>-0.697074</td>\n",
              "      <td>-2.358541</td>\n",
              "      <td>AS</td>\n",
              "    </tr>\n",
              "    <tr>\n",
              "      <th>2</th>\n",
              "      <td>New_AS_003.wav</td>\n",
              "      <td>0.539327</td>\n",
              "      <td>0.158026</td>\n",
              "      <td>339.593619</td>\n",
              "      <td>445.402603</td>\n",
              "      <td>544.046858</td>\n",
              "      <td>0.026985</td>\n",
              "      <td>-395.947357</td>\n",
              "      <td>103.724045</td>\n",
              "      <td>56.769585</td>\n",
              "      <td>...</td>\n",
              "      <td>0.366322</td>\n",
              "      <td>0.627108</td>\n",
              "      <td>-0.364678</td>\n",
              "      <td>-1.960979</td>\n",
              "      <td>-1.390954</td>\n",
              "      <td>-2.237176</td>\n",
              "      <td>-1.881434</td>\n",
              "      <td>-0.531128</td>\n",
              "      <td>-2.354584</td>\n",
              "      <td>AS</td>\n",
              "    </tr>\n",
              "    <tr>\n",
              "      <th>3</th>\n",
              "      <td>New_AS_004.wav</td>\n",
              "      <td>0.532994</td>\n",
              "      <td>0.157684</td>\n",
              "      <td>334.603804</td>\n",
              "      <td>443.271544</td>\n",
              "      <td>535.376409</td>\n",
              "      <td>0.028670</td>\n",
              "      <td>-395.410065</td>\n",
              "      <td>102.333733</td>\n",
              "      <td>57.058868</td>\n",
              "      <td>...</td>\n",
              "      <td>0.046287</td>\n",
              "      <td>0.131367</td>\n",
              "      <td>-0.711598</td>\n",
              "      <td>-2.198510</td>\n",
              "      <td>-1.430536</td>\n",
              "      <td>-1.801373</td>\n",
              "      <td>-1.563430</td>\n",
              "      <td>-0.394315</td>\n",
              "      <td>-1.946569</td>\n",
              "      <td>AS</td>\n",
              "    </tr>\n",
              "    <tr>\n",
              "      <th>4</th>\n",
              "      <td>New_AS_005.wav</td>\n",
              "      <td>0.522509</td>\n",
              "      <td>0.155256</td>\n",
              "      <td>332.784894</td>\n",
              "      <td>433.666385</td>\n",
              "      <td>529.183231</td>\n",
              "      <td>0.027620</td>\n",
              "      <td>-398.008179</td>\n",
              "      <td>103.003098</td>\n",
              "      <td>57.432564</td>\n",
              "      <td>...</td>\n",
              "      <td>-0.250010</td>\n",
              "      <td>-0.241696</td>\n",
              "      <td>-0.561792</td>\n",
              "      <td>-2.151547</td>\n",
              "      <td>-1.528064</td>\n",
              "      <td>-1.446120</td>\n",
              "      <td>-1.647285</td>\n",
              "      <td>-1.720251</td>\n",
              "      <td>-3.283127</td>\n",
              "      <td>AS</td>\n",
              "    </tr>\n",
              "  </tbody>\n",
              "</table>\n",
              "<p>5 rows × 28 columns</p>\n",
              "</div>\n",
              "      <button class=\"colab-df-convert\" onclick=\"convertToInteractive('df-6b23ce4b-d5a3-4773-9565-7fc41b819680')\"\n",
              "              title=\"Convert this dataframe to an interactive table.\"\n",
              "              style=\"display:none;\">\n",
              "        \n",
              "  <svg xmlns=\"http://www.w3.org/2000/svg\" height=\"24px\"viewBox=\"0 0 24 24\"\n",
              "       width=\"24px\">\n",
              "    <path d=\"M0 0h24v24H0V0z\" fill=\"none\"/>\n",
              "    <path d=\"M18.56 5.44l.94 2.06.94-2.06 2.06-.94-2.06-.94-.94-2.06-.94 2.06-2.06.94zm-11 1L8.5 8.5l.94-2.06 2.06-.94-2.06-.94L8.5 2.5l-.94 2.06-2.06.94zm10 10l.94 2.06.94-2.06 2.06-.94-2.06-.94-.94-2.06-.94 2.06-2.06.94z\"/><path d=\"M17.41 7.96l-1.37-1.37c-.4-.4-.92-.59-1.43-.59-.52 0-1.04.2-1.43.59L10.3 9.45l-7.72 7.72c-.78.78-.78 2.05 0 2.83L4 21.41c.39.39.9.59 1.41.59.51 0 1.02-.2 1.41-.59l7.78-7.78 2.81-2.81c.8-.78.8-2.07 0-2.86zM5.41 20L4 18.59l7.72-7.72 1.47 1.35L5.41 20z\"/>\n",
              "  </svg>\n",
              "      </button>\n",
              "      \n",
              "  <style>\n",
              "    .colab-df-container {\n",
              "      display:flex;\n",
              "      flex-wrap:wrap;\n",
              "      gap: 12px;\n",
              "    }\n",
              "\n",
              "    .colab-df-convert {\n",
              "      background-color: #E8F0FE;\n",
              "      border: none;\n",
              "      border-radius: 50%;\n",
              "      cursor: pointer;\n",
              "      display: none;\n",
              "      fill: #1967D2;\n",
              "      height: 32px;\n",
              "      padding: 0 0 0 0;\n",
              "      width: 32px;\n",
              "    }\n",
              "\n",
              "    .colab-df-convert:hover {\n",
              "      background-color: #E2EBFA;\n",
              "      box-shadow: 0px 1px 2px rgba(60, 64, 67, 0.3), 0px 1px 3px 1px rgba(60, 64, 67, 0.15);\n",
              "      fill: #174EA6;\n",
              "    }\n",
              "\n",
              "    [theme=dark] .colab-df-convert {\n",
              "      background-color: #3B4455;\n",
              "      fill: #D2E3FC;\n",
              "    }\n",
              "\n",
              "    [theme=dark] .colab-df-convert:hover {\n",
              "      background-color: #434B5C;\n",
              "      box-shadow: 0px 1px 3px 1px rgba(0, 0, 0, 0.15);\n",
              "      filter: drop-shadow(0px 1px 2px rgba(0, 0, 0, 0.3));\n",
              "      fill: #FFFFFF;\n",
              "    }\n",
              "  </style>\n",
              "\n",
              "      <script>\n",
              "        const buttonEl =\n",
              "          document.querySelector('#df-6b23ce4b-d5a3-4773-9565-7fc41b819680 button.colab-df-convert');\n",
              "        buttonEl.style.display =\n",
              "          google.colab.kernel.accessAllowed ? 'block' : 'none';\n",
              "\n",
              "        async function convertToInteractive(key) {\n",
              "          const element = document.querySelector('#df-6b23ce4b-d5a3-4773-9565-7fc41b819680');\n",
              "          const dataTable =\n",
              "            await google.colab.kernel.invokeFunction('convertToInteractive',\n",
              "                                                     [key], {});\n",
              "          if (!dataTable) return;\n",
              "\n",
              "          const docLinkHtml = 'Like what you see? Visit the ' +\n",
              "            '<a target=\"_blank\" href=https://colab.research.google.com/notebooks/data_table.ipynb>data table notebook</a>'\n",
              "            + ' to learn more about interactive tables.';\n",
              "          element.innerHTML = '';\n",
              "          dataTable['output_type'] = 'display_data';\n",
              "          await google.colab.output.renderOutput(dataTable, element);\n",
              "          const docLink = document.createElement('div');\n",
              "          docLink.innerHTML = docLinkHtml;\n",
              "          element.appendChild(docLink);\n",
              "        }\n",
              "      </script>\n",
              "    </div>\n",
              "  </div>\n",
              "  "
            ]
          },
          "metadata": {},
          "execution_count": 45
        }
      ],
      "source": [
        "data = pd.read_csv('/content/gdrive/MyDrive/Dataset_HVD/data.csv')\n",
        "data.head()"
      ]
    },
    {
      "cell_type": "code",
      "execution_count": null,
      "metadata": {
        "id": "kC3YcACcRUw9",
        "colab": {
          "base_uri": "https://localhost:8080/"
        },
        "outputId": "95318c18-18fc-402c-f417-c0747db2756c"
      },
      "outputs": [
        {
          "output_type": "stream",
          "name": "stdout",
          "text": [
            "<class 'pandas.core.frame.DataFrame'>\n",
            "RangeIndex: 1000 entries, 0 to 999\n",
            "Data columns (total 28 columns):\n",
            " #   Column              Non-Null Count  Dtype  \n",
            "---  ------              --------------  -----  \n",
            " 0   filename            1000 non-null   object \n",
            " 1   chroma_stft         1000 non-null   float64\n",
            " 2   rmse                1000 non-null   float64\n",
            " 3   spectral_centroid   1000 non-null   float64\n",
            " 4   spectral_bandwidth  1000 non-null   float64\n",
            " 5   rolloff             1000 non-null   float64\n",
            " 6   zero_crossing_rate  1000 non-null   float64\n",
            " 7   mfcc1               1000 non-null   float64\n",
            " 8   mfcc2               1000 non-null   float64\n",
            " 9   mfcc3               1000 non-null   float64\n",
            " 10  mfcc4               1000 non-null   float64\n",
            " 11  mfcc5               1000 non-null   float64\n",
            " 12  mfcc6               1000 non-null   float64\n",
            " 13  mfcc7               1000 non-null   float64\n",
            " 14  mfcc8               1000 non-null   float64\n",
            " 15  mfcc9               1000 non-null   float64\n",
            " 16  mfcc10              1000 non-null   float64\n",
            " 17  mfcc11              1000 non-null   float64\n",
            " 18  mfcc12              1000 non-null   float64\n",
            " 19  mfcc13              1000 non-null   float64\n",
            " 20  mfcc14              1000 non-null   float64\n",
            " 21  mfcc15              1000 non-null   float64\n",
            " 22  mfcc16              1000 non-null   float64\n",
            " 23  mfcc17              1000 non-null   float64\n",
            " 24  mfcc18              1000 non-null   float64\n",
            " 25  mfcc19              1000 non-null   float64\n",
            " 26  mfcc20              1000 non-null   float64\n",
            " 27  label               1000 non-null   object \n",
            "dtypes: float64(26), object(2)\n",
            "memory usage: 218.9+ KB\n"
          ]
        }
      ],
      "source": [
        "data.info()"
      ]
    },
    {
      "cell_type": "code",
      "execution_count": null,
      "metadata": {
        "id": "kcYUjmLERDPF"
      },
      "outputs": [],
      "source": [
        "X = scaler.fit_transform(data.iloc[:, 7:-1])\n",
        "y = data.iloc[:, -1]"
      ]
    },
    {
      "cell_type": "code",
      "execution_count": null,
      "metadata": {
        "id": "MFH72EbnR0PM",
        "colab": {
          "base_uri": "https://localhost:8080/"
        },
        "outputId": "42908b11-e1c6-4e79-d232-96b90f1e7aba"
      },
      "outputs": [
        {
          "output_type": "execute_result",
          "data": {
            "text/plain": [
              "array([[ 1.64173956,  0.44493528,  0.61035895, ...,  0.15931573,\n",
              "         0.05839942, -0.11068757],\n",
              "       [ 1.6996639 ,  0.45694029,  0.36894314, ...,  0.12140232,\n",
              "         0.43088161, -0.01753243],\n",
              "       [ 1.62131482,  0.50758475,  0.41478772, ...,  0.10941179,\n",
              "         0.51840385, -0.01548455],\n",
              "       ...,\n",
              "       [-0.10306209, -0.1580842 ,  0.87299322, ..., -0.18373122,\n",
              "        -0.38416711, -0.41585439],\n",
              "       [-0.02487715, -0.22669821,  0.81202676, ..., -0.11494275,\n",
              "        -0.34328144, -0.52490163],\n",
              "       [ 0.15494049, -0.14947355,  0.65963371, ..., -0.68958306,\n",
              "        -0.30415242, -0.14117206]])"
            ]
          },
          "metadata": {},
          "execution_count": 48
        }
      ],
      "source": [
        "X"
      ]
    },
    {
      "cell_type": "code",
      "execution_count": null,
      "metadata": {
        "id": "gZ9DLF7OSL2E",
        "colab": {
          "base_uri": "https://localhost:8080/"
        },
        "outputId": "f7899c02-8b34-49e7-e71a-9c96e2a2a2b5"
      },
      "outputs": [
        {
          "output_type": "execute_result",
          "data": {
            "text/plain": [
              "0    AS\n",
              "1    AS\n",
              "2    AS\n",
              "3    AS\n",
              "4    AS\n",
              "Name: label, dtype: object"
            ]
          },
          "metadata": {},
          "execution_count": 49
        }
      ],
      "source": [
        "y.head()"
      ]
    },
    {
      "cell_type": "code",
      "execution_count": null,
      "metadata": {
        "id": "7MrlJELaSNbO"
      },
      "outputs": [],
      "source": [
        "X_train, X_test, y_train, y_test = train_test_split(X, y, test_size=0.2, random_state=42, stratify=y)"
      ]
    },
    {
      "cell_type": "code",
      "execution_count": null,
      "metadata": {
        "id": "lIKGzujdSr-H",
        "colab": {
          "base_uri": "https://localhost:8080/"
        },
        "outputId": "4b8d9492-a299-4e44-c329-1389e2af7538"
      },
      "outputs": [
        {
          "output_type": "execute_result",
          "data": {
            "text/plain": [
              "MS     40\n",
              "AS     40\n",
              "MR     40\n",
              "MVP    40\n",
              "N      40\n",
              "Name: label, dtype: int64"
            ]
          },
          "metadata": {},
          "execution_count": 51
        }
      ],
      "source": [
        "y_test.value_counts()"
      ]
    },
    {
      "cell_type": "code",
      "execution_count": null,
      "metadata": {
        "id": "aMvAFyjgepJU",
        "colab": {
          "base_uri": "https://localhost:8080/"
        },
        "outputId": "9e229c02-be1d-4e03-9d2d-8f7eabbca8ff"
      },
      "outputs": [
        {
          "output_type": "execute_result",
          "data": {
            "text/plain": [
              "(800, 20)"
            ]
          },
          "metadata": {},
          "execution_count": 52
        }
      ],
      "source": [
        "X_train.shape"
      ]
    },
    {
      "cell_type": "code",
      "execution_count": null,
      "metadata": {
        "id": "pw9YusQGTTP1",
        "colab": {
          "base_uri": "https://localhost:8080/"
        },
        "outputId": "2e6d4714-8907-47f1-ef69-1bc6b47528dd"
      },
      "outputs": [
        {
          "output_type": "stream",
          "name": "stdout",
          "text": [
            "Best CV params: {'C': 10, 'gamma': 0.1, 'kernel': 'rbf'}\n",
            "Best CV accuracy: 0.99125\n",
            "Test accuracy of best grid search hypers: 1.0\n"
          ]
        }
      ],
      "source": [
        "from sklearn.model_selection import GridSearchCV\n",
        "from sklearn.svm import SVC\n",
        "\n",
        "# Instantiate an RBF SVM\n",
        "svm = SVC(probability=True)\n",
        "\n",
        "# Instantiate the GridSearchCV object and run the search\n",
        "parameters = {'C':[0.1, 1, 10], 'gamma':[0.00001, 0.0001, 0.001, 0.01, 0.1] ,'kernel':['rbf', 'poly', 'sigmoid']}\n",
        "searcher = GridSearchCV(svm, parameters, cv=5)\n",
        "searcher.fit(X_train, y_train)\n",
        "\n",
        "# Report the best parameters and the corresponding score\n",
        "print(\"Best CV params:\", searcher.best_params_)\n",
        "print(\"Best CV accuracy:\", searcher.best_score_)\n",
        "\n",
        "# Report the test accuracy using these best parameters\n",
        "print(\"Test accuracy of best grid search hypers:\", searcher.score(X_test, y_test))"
      ]
    },
    {
      "cell_type": "code",
      "execution_count": null,
      "metadata": {
        "id": "Xr1_gQm_XxBq",
        "colab": {
          "base_uri": "https://localhost:8080/"
        },
        "outputId": "5d950204-1edf-465d-9dee-5353a5cd3e50"
      },
      "outputs": [
        {
          "output_type": "stream",
          "name": "stdout",
          "text": [
            "[[40  0  0  0  0]\n",
            " [ 0 40  0  0  0]\n",
            " [ 0  0 40  0  0]\n",
            " [ 0  0  0 40  0]\n",
            " [ 0  0  0  0 40]]\n",
            "              precision    recall  f1-score   support\n",
            "\n",
            "          AS       1.00      1.00      1.00        40\n",
            "          MR       1.00      1.00      1.00        40\n",
            "          MS       1.00      1.00      1.00        40\n",
            "         MVP       1.00      1.00      1.00        40\n",
            "           N       1.00      1.00      1.00        40\n",
            "\n",
            "    accuracy                           1.00       200\n",
            "   macro avg       1.00      1.00      1.00       200\n",
            "weighted avg       1.00      1.00      1.00       200\n",
            "\n"
          ]
        }
      ],
      "source": [
        "from sklearn.metrics import classification_report, confusion_matrix\n",
        "grid_predictions = searcher.predict(X_test)\n",
        "print(confusion_matrix(y_test,grid_predictions))\n",
        "print(classification_report(y_test,grid_predictions))"
      ]
    },
    {
      "cell_type": "code",
      "source": [
        "header = 'filename'\n",
        "for i in range(1, 21):\n",
        "  header += f' mfcc{i}'\n",
        "header += ' label'\n",
        "header = header.split()\n",
        "\n",
        "file = open('data.csv', 'w', newline='')\n",
        "with file:\n",
        "  writer = csv.writer(file)\n",
        "  writer.writerow(header)\n",
        "songname = f'/content/heartbeat-01a.wav'\n",
        "y, sr = librosa.load(songname, mono=True, duration=3, sr=8000)\n",
        "mfcc = librosa.feature.mfcc(y=y, sr=8000, n_mfcc=20, n_fft=2048, hop_length=512, n_mels=128)\n",
        "to_append = f'Signal'\n",
        "for e in mfcc:\n",
        "  to_append += f' {np.mean(e.T, axis=0)}'\n",
        "file = open('data.csv', 'a', newline='')\n",
        "with file:\n",
        "  writer = csv.writer(file)\n",
        "  writer.writerow(to_append.split())\n",
        "\n",
        "wav1 = wave.open(songname)\n",
        "wav1.getframerate()\n",
        "\n",
        "data = pd.read_csv('data.csv')\n",
        "data = data.drop(['filename', 'label'], axis=1)\n",
        "data.head()"
      ],
      "metadata": {
        "id": "bUgGZBZ3QbAg"
      },
      "execution_count": null,
      "outputs": []
    },
    {
      "cell_type": "code",
      "source": [
        "result = searcher.predict_proba(data)\n",
        "\n",
        "print(\"Prediksi Kondisi Katup Jantung: \\n\")\n",
        "print(\"Aortic Stenosi: {0:.2%}\".format(result[0, 0]))\n",
        "print(\"Mitral Regurgitation: {0:.2%}\".format(result[0, 1]))\n",
        "print(\"Mitral Stenosis: {0:.2%}\".format(result[0, 2]))\n",
        "print(\"Mitral Valve Prolapse: {0:.2%}\".format(result[0, 3]))\n",
        "print(\"Normal: {0:.2%}\".format(result[0, 4]))"
      ],
      "metadata": {
        "colab": {
          "base_uri": "https://localhost:8080/"
        },
        "id": "3dQeTDhdOvGe",
        "outputId": "0a7b0abd-2496-4759-b678-a88b0c27d3c9"
      },
      "execution_count": null,
      "outputs": [
        {
          "output_type": "stream",
          "name": "stdout",
          "text": [
            "Prediksi Kondisi Katup Jantung: \n",
            "\n",
            "Aortic Stenosi: 11.26%\n",
            "Mitral Regurgitation: 24.38%\n",
            "Mitral Stenosis: 29.07%\n",
            "Mitral Valve Prolapse: 34.24%\n",
            "Normal: 1.06%\n"
          ]
        },
        {
          "output_type": "stream",
          "name": "stderr",
          "text": [
            "/usr/local/lib/python3.8/dist-packages/sklearn/base.py:443: UserWarning: X has feature names, but SVC was fitted without feature names\n",
            "  warnings.warn(\n"
          ]
        }
      ]
    },
    {
      "cell_type": "code",
      "execution_count": null,
      "metadata": {
        "id": "U0aDNlNnWwSH"
      },
      "outputs": [],
      "source": [
        "# from sklearn.linear_model import SGDClassifier\n",
        "\n",
        "# # We set random_state=0 for reproducibility \n",
        "# linear_classifier = SGDClassifier(random_state=0)\n",
        "\n",
        "# # Instantiate the GridSearchCV object and run the search\n",
        "# parameters = {'alpha':[0.00001, 0.0001, 0.001, 0.01, 0.1, 1], \n",
        "#              'loss':['hinge', 'log_loss']}\n",
        "# searcher = GridSearchCV(linear_classifier, parameters, cv=10)\n",
        "# searcher.fit(X_train, y_train)\n",
        "\n",
        "# # Report the best parameters and the corresponding score\n",
        "# print(\"Best CV params\", searcher.best_params_)\n",
        "# print(\"Best CV accuracy\", searcher.best_score_)\n",
        "# print(\"Test accuracy of best grid search hypers:\", searcher.score(X_test, y_test))"
      ]
    },
    {
      "cell_type": "code",
      "execution_count": null,
      "metadata": {
        "id": "7MHHlnenSt4L"
      },
      "outputs": [],
      "source": [
        "# def keras_classifier(optimizer):\n",
        "#     x = Convolution2D(32, (4,4), padding=\"same\")(inp)\n",
        "#     x = BatchNormalization()(x)\n",
        "#     x = Activation(\"relu\")(x)\n",
        "#     x = MaxPool2D()(x)\n",
        "    \n",
        "#     x = Convolution2D(32*2, (4,10), padding=\"same\")(x)\n",
        "#     x = BatchNormalization()(x)\n",
        "#     x = Activation(\"relu\")(x)\n",
        "#     x = MaxPool2D()(x)\n",
        "    \n",
        "#     x = Convolution2D(32*3, (4,10), padding=\"same\")(x)\n",
        "#     x = BatchNormalization()(x)\n",
        "#     x = Activation(\"relu\")(x)\n",
        "#     x = MaxPool2D()(x)\n",
        "    \n",
        "#     x = Convolution2D(32*3, (4,10), padding=\"same\")(x)\n",
        "#     x = BatchNormalization()(x)\n",
        "#     x = Activation(\"relu\")(x)\n",
        "#     x = MaxPool2D()(x)\n",
        "\n",
        "#     x = Flatten()(x)\n",
        "#     x = Dense(64)(x)\n",
        "#     x = BatchNormalization()(x)\n",
        "#     x = Activation(\"relu\")(x)\n",
        "#     out = Dense(nclass, activation=softmax)(x)\n",
        "\n",
        "\n",
        "#     cf = Sequential()\n",
        "#     cf.add(Dense(units = 4, kernel_initializer = 'uniform', activation = 'relu', input_dim = 7))\n",
        "#     cf.add(Dense(units = 4, kernel_initializer = 'uniform', activation = 'relu'))\n",
        "#     cf.add(Dense(units = 1, kernel_initializer = 'uniform', activation = 'sigmoid'))\n",
        "#     cf.compile(optimizer = optimizer, loss = 'binary_crossentropy', metrics = ['accuracy'])\n",
        "#     return cf\n",
        "\n",
        "# cf = KerasClassifier(build_fn = keras_classifier)\n",
        "# parameters = {'batch_size': [2, 4, 8, 16],\n",
        "#               'epochs': [32, 64],\n",
        "#               'optimizer': ['adam', 'rmsprop']}\n",
        "# gv_search = GridSearchCV(estimator = cf,\n",
        "#                            param_grid = parameters,\n",
        "#                            scoring = 'accuracy',\n",
        "#                            cv = 5)\n",
        "# gv_search = gv_search.fit(X_train_scaled, y_train)\n",
        "# best_param = gv_search.best_params_\n",
        "# best_acc = gv_search.best_score_\n",
        "\n",
        "# print(best_param, best_acc)"
      ]
    }
  ],
  "metadata": {
    "colab": {
      "provenance": []
    },
    "kernelspec": {
      "display_name": "Python 3",
      "name": "python3"
    },
    "language_info": {
      "name": "python"
    }
  },
  "nbformat": 4,
  "nbformat_minor": 0
}